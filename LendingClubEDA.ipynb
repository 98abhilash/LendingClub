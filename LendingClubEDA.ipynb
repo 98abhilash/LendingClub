{
 "cells": [
  {
   "cell_type": "markdown",
   "id": "4f93f4f7",
   "metadata": {},
   "source": [
    "# Lending Club Case Study - Exploratory  Data Analysis"
   ]
  },
  {
   "cell_type": "markdown",
   "metadata": {},
   "source": [
    "# Notes\n",
    "\n",
    "- Remove rows with current loan status\n",
    "- loan_amnt, funded_amnt, funded_amnt_inv\n",
    "- Consider only loan_amnt - because need to decide before approval\n",
    "- Data Understanding\n",
    "- Data cleaning\n",
    "- Data Analysis\n",
    "- Recommendations \n",
    "- Data Cleaning\n",
    "- Check the percentage of missing values\n",
    "- Drop columns with high percentage of missing values\n",
    "- Perform imputations for less missing percentage values columns (Identify correct metric)\n",
    "- Median for outliers and mean for no outliers and mode for categorical data\n",
    "- Drop rows where the missing percentage is quite high\n",
    "\n",
    "- Drop columns having single value as data as it has no influence on the decision\n",
    "\n",
    "- For interest rate values are like 6.5%, do data cleaning and convert it into float data\n",
    "- For Employment length create your own rule and mention the assumptions (required float datatype)\n",
    "\n",
    "- Don't use variables which shows the behaviour of the applicants during the loan period\n",
    "- Use only variables that are presented when the applications was made\n",
    "\n",
    "- Three types of variables\n",
    "- - related to the applicant (demographic variables such as age, occupation, employment details, etc)\n",
    "- - Loan characteristics (amount of loan, interest rate, purpose of loan etc)\n",
    "- - Customer behavior (those which are generated after the loan is approved)\n",
    "\n",
    "- Customer behavior are not available at the time of loan application, thus they cannot be used as predictors\n",
    "- Loan status with current to be removed and tag other two as 0 and 1 for easy and clean analysis\n",
    "- Use cusotmer behavior data for others/past loan of the applicants collected from bureau orgs, drop current loan customer behavior\n",
    "\n",
    "### Few important variables\n",
    "\n",
    "- loan amnt\n",
    "- term\n",
    "- interest rate\n",
    "- grade\n",
    "- subgrade\n",
    "- annual income\n",
    "- purpose of loan\n",
    "- DTI (Debt to income)\n",
    "- Emp_length\n",
    "- Loan_Date (Month)\n",
    "- Home_Ownership\n",
    "- Verification_status \n",
    "- - Income Verified (pay slips, tax returns) \n",
    "- - Income source verified (1st party vendors has checked) \n",
    "- - Not verified\n",
    "\n",
    "### Customer behavior variables\n",
    "\n",
    "- delinq_2yrs\n",
    "- earlies_cr_line\n",
    "- inq_last_6mnths\n",
    "- open_acc\n",
    "- pub_rec\n",
    "- revol_bal\n",
    "- total_acc\n",
    "- out_prncp\n",
    "- out_prncp_inv\n",
    "- total_pymnt\n",
    "- total_pymnt_inv\n",
    "- total_rec_prncp\n",
    "- total_rec_int\n",
    "- total_rec_late_fee\n",
    "- last_pymnt_d\n",
    "- last_pymnt_amnt\n",
    "- last_credit_pull_d\n",
    "- application_type\n",
    "\n",
    "- Customer behavior variables are not available at the time of loan application and cannot be used as predictors\n",
    "- variables such as acc_now_delinq, chargeoff_with_12months etc (which are related to the applicants past loans) are avaiable from the credit bureau\n",
    "\n",
    "- Skip Description Variable (Need NLP)\n",
    "\n",
    "\n",
    "### Univariate Analysis\n",
    "### Bivariate Analysis"
   ]
  },
  {
   "cell_type": "markdown",
   "id": "952d6096",
   "metadata": {},
   "source": [
    "## Importing Necessary Libraries\n",
    "\n",
    "- Pandas for reading, writing and manipulating csv data\n",
    "- Numpy for numerical calculations\n",
    "- Matplotlib and Seaborn for visualization"
   ]
  },
  {
   "cell_type": "code",
   "execution_count": 190,
   "metadata": {},
   "outputs": [],
   "source": [
    "import pandas as pd\n",
    "import numpy as np\n",
    "import matplotlib.pyplot as plt\n",
    "import seaborn as sns\n",
    "import warnings\n",
    "warnings.filterwarnings(\"ignore\")\n",
    "\n",
    "plt.style.use('ggplot')"
   ]
  },
  {
   "cell_type": "markdown",
   "metadata": {},
   "source": [
    "## Reading the CSV file"
   ]
  },
  {
   "cell_type": "code",
   "execution_count": 191,
   "metadata": {},
   "outputs": [
    {
     "data": {
      "text/html": [
       "<div>\n",
       "<style scoped>\n",
       "    .dataframe tbody tr th:only-of-type {\n",
       "        vertical-align: middle;\n",
       "    }\n",
       "\n",
       "    .dataframe tbody tr th {\n",
       "        vertical-align: top;\n",
       "    }\n",
       "\n",
       "    .dataframe thead th {\n",
       "        text-align: right;\n",
       "    }\n",
       "</style>\n",
       "<table border=\"1\" class=\"dataframe\">\n",
       "  <thead>\n",
       "    <tr style=\"text-align: right;\">\n",
       "      <th></th>\n",
       "      <th>id</th>\n",
       "      <th>member_id</th>\n",
       "      <th>loan_amnt</th>\n",
       "      <th>funded_amnt</th>\n",
       "      <th>funded_amnt_inv</th>\n",
       "      <th>term</th>\n",
       "      <th>int_rate</th>\n",
       "      <th>installment</th>\n",
       "      <th>grade</th>\n",
       "      <th>sub_grade</th>\n",
       "      <th>...</th>\n",
       "      <th>num_tl_90g_dpd_24m</th>\n",
       "      <th>num_tl_op_past_12m</th>\n",
       "      <th>pct_tl_nvr_dlq</th>\n",
       "      <th>percent_bc_gt_75</th>\n",
       "      <th>pub_rec_bankruptcies</th>\n",
       "      <th>tax_liens</th>\n",
       "      <th>tot_hi_cred_lim</th>\n",
       "      <th>total_bal_ex_mort</th>\n",
       "      <th>total_bc_limit</th>\n",
       "      <th>total_il_high_credit_limit</th>\n",
       "    </tr>\n",
       "  </thead>\n",
       "  <tbody>\n",
       "    <tr>\n",
       "      <th>0</th>\n",
       "      <td>1077501</td>\n",
       "      <td>1296599</td>\n",
       "      <td>5000</td>\n",
       "      <td>5000</td>\n",
       "      <td>4975.0</td>\n",
       "      <td>36 months</td>\n",
       "      <td>10.65%</td>\n",
       "      <td>162.87</td>\n",
       "      <td>B</td>\n",
       "      <td>B2</td>\n",
       "      <td>...</td>\n",
       "      <td>NaN</td>\n",
       "      <td>NaN</td>\n",
       "      <td>NaN</td>\n",
       "      <td>NaN</td>\n",
       "      <td>0.0</td>\n",
       "      <td>0.0</td>\n",
       "      <td>NaN</td>\n",
       "      <td>NaN</td>\n",
       "      <td>NaN</td>\n",
       "      <td>NaN</td>\n",
       "    </tr>\n",
       "    <tr>\n",
       "      <th>1</th>\n",
       "      <td>1077430</td>\n",
       "      <td>1314167</td>\n",
       "      <td>2500</td>\n",
       "      <td>2500</td>\n",
       "      <td>2500.0</td>\n",
       "      <td>60 months</td>\n",
       "      <td>15.27%</td>\n",
       "      <td>59.83</td>\n",
       "      <td>C</td>\n",
       "      <td>C4</td>\n",
       "      <td>...</td>\n",
       "      <td>NaN</td>\n",
       "      <td>NaN</td>\n",
       "      <td>NaN</td>\n",
       "      <td>NaN</td>\n",
       "      <td>0.0</td>\n",
       "      <td>0.0</td>\n",
       "      <td>NaN</td>\n",
       "      <td>NaN</td>\n",
       "      <td>NaN</td>\n",
       "      <td>NaN</td>\n",
       "    </tr>\n",
       "    <tr>\n",
       "      <th>2</th>\n",
       "      <td>1077175</td>\n",
       "      <td>1313524</td>\n",
       "      <td>2400</td>\n",
       "      <td>2400</td>\n",
       "      <td>2400.0</td>\n",
       "      <td>36 months</td>\n",
       "      <td>15.96%</td>\n",
       "      <td>84.33</td>\n",
       "      <td>C</td>\n",
       "      <td>C5</td>\n",
       "      <td>...</td>\n",
       "      <td>NaN</td>\n",
       "      <td>NaN</td>\n",
       "      <td>NaN</td>\n",
       "      <td>NaN</td>\n",
       "      <td>0.0</td>\n",
       "      <td>0.0</td>\n",
       "      <td>NaN</td>\n",
       "      <td>NaN</td>\n",
       "      <td>NaN</td>\n",
       "      <td>NaN</td>\n",
       "    </tr>\n",
       "    <tr>\n",
       "      <th>3</th>\n",
       "      <td>1076863</td>\n",
       "      <td>1277178</td>\n",
       "      <td>10000</td>\n",
       "      <td>10000</td>\n",
       "      <td>10000.0</td>\n",
       "      <td>36 months</td>\n",
       "      <td>13.49%</td>\n",
       "      <td>339.31</td>\n",
       "      <td>C</td>\n",
       "      <td>C1</td>\n",
       "      <td>...</td>\n",
       "      <td>NaN</td>\n",
       "      <td>NaN</td>\n",
       "      <td>NaN</td>\n",
       "      <td>NaN</td>\n",
       "      <td>0.0</td>\n",
       "      <td>0.0</td>\n",
       "      <td>NaN</td>\n",
       "      <td>NaN</td>\n",
       "      <td>NaN</td>\n",
       "      <td>NaN</td>\n",
       "    </tr>\n",
       "    <tr>\n",
       "      <th>4</th>\n",
       "      <td>1075358</td>\n",
       "      <td>1311748</td>\n",
       "      <td>3000</td>\n",
       "      <td>3000</td>\n",
       "      <td>3000.0</td>\n",
       "      <td>60 months</td>\n",
       "      <td>12.69%</td>\n",
       "      <td>67.79</td>\n",
       "      <td>B</td>\n",
       "      <td>B5</td>\n",
       "      <td>...</td>\n",
       "      <td>NaN</td>\n",
       "      <td>NaN</td>\n",
       "      <td>NaN</td>\n",
       "      <td>NaN</td>\n",
       "      <td>0.0</td>\n",
       "      <td>0.0</td>\n",
       "      <td>NaN</td>\n",
       "      <td>NaN</td>\n",
       "      <td>NaN</td>\n",
       "      <td>NaN</td>\n",
       "    </tr>\n",
       "  </tbody>\n",
       "</table>\n",
       "<p>5 rows × 111 columns</p>\n",
       "</div>"
      ],
      "text/plain": [
       "        id  member_id  loan_amnt  funded_amnt  funded_amnt_inv        term  \\\n",
       "0  1077501    1296599       5000         5000           4975.0   36 months   \n",
       "1  1077430    1314167       2500         2500           2500.0   60 months   \n",
       "2  1077175    1313524       2400         2400           2400.0   36 months   \n",
       "3  1076863    1277178      10000        10000          10000.0   36 months   \n",
       "4  1075358    1311748       3000         3000           3000.0   60 months   \n",
       "\n",
       "  int_rate  installment grade sub_grade  ... num_tl_90g_dpd_24m  \\\n",
       "0   10.65%       162.87     B        B2  ...                NaN   \n",
       "1   15.27%        59.83     C        C4  ...                NaN   \n",
       "2   15.96%        84.33     C        C5  ...                NaN   \n",
       "3   13.49%       339.31     C        C1  ...                NaN   \n",
       "4   12.69%        67.79     B        B5  ...                NaN   \n",
       "\n",
       "  num_tl_op_past_12m pct_tl_nvr_dlq  percent_bc_gt_75 pub_rec_bankruptcies  \\\n",
       "0                NaN            NaN               NaN                  0.0   \n",
       "1                NaN            NaN               NaN                  0.0   \n",
       "2                NaN            NaN               NaN                  0.0   \n",
       "3                NaN            NaN               NaN                  0.0   \n",
       "4                NaN            NaN               NaN                  0.0   \n",
       "\n",
       "  tax_liens tot_hi_cred_lim total_bal_ex_mort total_bc_limit  \\\n",
       "0       0.0             NaN               NaN            NaN   \n",
       "1       0.0             NaN               NaN            NaN   \n",
       "2       0.0             NaN               NaN            NaN   \n",
       "3       0.0             NaN               NaN            NaN   \n",
       "4       0.0             NaN               NaN            NaN   \n",
       "\n",
       "  total_il_high_credit_limit  \n",
       "0                        NaN  \n",
       "1                        NaN  \n",
       "2                        NaN  \n",
       "3                        NaN  \n",
       "4                        NaN  \n",
       "\n",
       "[5 rows x 111 columns]"
      ]
     },
     "execution_count": 191,
     "metadata": {},
     "output_type": "execute_result"
    }
   ],
   "source": [
    "df = pd.read_csv('loan/loan.csv')\n",
    "df.head()"
   ]
  },
  {
   "cell_type": "markdown",
   "id": "624c437d",
   "metadata": {},
   "source": [
    "Removing column id and member id as it has no signficance in predicting whether the applicant will default or not"
   ]
  },
  {
   "cell_type": "code",
   "execution_count": 192,
   "metadata": {},
   "outputs": [],
   "source": [
    "del df['id']\n",
    "del df['member_id']"
   ]
  },
  {
   "cell_type": "markdown",
   "id": "d9639366",
   "metadata": {},
   "source": [
    "Lisnting all the columns"
   ]
  },
  {
   "cell_type": "code",
   "execution_count": 193,
   "id": "74d77859",
   "metadata": {},
   "outputs": [
    {
     "data": {
      "text/plain": [
       "Index(['loan_amnt', 'funded_amnt', 'funded_amnt_inv', 'term', 'int_rate',\n",
       "       'installment', 'grade', 'sub_grade', 'emp_title', 'emp_length',\n",
       "       ...\n",
       "       'num_tl_90g_dpd_24m', 'num_tl_op_past_12m', 'pct_tl_nvr_dlq',\n",
       "       'percent_bc_gt_75', 'pub_rec_bankruptcies', 'tax_liens',\n",
       "       'tot_hi_cred_lim', 'total_bal_ex_mort', 'total_bc_limit',\n",
       "       'total_il_high_credit_limit'],\n",
       "      dtype='object', length=109)"
      ]
     },
     "execution_count": 193,
     "metadata": {},
     "output_type": "execute_result"
    }
   ],
   "source": [
    "df.columns"
   ]
  },
  {
   "cell_type": "markdown",
   "id": "2e94e648",
   "metadata": {},
   "source": [
    "- delinq_2yrs\n",
    "- earlies_cr_line\n",
    "- inq_last_6mnths\n",
    "- open_acc\n",
    "- pub_rec\n",
    "- revol_bal\n",
    "- total_acc\n",
    "- out_prncp\n",
    "- out_prncp_inv\n",
    "- total_pymnt\n",
    "- total_pymnt_inv\n",
    "- total_rec_prncp\n",
    "- total_rec_int\n",
    "- total_rec_late_fee\n",
    "- last_pymnt_d\n",
    "- last_pymnt_amnt\n",
    "- last_credit_pull_d\n",
    "- application_type"
   ]
  },
  {
   "cell_type": "markdown",
   "id": "16b4d23d",
   "metadata": {},
   "source": [
    "Printing all the information, shape and metrics of the dataframe"
   ]
  },
  {
   "cell_type": "code",
   "execution_count": 194,
   "metadata": {},
   "outputs": [
    {
     "name": "stdout",
     "output_type": "stream",
     "text": [
      "<class 'pandas.core.frame.DataFrame'>\n",
      "RangeIndex: 39717 entries, 0 to 39716\n",
      "Columns: 109 entries, loan_amnt to total_il_high_credit_limit\n",
      "dtypes: float64(74), int64(11), object(24)\n",
      "memory usage: 33.0+ MB\n",
      "None\n",
      "(39717, 109)\n"
     ]
    },
    {
     "data": {
      "text/html": [
       "<div>\n",
       "<style scoped>\n",
       "    .dataframe tbody tr th:only-of-type {\n",
       "        vertical-align: middle;\n",
       "    }\n",
       "\n",
       "    .dataframe tbody tr th {\n",
       "        vertical-align: top;\n",
       "    }\n",
       "\n",
       "    .dataframe thead th {\n",
       "        text-align: right;\n",
       "    }\n",
       "</style>\n",
       "<table border=\"1\" class=\"dataframe\">\n",
       "  <thead>\n",
       "    <tr style=\"text-align: right;\">\n",
       "      <th></th>\n",
       "      <th>loan_amnt</th>\n",
       "      <th>funded_amnt</th>\n",
       "      <th>funded_amnt_inv</th>\n",
       "      <th>installment</th>\n",
       "      <th>annual_inc</th>\n",
       "      <th>dti</th>\n",
       "      <th>delinq_2yrs</th>\n",
       "      <th>inq_last_6mths</th>\n",
       "      <th>mths_since_last_delinq</th>\n",
       "      <th>mths_since_last_record</th>\n",
       "      <th>...</th>\n",
       "      <th>num_tl_90g_dpd_24m</th>\n",
       "      <th>num_tl_op_past_12m</th>\n",
       "      <th>pct_tl_nvr_dlq</th>\n",
       "      <th>percent_bc_gt_75</th>\n",
       "      <th>pub_rec_bankruptcies</th>\n",
       "      <th>tax_liens</th>\n",
       "      <th>tot_hi_cred_lim</th>\n",
       "      <th>total_bal_ex_mort</th>\n",
       "      <th>total_bc_limit</th>\n",
       "      <th>total_il_high_credit_limit</th>\n",
       "    </tr>\n",
       "  </thead>\n",
       "  <tbody>\n",
       "    <tr>\n",
       "      <th>count</th>\n",
       "      <td>39717.000000</td>\n",
       "      <td>39717.000000</td>\n",
       "      <td>39717.000000</td>\n",
       "      <td>39717.000000</td>\n",
       "      <td>3.971700e+04</td>\n",
       "      <td>39717.000000</td>\n",
       "      <td>39717.000000</td>\n",
       "      <td>39717.000000</td>\n",
       "      <td>14035.000000</td>\n",
       "      <td>2786.000000</td>\n",
       "      <td>...</td>\n",
       "      <td>0.0</td>\n",
       "      <td>0.0</td>\n",
       "      <td>0.0</td>\n",
       "      <td>0.0</td>\n",
       "      <td>39020.000000</td>\n",
       "      <td>39678.0</td>\n",
       "      <td>0.0</td>\n",
       "      <td>0.0</td>\n",
       "      <td>0.0</td>\n",
       "      <td>0.0</td>\n",
       "    </tr>\n",
       "    <tr>\n",
       "      <th>mean</th>\n",
       "      <td>11219.443815</td>\n",
       "      <td>10947.713196</td>\n",
       "      <td>10397.448868</td>\n",
       "      <td>324.561922</td>\n",
       "      <td>6.896893e+04</td>\n",
       "      <td>13.315130</td>\n",
       "      <td>0.146512</td>\n",
       "      <td>0.869200</td>\n",
       "      <td>35.900962</td>\n",
       "      <td>69.698134</td>\n",
       "      <td>...</td>\n",
       "      <td>NaN</td>\n",
       "      <td>NaN</td>\n",
       "      <td>NaN</td>\n",
       "      <td>NaN</td>\n",
       "      <td>0.043260</td>\n",
       "      <td>0.0</td>\n",
       "      <td>NaN</td>\n",
       "      <td>NaN</td>\n",
       "      <td>NaN</td>\n",
       "      <td>NaN</td>\n",
       "    </tr>\n",
       "    <tr>\n",
       "      <th>std</th>\n",
       "      <td>7456.670694</td>\n",
       "      <td>7187.238670</td>\n",
       "      <td>7128.450439</td>\n",
       "      <td>208.874874</td>\n",
       "      <td>6.379377e+04</td>\n",
       "      <td>6.678594</td>\n",
       "      <td>0.491812</td>\n",
       "      <td>1.070219</td>\n",
       "      <td>22.020060</td>\n",
       "      <td>43.822529</td>\n",
       "      <td>...</td>\n",
       "      <td>NaN</td>\n",
       "      <td>NaN</td>\n",
       "      <td>NaN</td>\n",
       "      <td>NaN</td>\n",
       "      <td>0.204324</td>\n",
       "      <td>0.0</td>\n",
       "      <td>NaN</td>\n",
       "      <td>NaN</td>\n",
       "      <td>NaN</td>\n",
       "      <td>NaN</td>\n",
       "    </tr>\n",
       "    <tr>\n",
       "      <th>min</th>\n",
       "      <td>500.000000</td>\n",
       "      <td>500.000000</td>\n",
       "      <td>0.000000</td>\n",
       "      <td>15.690000</td>\n",
       "      <td>4.000000e+03</td>\n",
       "      <td>0.000000</td>\n",
       "      <td>0.000000</td>\n",
       "      <td>0.000000</td>\n",
       "      <td>0.000000</td>\n",
       "      <td>0.000000</td>\n",
       "      <td>...</td>\n",
       "      <td>NaN</td>\n",
       "      <td>NaN</td>\n",
       "      <td>NaN</td>\n",
       "      <td>NaN</td>\n",
       "      <td>0.000000</td>\n",
       "      <td>0.0</td>\n",
       "      <td>NaN</td>\n",
       "      <td>NaN</td>\n",
       "      <td>NaN</td>\n",
       "      <td>NaN</td>\n",
       "    </tr>\n",
       "    <tr>\n",
       "      <th>25%</th>\n",
       "      <td>5500.000000</td>\n",
       "      <td>5400.000000</td>\n",
       "      <td>5000.000000</td>\n",
       "      <td>167.020000</td>\n",
       "      <td>4.040400e+04</td>\n",
       "      <td>8.170000</td>\n",
       "      <td>0.000000</td>\n",
       "      <td>0.000000</td>\n",
       "      <td>18.000000</td>\n",
       "      <td>22.000000</td>\n",
       "      <td>...</td>\n",
       "      <td>NaN</td>\n",
       "      <td>NaN</td>\n",
       "      <td>NaN</td>\n",
       "      <td>NaN</td>\n",
       "      <td>0.000000</td>\n",
       "      <td>0.0</td>\n",
       "      <td>NaN</td>\n",
       "      <td>NaN</td>\n",
       "      <td>NaN</td>\n",
       "      <td>NaN</td>\n",
       "    </tr>\n",
       "    <tr>\n",
       "      <th>50%</th>\n",
       "      <td>10000.000000</td>\n",
       "      <td>9600.000000</td>\n",
       "      <td>8975.000000</td>\n",
       "      <td>280.220000</td>\n",
       "      <td>5.900000e+04</td>\n",
       "      <td>13.400000</td>\n",
       "      <td>0.000000</td>\n",
       "      <td>1.000000</td>\n",
       "      <td>34.000000</td>\n",
       "      <td>90.000000</td>\n",
       "      <td>...</td>\n",
       "      <td>NaN</td>\n",
       "      <td>NaN</td>\n",
       "      <td>NaN</td>\n",
       "      <td>NaN</td>\n",
       "      <td>0.000000</td>\n",
       "      <td>0.0</td>\n",
       "      <td>NaN</td>\n",
       "      <td>NaN</td>\n",
       "      <td>NaN</td>\n",
       "      <td>NaN</td>\n",
       "    </tr>\n",
       "    <tr>\n",
       "      <th>75%</th>\n",
       "      <td>15000.000000</td>\n",
       "      <td>15000.000000</td>\n",
       "      <td>14400.000000</td>\n",
       "      <td>430.780000</td>\n",
       "      <td>8.230000e+04</td>\n",
       "      <td>18.600000</td>\n",
       "      <td>0.000000</td>\n",
       "      <td>1.000000</td>\n",
       "      <td>52.000000</td>\n",
       "      <td>104.000000</td>\n",
       "      <td>...</td>\n",
       "      <td>NaN</td>\n",
       "      <td>NaN</td>\n",
       "      <td>NaN</td>\n",
       "      <td>NaN</td>\n",
       "      <td>0.000000</td>\n",
       "      <td>0.0</td>\n",
       "      <td>NaN</td>\n",
       "      <td>NaN</td>\n",
       "      <td>NaN</td>\n",
       "      <td>NaN</td>\n",
       "    </tr>\n",
       "    <tr>\n",
       "      <th>max</th>\n",
       "      <td>35000.000000</td>\n",
       "      <td>35000.000000</td>\n",
       "      <td>35000.000000</td>\n",
       "      <td>1305.190000</td>\n",
       "      <td>6.000000e+06</td>\n",
       "      <td>29.990000</td>\n",
       "      <td>11.000000</td>\n",
       "      <td>8.000000</td>\n",
       "      <td>120.000000</td>\n",
       "      <td>129.000000</td>\n",
       "      <td>...</td>\n",
       "      <td>NaN</td>\n",
       "      <td>NaN</td>\n",
       "      <td>NaN</td>\n",
       "      <td>NaN</td>\n",
       "      <td>2.000000</td>\n",
       "      <td>0.0</td>\n",
       "      <td>NaN</td>\n",
       "      <td>NaN</td>\n",
       "      <td>NaN</td>\n",
       "      <td>NaN</td>\n",
       "    </tr>\n",
       "  </tbody>\n",
       "</table>\n",
       "<p>8 rows × 85 columns</p>\n",
       "</div>"
      ],
      "text/plain": [
       "          loan_amnt   funded_amnt  funded_amnt_inv   installment  \\\n",
       "count  39717.000000  39717.000000     39717.000000  39717.000000   \n",
       "mean   11219.443815  10947.713196     10397.448868    324.561922   \n",
       "std     7456.670694   7187.238670      7128.450439    208.874874   \n",
       "min      500.000000    500.000000         0.000000     15.690000   \n",
       "25%     5500.000000   5400.000000      5000.000000    167.020000   \n",
       "50%    10000.000000   9600.000000      8975.000000    280.220000   \n",
       "75%    15000.000000  15000.000000     14400.000000    430.780000   \n",
       "max    35000.000000  35000.000000     35000.000000   1305.190000   \n",
       "\n",
       "         annual_inc           dti   delinq_2yrs  inq_last_6mths  \\\n",
       "count  3.971700e+04  39717.000000  39717.000000    39717.000000   \n",
       "mean   6.896893e+04     13.315130      0.146512        0.869200   \n",
       "std    6.379377e+04      6.678594      0.491812        1.070219   \n",
       "min    4.000000e+03      0.000000      0.000000        0.000000   \n",
       "25%    4.040400e+04      8.170000      0.000000        0.000000   \n",
       "50%    5.900000e+04     13.400000      0.000000        1.000000   \n",
       "75%    8.230000e+04     18.600000      0.000000        1.000000   \n",
       "max    6.000000e+06     29.990000     11.000000        8.000000   \n",
       "\n",
       "       mths_since_last_delinq  mths_since_last_record  ...  \\\n",
       "count            14035.000000             2786.000000  ...   \n",
       "mean                35.900962               69.698134  ...   \n",
       "std                 22.020060               43.822529  ...   \n",
       "min                  0.000000                0.000000  ...   \n",
       "25%                 18.000000               22.000000  ...   \n",
       "50%                 34.000000               90.000000  ...   \n",
       "75%                 52.000000              104.000000  ...   \n",
       "max                120.000000              129.000000  ...   \n",
       "\n",
       "       num_tl_90g_dpd_24m  num_tl_op_past_12m  pct_tl_nvr_dlq  \\\n",
       "count                 0.0                 0.0             0.0   \n",
       "mean                  NaN                 NaN             NaN   \n",
       "std                   NaN                 NaN             NaN   \n",
       "min                   NaN                 NaN             NaN   \n",
       "25%                   NaN                 NaN             NaN   \n",
       "50%                   NaN                 NaN             NaN   \n",
       "75%                   NaN                 NaN             NaN   \n",
       "max                   NaN                 NaN             NaN   \n",
       "\n",
       "       percent_bc_gt_75  pub_rec_bankruptcies  tax_liens  tot_hi_cred_lim  \\\n",
       "count               0.0          39020.000000    39678.0              0.0   \n",
       "mean                NaN              0.043260        0.0              NaN   \n",
       "std                 NaN              0.204324        0.0              NaN   \n",
       "min                 NaN              0.000000        0.0              NaN   \n",
       "25%                 NaN              0.000000        0.0              NaN   \n",
       "50%                 NaN              0.000000        0.0              NaN   \n",
       "75%                 NaN              0.000000        0.0              NaN   \n",
       "max                 NaN              2.000000        0.0              NaN   \n",
       "\n",
       "       total_bal_ex_mort  total_bc_limit  total_il_high_credit_limit  \n",
       "count                0.0             0.0                         0.0  \n",
       "mean                 NaN             NaN                         NaN  \n",
       "std                  NaN             NaN                         NaN  \n",
       "min                  NaN             NaN                         NaN  \n",
       "25%                  NaN             NaN                         NaN  \n",
       "50%                  NaN             NaN                         NaN  \n",
       "75%                  NaN             NaN                         NaN  \n",
       "max                  NaN             NaN                         NaN  \n",
       "\n",
       "[8 rows x 85 columns]"
      ]
     },
     "execution_count": 194,
     "metadata": {},
     "output_type": "execute_result"
    }
   ],
   "source": [
    "print(df.info())\n",
    "print(df.shape)\n",
    "df.describe()"
   ]
  },
  {
   "cell_type": "markdown",
   "id": "603890f4",
   "metadata": {},
   "source": [
    "## Data Cleaning"
   ]
  },
  {
   "cell_type": "markdown",
   "id": "5e17bb83",
   "metadata": {},
   "source": [
    "Finding all the columns having missing values"
   ]
  },
  {
   "cell_type": "code",
   "execution_count": 195,
   "metadata": {},
   "outputs": [
    {
     "data": {
      "text/plain": [
       "loan_amnt                         0\n",
       "funded_amnt                       0\n",
       "funded_amnt_inv                   0\n",
       "term                              0\n",
       "int_rate                          0\n",
       "                              ...  \n",
       "tax_liens                        39\n",
       "tot_hi_cred_lim               39717\n",
       "total_bal_ex_mort             39717\n",
       "total_bc_limit                39717\n",
       "total_il_high_credit_limit    39717\n",
       "Length: 109, dtype: int64"
      ]
     },
     "execution_count": 195,
     "metadata": {},
     "output_type": "execute_result"
    }
   ],
   "source": [
    "df.isnull().sum()"
   ]
  },
  {
   "cell_type": "markdown",
   "id": "959bca05",
   "metadata": {},
   "source": [
    "Finding columns with missing values with their respective percentage"
   ]
  },
  {
   "cell_type": "code",
   "execution_count": 196,
   "metadata": {},
   "outputs": [
    {
     "name": "stdout",
     "output_type": "stream",
     "text": [
      "Missing values in terms of Percentage\n",
      "emp_title has 6.19130347206486% missing values\n",
      "emp_length has 2.7066495455346598% missing values\n",
      "desc has 32.58050708764509% missing values\n",
      "title has 0.02769594883802995% missing values\n",
      "mths_since_last_delinq has 64.66248709620567% missing values\n",
      "mths_since_last_record has 92.98537150338646% missing values\n",
      "revol_util has 0.12589067653649977% missing values\n",
      "last_pymnt_d has 0.17876476068182967% missing values\n",
      "next_pymnt_d has 97.12969257496789% missing values\n",
      "last_credit_pull_d has 0.005035627061459991% missing values\n",
      "collections_12_mths_ex_med has 0.14099755772087974% missing values\n",
      "mths_since_last_major_derog has 100.0% missing values\n",
      "annual_inc_joint has 100.0% missing values\n",
      "dti_joint has 100.0% missing values\n",
      "verification_status_joint has 100.0% missing values\n",
      "tot_coll_amt has 100.0% missing values\n",
      "tot_cur_bal has 100.0% missing values\n",
      "open_acc_6m has 100.0% missing values\n",
      "open_il_6m has 100.0% missing values\n",
      "open_il_12m has 100.0% missing values\n",
      "open_il_24m has 100.0% missing values\n",
      "mths_since_rcnt_il has 100.0% missing values\n",
      "total_bal_il has 100.0% missing values\n",
      "il_util has 100.0% missing values\n",
      "open_rv_12m has 100.0% missing values\n",
      "open_rv_24m has 100.0% missing values\n",
      "max_bal_bc has 100.0% missing values\n",
      "all_util has 100.0% missing values\n",
      "total_rev_hi_lim has 100.0% missing values\n",
      "inq_fi has 100.0% missing values\n",
      "total_cu_tl has 100.0% missing values\n",
      "inq_last_12m has 100.0% missing values\n",
      "acc_open_past_24mths has 100.0% missing values\n",
      "avg_cur_bal has 100.0% missing values\n",
      "bc_open_to_buy has 100.0% missing values\n",
      "bc_util has 100.0% missing values\n",
      "chargeoff_within_12_mths has 0.14099755772087974% missing values\n",
      "mo_sin_old_il_acct has 100.0% missing values\n",
      "mo_sin_old_rev_tl_op has 100.0% missing values\n",
      "mo_sin_rcnt_rev_tl_op has 100.0% missing values\n",
      "mo_sin_rcnt_tl has 100.0% missing values\n",
      "mort_acc has 100.0% missing values\n",
      "mths_since_recent_bc has 100.0% missing values\n",
      "mths_since_recent_bc_dlq has 100.0% missing values\n",
      "mths_since_recent_inq has 100.0% missing values\n",
      "mths_since_recent_revol_delinq has 100.0% missing values\n",
      "num_accts_ever_120_pd has 100.0% missing values\n",
      "num_actv_bc_tl has 100.0% missing values\n",
      "num_actv_rev_tl has 100.0% missing values\n",
      "num_bc_sats has 100.0% missing values\n",
      "num_bc_tl has 100.0% missing values\n",
      "num_il_tl has 100.0% missing values\n",
      "num_op_rev_tl has 100.0% missing values\n",
      "num_rev_accts has 100.0% missing values\n",
      "num_rev_tl_bal_gt_0 has 100.0% missing values\n",
      "num_sats has 100.0% missing values\n",
      "num_tl_120dpd_2m has 100.0% missing values\n",
      "num_tl_30dpd has 100.0% missing values\n",
      "num_tl_90g_dpd_24m has 100.0% missing values\n",
      "num_tl_op_past_12m has 100.0% missing values\n",
      "pct_tl_nvr_dlq has 100.0% missing values\n",
      "percent_bc_gt_75 has 100.0% missing values\n",
      "pub_rec_bankruptcies has 1.75491603091875% missing values\n",
      "tax_liens has 0.09819472769846982% missing values\n",
      "tot_hi_cred_lim has 100.0% missing values\n",
      "total_bal_ex_mort has 100.0% missing values\n",
      "total_bc_limit has 100.0% missing values\n",
      "total_il_high_credit_limit has 100.0% missing values\n"
     ]
    }
   ],
   "source": [
    "print(\"Missing values in terms of Percentage\")\n",
    "\n",
    "for column in df:\n",
    "    percent = 100 - (df[column].count() / len(df))*100\n",
    "    if percent > 0:\n",
    "        print(column + ' has ' + str(percent) + \"% missing values\")"
   ]
  },
  {
   "cell_type": "markdown",
   "id": "cd213f6e",
   "metadata": {},
   "source": [
    "Dropping all the columns having more than 50% missing values"
   ]
  },
  {
   "cell_type": "code",
   "execution_count": 197,
   "metadata": {},
   "outputs": [
    {
     "name": "stdout",
     "output_type": "stream",
     "text": [
      "List of dropped columns: mths_since_last_delinq, mths_since_last_record, next_pymnt_d, mths_since_last_major_derog, annual_inc_joint, dti_joint, verification_status_joint, tot_coll_amt, tot_cur_bal, open_acc_6m, open_il_6m, open_il_12m, open_il_24m, mths_since_rcnt_il, total_bal_il, il_util, open_rv_12m, open_rv_24m, max_bal_bc, all_util, total_rev_hi_lim, inq_fi, total_cu_tl, inq_last_12m, acc_open_past_24mths, avg_cur_bal, bc_open_to_buy, bc_util, mo_sin_old_il_acct, mo_sin_old_rev_tl_op, mo_sin_rcnt_rev_tl_op, mo_sin_rcnt_tl, mort_acc, mths_since_recent_bc, mths_since_recent_bc_dlq, mths_since_recent_inq, mths_since_recent_revol_delinq, num_accts_ever_120_pd, num_actv_bc_tl, num_actv_rev_tl, num_bc_sats, num_bc_tl, num_il_tl, num_op_rev_tl, num_rev_accts, num_rev_tl_bal_gt_0, num_sats, num_tl_120dpd_2m, num_tl_30dpd, num_tl_90g_dpd_24m, num_tl_op_past_12m, pct_tl_nvr_dlq, percent_bc_gt_75, tot_hi_cred_lim, total_bal_ex_mort, total_bc_limit, total_il_high_credit_limit, \n",
      "\n"
     ]
    }
   ],
   "source": [
    "df2 = df[[column for column in df if df[column].count() / len(df) >= 0.5]]\n",
    "\n",
    "print(\"List of dropped columns:\", end=\" \")\n",
    "for c in df.columns:\n",
    "    if c not in df2.columns:\n",
    "        print(c, end=\", \")\n",
    "print('\\n')\n",
    "df = df2"
   ]
  },
  {
   "cell_type": "markdown",
   "id": "392b2136",
   "metadata": {},
   "source": [
    "Printing information and shape of the dataframe after dropping columns having more than 50% missing values"
   ]
  },
  {
   "cell_type": "code",
   "execution_count": 198,
   "metadata": {},
   "outputs": [
    {
     "name": "stdout",
     "output_type": "stream",
     "text": [
      "<class 'pandas.core.frame.DataFrame'>\n",
      "RangeIndex: 39717 entries, 0 to 39716\n",
      "Data columns (total 52 columns):\n",
      " #   Column                      Non-Null Count  Dtype  \n",
      "---  ------                      --------------  -----  \n",
      " 0   loan_amnt                   39717 non-null  int64  \n",
      " 1   funded_amnt                 39717 non-null  int64  \n",
      " 2   funded_amnt_inv             39717 non-null  float64\n",
      " 3   term                        39717 non-null  object \n",
      " 4   int_rate                    39717 non-null  object \n",
      " 5   installment                 39717 non-null  float64\n",
      " 6   grade                       39717 non-null  object \n",
      " 7   sub_grade                   39717 non-null  object \n",
      " 8   emp_title                   37258 non-null  object \n",
      " 9   emp_length                  38642 non-null  object \n",
      " 10  home_ownership              39717 non-null  object \n",
      " 11  annual_inc                  39717 non-null  float64\n",
      " 12  verification_status         39717 non-null  object \n",
      " 13  issue_d                     39717 non-null  object \n",
      " 14  loan_status                 39717 non-null  object \n",
      " 15  pymnt_plan                  39717 non-null  object \n",
      " 16  url                         39717 non-null  object \n",
      " 17  desc                        26777 non-null  object \n",
      " 18  purpose                     39717 non-null  object \n",
      " 19  title                       39706 non-null  object \n",
      " 20  zip_code                    39717 non-null  object \n",
      " 21  addr_state                  39717 non-null  object \n",
      " 22  dti                         39717 non-null  float64\n",
      " 23  delinq_2yrs                 39717 non-null  int64  \n",
      " 24  earliest_cr_line            39717 non-null  object \n",
      " 25  inq_last_6mths              39717 non-null  int64  \n",
      " 26  open_acc                    39717 non-null  int64  \n",
      " 27  pub_rec                     39717 non-null  int64  \n",
      " 28  revol_bal                   39717 non-null  int64  \n",
      " 29  revol_util                  39667 non-null  object \n",
      " 30  total_acc                   39717 non-null  int64  \n",
      " 31  initial_list_status         39717 non-null  object \n",
      " 32  out_prncp                   39717 non-null  float64\n",
      " 33  out_prncp_inv               39717 non-null  float64\n",
      " 34  total_pymnt                 39717 non-null  float64\n",
      " 35  total_pymnt_inv             39717 non-null  float64\n",
      " 36  total_rec_prncp             39717 non-null  float64\n",
      " 37  total_rec_int               39717 non-null  float64\n",
      " 38  total_rec_late_fee          39717 non-null  float64\n",
      " 39  recoveries                  39717 non-null  float64\n",
      " 40  collection_recovery_fee     39717 non-null  float64\n",
      " 41  last_pymnt_d                39646 non-null  object \n",
      " 42  last_pymnt_amnt             39717 non-null  float64\n",
      " 43  last_credit_pull_d          39715 non-null  object \n",
      " 44  collections_12_mths_ex_med  39661 non-null  float64\n",
      " 45  policy_code                 39717 non-null  int64  \n",
      " 46  application_type            39717 non-null  object \n",
      " 47  acc_now_delinq              39717 non-null  int64  \n",
      " 48  chargeoff_within_12_mths    39661 non-null  float64\n",
      " 49  delinq_amnt                 39717 non-null  int64  \n",
      " 50  pub_rec_bankruptcies        39020 non-null  float64\n",
      " 51  tax_liens                   39678 non-null  float64\n",
      "dtypes: float64(18), int64(11), object(23)\n",
      "memory usage: 15.8+ MB\n",
      "None\n",
      "(39717, 52)\n"
     ]
    }
   ],
   "source": [
    "print(df.info())\n",
    "print(df.shape)"
   ]
  },
  {
   "cell_type": "markdown",
   "id": "7336a1c0",
   "metadata": {},
   "source": [
    "Printing all the columns having missing values less than 50% out of the remaining 52 columns"
   ]
  },
  {
   "cell_type": "code",
   "execution_count": 199,
   "metadata": {},
   "outputs": [
    {
     "name": "stdout",
     "output_type": "stream",
     "text": [
      "Missing values in terms of Percentage\n",
      "emp_title has 6.19130347206486% missing values\n",
      "emp_length has 2.7066495455346598% missing values\n",
      "desc has 32.58050708764509% missing values\n",
      "title has 0.02769594883802995% missing values\n",
      "revol_util has 0.12589067653649977% missing values\n",
      "last_pymnt_d has 0.17876476068182967% missing values\n",
      "last_credit_pull_d has 0.005035627061459991% missing values\n",
      "collections_12_mths_ex_med has 0.14099755772087974% missing values\n",
      "chargeoff_within_12_mths has 0.14099755772087974% missing values\n",
      "pub_rec_bankruptcies has 1.75491603091875% missing values\n",
      "tax_liens has 0.09819472769846982% missing values\n"
     ]
    }
   ],
   "source": [
    "# print(df.isnull().sum())\n",
    "\n",
    "# print('\\n')\n",
    "\n",
    "print(\"Missing values in terms of Percentage\")\n",
    "\n",
    "for column in df:\n",
    "    percent = 100 - (df[column].count() / len(df))*100\n",
    "    if percent > 0:\n",
    "        print(column + ' has ' + str(percent) + \"% missing values\")"
   ]
  },
  {
   "cell_type": "markdown",
   "id": "7c42e016",
   "metadata": {},
   "source": [
    "### Handling each columns with missing values"
   ]
  },
  {
   "cell_type": "markdown",
   "id": "0abfc9f9",
   "metadata": {},
   "source": [
    "Dropping column 'desc' which has loan description provided by the borrower as it contains large string and would require text processing and NLP to extract meaningful insight"
   ]
  },
  {
   "cell_type": "code",
   "execution_count": 200,
   "id": "2fb2dd5e",
   "metadata": {},
   "outputs": [],
   "source": [
    "df = df.drop('desc',axis=1)"
   ]
  },
  {
   "cell_type": "code",
   "execution_count": 201,
   "id": "483067c9",
   "metadata": {},
   "outputs": [
    {
     "name": "stdout",
     "output_type": "stream",
     "text": [
      "<class 'pandas.core.frame.DataFrame'>\n",
      "RangeIndex: 39717 entries, 0 to 39716\n",
      "Data columns (total 51 columns):\n",
      " #   Column                      Non-Null Count  Dtype  \n",
      "---  ------                      --------------  -----  \n",
      " 0   loan_amnt                   39717 non-null  int64  \n",
      " 1   funded_amnt                 39717 non-null  int64  \n",
      " 2   funded_amnt_inv             39717 non-null  float64\n",
      " 3   term                        39717 non-null  object \n",
      " 4   int_rate                    39717 non-null  object \n",
      " 5   installment                 39717 non-null  float64\n",
      " 6   grade                       39717 non-null  object \n",
      " 7   sub_grade                   39717 non-null  object \n",
      " 8   emp_title                   37258 non-null  object \n",
      " 9   emp_length                  38642 non-null  object \n",
      " 10  home_ownership              39717 non-null  object \n",
      " 11  annual_inc                  39717 non-null  float64\n",
      " 12  verification_status         39717 non-null  object \n",
      " 13  issue_d                     39717 non-null  object \n",
      " 14  loan_status                 39717 non-null  object \n",
      " 15  pymnt_plan                  39717 non-null  object \n",
      " 16  url                         39717 non-null  object \n",
      " 17  purpose                     39717 non-null  object \n",
      " 18  title                       39706 non-null  object \n",
      " 19  zip_code                    39717 non-null  object \n",
      " 20  addr_state                  39717 non-null  object \n",
      " 21  dti                         39717 non-null  float64\n",
      " 22  delinq_2yrs                 39717 non-null  int64  \n",
      " 23  earliest_cr_line            39717 non-null  object \n",
      " 24  inq_last_6mths              39717 non-null  int64  \n",
      " 25  open_acc                    39717 non-null  int64  \n",
      " 26  pub_rec                     39717 non-null  int64  \n",
      " 27  revol_bal                   39717 non-null  int64  \n",
      " 28  revol_util                  39667 non-null  object \n",
      " 29  total_acc                   39717 non-null  int64  \n",
      " 30  initial_list_status         39717 non-null  object \n",
      " 31  out_prncp                   39717 non-null  float64\n",
      " 32  out_prncp_inv               39717 non-null  float64\n",
      " 33  total_pymnt                 39717 non-null  float64\n",
      " 34  total_pymnt_inv             39717 non-null  float64\n",
      " 35  total_rec_prncp             39717 non-null  float64\n",
      " 36  total_rec_int               39717 non-null  float64\n",
      " 37  total_rec_late_fee          39717 non-null  float64\n",
      " 38  recoveries                  39717 non-null  float64\n",
      " 39  collection_recovery_fee     39717 non-null  float64\n",
      " 40  last_pymnt_d                39646 non-null  object \n",
      " 41  last_pymnt_amnt             39717 non-null  float64\n",
      " 42  last_credit_pull_d          39715 non-null  object \n",
      " 43  collections_12_mths_ex_med  39661 non-null  float64\n",
      " 44  policy_code                 39717 non-null  int64  \n",
      " 45  application_type            39717 non-null  object \n",
      " 46  acc_now_delinq              39717 non-null  int64  \n",
      " 47  chargeoff_within_12_mths    39661 non-null  float64\n",
      " 48  delinq_amnt                 39717 non-null  int64  \n",
      " 49  pub_rec_bankruptcies        39020 non-null  float64\n",
      " 50  tax_liens                   39678 non-null  float64\n",
      "dtypes: float64(18), int64(11), object(22)\n",
      "memory usage: 15.5+ MB\n"
     ]
    }
   ],
   "source": [
    "df.info()"
   ]
  },
  {
   "cell_type": "markdown",
   "id": "e8852df8",
   "metadata": {},
   "source": [
    "Analyzing 'emp_title' column in order to find if it is useful or not for EDA"
   ]
  },
  {
   "cell_type": "code",
   "execution_count": 202,
   "id": "9873c563",
   "metadata": {},
   "outputs": [
    {
     "name": "stdout",
     "output_type": "stream",
     "text": [
      "US Army                              134\n",
      "Bank of America                      109\n",
      "IBM                                   66\n",
      "AT&T                                  59\n",
      "Kaiser Permanente                     56\n",
      "                                    ... \n",
      "Community College of Philadelphia      1\n",
      "AMEC                                   1\n",
      "lee county sheriff                     1\n",
      "Bacon County Board of Education        1\n",
      "Evergreen Center                       1\n",
      "Name: emp_title, Length: 28820, dtype: int64\n",
      "[nan 'Ryder' 'AIR RESOURCES BOARD' ... 'FiSite Research'\n",
      " 'Squarewave Solutions, Ltd.' 'Evergreen Center']\n",
      "28821\n"
     ]
    }
   ],
   "source": [
    "print(df['emp_title'].value_counts())\n",
    "print(df['emp_title'].unique())\n",
    "\n",
    "print(len(df['emp_title'].unique()))"
   ]
  },
  {
   "cell_type": "markdown",
   "id": "bb234bbb",
   "metadata": {},
   "source": [
    "- Skipping emp_title has it has to many unqiue values (more than 28000) and would require text processing"
   ]
  },
  {
   "cell_type": "markdown",
   "id": "e12d7937",
   "metadata": {},
   "source": [
    "Analyzing 'emp_length' column in order to find if it is useful or not for EDA"
   ]
  },
  {
   "cell_type": "code",
   "execution_count": 203,
   "id": "55dcd67a",
   "metadata": {},
   "outputs": [
    {
     "name": "stdout",
     "output_type": "stream",
     "text": [
      "10+ years    8879\n",
      "< 1 year     4583\n",
      "2 years      4388\n",
      "3 years      4095\n",
      "4 years      3436\n",
      "5 years      3282\n",
      "1 year       3240\n",
      "6 years      2229\n",
      "7 years      1773\n",
      "8 years      1479\n",
      "9 years      1258\n",
      "Name: emp_length, dtype: int64\n",
      "['10+ years' '< 1 year' '1 year' '3 years' '8 years' '9 years' '4 years'\n",
      " '5 years' '6 years' '2 years' '7 years' nan]\n",
      "12\n"
     ]
    }
   ],
   "source": [
    "print(df['emp_length'].value_counts())\n",
    "print(df['emp_length'].unique())\n",
    "\n",
    "print(len(df['emp_length'].unique()))"
   ]
  },
  {
   "cell_type": "code",
   "execution_count": 204,
   "id": "3183e6bc",
   "metadata": {},
   "outputs": [
    {
     "data": {
      "text/plain": [
       "2.7066495455346575"
      ]
     },
     "execution_count": 204,
     "metadata": {},
     "output_type": "execute_result"
    }
   ],
   "source": [
    "df['emp_length'].isnull().sum() / len(df) * 100"
   ]
  },
  {
   "cell_type": "markdown",
   "id": "cffaf9a9",
   "metadata": {},
   "source": [
    "Removing records for which emp_length is null as it just 2% of the entire data\n",
    "We could impute the records by find the mode and replacing it with the null values but decided not to as it may create bias"
   ]
  },
  {
   "cell_type": "code",
   "execution_count": 205,
   "id": "ba5c93fe",
   "metadata": {},
   "outputs": [],
   "source": [
    "df = df[~df['emp_length'].isnull()]"
   ]
  },
  {
   "cell_type": "code",
   "execution_count": 206,
   "id": "c1399829",
   "metadata": {},
   "outputs": [
    {
     "data": {
      "image/png": "[encoded data removed]",
      "text/plain": [
       "<Figure size 432x288 with 1 Axes>"
      ]
     },
     "metadata": {},
     "output_type": "display_data"
    }
   ],
   "source": [
    "df['emp_length'].value_counts().plot.pie()\n",
    "plt.show()"
   ]
  },
  {
   "cell_type": "code",
   "execution_count": 207,
   "id": "5667f0f6",
   "metadata": {},
   "outputs": [
    {
     "data": {
      "image/png": "[encoded data removed]",
      "text/plain": [
       "<Figure size 432x288 with 1 Axes>"
      ]
     },
     "metadata": {},
     "output_type": "display_data"
    }
   ],
   "source": [
    "df['emp_length'].value_counts().plot.bar()\n",
    "plt.show()"
   ]
  },
  {
   "cell_type": "markdown",
   "id": "8ebb7f9b",
   "metadata": {},
   "source": [
    "Analyzing 'title' column in order to find if it is useful or not for EDA\n"
   ]
  },
  {
   "cell_type": "code",
   "execution_count": 208,
   "id": "cea02f5e",
   "metadata": {},
   "outputs": [
    {
     "name": "stdout",
     "output_type": "stream",
     "text": [
      "Debt Consolidation             2144\n",
      "Debt Consolidation Loan        1691\n",
      "Personal Loan                   641\n",
      "Consolidation                   511\n",
      "debt consolidation              486\n",
      "                               ... \n",
      "Shannon's personal loan           1\n",
      "credit card finally gone!!!       1\n",
      "Taxes 2011                        1\n",
      "Dc                                1\n",
      "JAL Loan                          1\n",
      "Name: title, Length: 19148, dtype: int64\n",
      "['Computer' 'bike' 'real estate business' ... 'Retiring credit card debt'\n",
      " 'MBA Loan Consolidation' 'JAL Loan']\n",
      "19149\n"
     ]
    }
   ],
   "source": [
    "print(df['title'].value_counts())\n",
    "print(df['title'].unique())\n",
    "\n",
    "print(len(df['title'].unique()))\n"
   ]
  },
  {
   "cell_type": "markdown",
   "id": "2fa215b4",
   "metadata": {},
   "source": [
    "- Skipping title has it has to many unqiue values (more than 19000) and would require text processing"
   ]
  },
  {
   "cell_type": "code",
   "execution_count": 209,
   "id": "8a01b452",
   "metadata": {},
   "outputs": [
    {
     "data": {
      "text/plain": [
       "array([ 0., nan])"
      ]
     },
     "execution_count": 209,
     "metadata": {},
     "output_type": "execute_result"
    }
   ],
   "source": [
    "df['chargeoff_within_12_mths'].unique()"
   ]
  },
  {
   "cell_type": "code",
   "execution_count": 210,
   "id": "eb1e80a0",
   "metadata": {},
   "outputs": [
    {
     "name": "stdout",
     "output_type": "stream",
     "text": [
      "0.0    36375\n",
      "1.0     1563\n",
      "2.0        7\n",
      "Name: pub_rec_bankruptcies, dtype: int64\n",
      "[ 0.  1.  2. nan]\n",
      "697\n"
     ]
    }
   ],
   "source": [
    "print(df['pub_rec_bankruptcies'].value_counts())\n",
    "print(df['pub_rec_bankruptcies'].unique())\n",
    "print(df['pub_rec_bankruptcies'].isnull().sum())"
   ]
  },
  {
   "cell_type": "markdown",
   "id": "c2b01423",
   "metadata": {},
   "source": [
    "Dropping records having null values for column 'pub_rec_bankruptcies' as it just 1% of the entire data\n",
    "We could fill the null values by using the mode but since the value 0 bankruptices occured is more than 35000 it would have no signfinance adding 697 more records"
   ]
  },
  {
   "cell_type": "code",
   "execution_count": 211,
   "id": "7808d3a2",
   "metadata": {},
   "outputs": [
    {
     "data": {
      "text/plain": [
       "1.8037368666218103"
      ]
     },
     "execution_count": 211,
     "metadata": {},
     "output_type": "execute_result"
    }
   ],
   "source": [
    "df['pub_rec_bankruptcies'].isnull().sum() / len(df) * 100"
   ]
  },
  {
   "cell_type": "code",
   "execution_count": 212,
   "id": "860d05a0",
   "metadata": {},
   "outputs": [],
   "source": [
    "df = df[~df['pub_rec_bankruptcies'].isnull()]"
   ]
  },
  {
   "cell_type": "markdown",
   "id": "dba20aa9",
   "metadata": {},
   "source": [
    "Printing all the columns having missing values"
   ]
  },
  {
   "cell_type": "code",
   "execution_count": 213,
   "id": "917be924",
   "metadata": {},
   "outputs": [
    {
     "name": "stdout",
     "output_type": "stream",
     "text": [
      "Missing values in terms of Percentage\n",
      "emp_title has 3.681644485439449% missing values\n",
      "title has 0.026353933324557488% missing values\n",
      "revol_util has 0.12386348662538182% missing values\n",
      "last_pymnt_d has 0.17393595994201405% missing values\n",
      "last_credit_pull_d has 0.0026353933324543277% missing values\n",
      "collections_12_mths_ex_med has 0.0052707866649086554% missing values\n",
      "chargeoff_within_12_mths has 0.0052707866649086554% missing values\n"
     ]
    }
   ],
   "source": [
    "print(\"Missing values in terms of Percentage\")\n",
    "\n",
    "for column in df:\n",
    "    percent = 100 - (df[column].count() / len(df))*100\n",
    "    if percent > 0:\n",
    "        print(column + ' has ' + str(percent) + \"% missing values\")"
   ]
  },
  {
   "cell_type": "markdown",
   "id": "1d958ee4",
   "metadata": {},
   "source": [
    "Printing all the columns having number of unique values"
   ]
  },
  {
   "cell_type": "code",
   "execution_count": 214,
   "id": "0c10e021",
   "metadata": {},
   "outputs": [
    {
     "data": {
      "text/plain": [
       "tax_liens                         1\n",
       "delinq_amnt                       1\n",
       "chargeoff_within_12_mths          1\n",
       "acc_now_delinq                    1\n",
       "application_type                  1\n",
       "pymnt_plan                        1\n",
       "policy_code                       1\n",
       "initial_list_status               1\n",
       "collections_12_mths_ex_med        1\n",
       "term                              2\n",
       "pub_rec_bankruptcies              3\n",
       "loan_status                       3\n",
       "verification_status               3\n",
       "home_ownership                    4\n",
       "pub_rec                           5\n",
       "grade                             7\n",
       "inq_last_6mths                    9\n",
       "emp_length                       11\n",
       "delinq_2yrs                      11\n",
       "purpose                          14\n",
       "sub_grade                        35\n",
       "open_acc                         38\n",
       "addr_state                       49\n",
       "issue_d                          52\n",
       "total_acc                        81\n",
       "last_credit_pull_d               97\n",
       "last_pymnt_d                     97\n",
       "int_rate                        337\n",
       "earliest_cr_line                514\n",
       "zip_code                        809\n",
       "loan_amnt                       870\n",
       "funded_amnt                    1032\n",
       "revol_util                     1087\n",
       "out_prncp                      1096\n",
       "out_prncp_inv                  1097\n",
       "total_rec_late_fee             1277\n",
       "collection_recovery_fee        2512\n",
       "dti                            2863\n",
       "recoveries                     3840\n",
       "annual_inc                     5037\n",
       "total_rec_prncp                7576\n",
       "funded_amnt_inv                7758\n",
       "installment                   14757\n",
       "title                         18732\n",
       "revol_bal                     21212\n",
       "emp_title                     28299\n",
       "last_pymnt_amnt               33583\n",
       "total_rec_int                 33705\n",
       "total_pymnt_inv               35893\n",
       "total_pymnt                   36203\n",
       "url                           37945\n",
       "dtype: int64"
      ]
     },
     "execution_count": 214,
     "metadata": {},
     "output_type": "execute_result"
    }
   ],
   "source": [
    "df.nunique().sort_values()"
   ]
  },
  {
   "cell_type": "markdown",
   "id": "4851fdd6",
   "metadata": {},
   "source": [
    "- Dropping columns having just one unique value\n",
    "- Dropping columns having customer behavior after the loan has been sanctioned \n",
    "- Dropping columns having requirement of complex text processing\n",
    "- Dropping columns like URL which have no signfinance in predicting if the applicant will default\n",
    "- Keeping columns which are available at the time of application not the columns which are indicating behavior after the loan is sanctioned"
   ]
  },
  {
   "cell_type": "code",
   "execution_count": 215,
   "id": "eb3acee3",
   "metadata": {},
   "outputs": [],
   "source": [
    "columnsToRemove = ['tax_liens','delinq_amnt',\n",
    "                   'chargeoff_within_12_mths','acc_now_delinq',\n",
    "                   'application_type','pymnt_plan','policy_code',\n",
    "                   'initial_list_status','collections_12_mths_ex_med',\n",
    "                   'url','total_pymnt',\n",
    "                   'total_pymnt_inv','total_rec_int',\n",
    "                   'last_pymnt_amnt','revol_bal',\n",
    "                   'funded_amnt_inv','total_rec_prncp',\n",
    "                   'recoveries', 'collection_recovery_fee',\n",
    "                   'total_rec_late_fee','out_prncp_inv',\n",
    "                   'out_prncp', 'revol_util',\n",
    "                   'funded_amnt','last_pymnt_d',\n",
    "                   'last_credit_pull_d', 'issue_d',\n",
    "                   'title', 'emp_title']"
   ]
  },
  {
   "cell_type": "code",
   "execution_count": 216,
   "id": "cbcb859c",
   "metadata": {},
   "outputs": [],
   "source": [
    "df = df.drop(columnsToRemove,axis=1)"
   ]
  },
  {
   "cell_type": "markdown",
   "id": "d81dac7c",
   "metadata": {},
   "source": [
    "Printing the information of the dataframe after data cleaning"
   ]
  },
  {
   "cell_type": "code",
   "execution_count": 217,
   "id": "c331c100",
   "metadata": {},
   "outputs": [
    {
     "name": "stdout",
     "output_type": "stream",
     "text": [
      "<class 'pandas.core.frame.DataFrame'>\n",
      "Int64Index: 37945 entries, 0 to 39680\n",
      "Data columns (total 22 columns):\n",
      " #   Column                Non-Null Count  Dtype  \n",
      "---  ------                --------------  -----  \n",
      " 0   loan_amnt             37945 non-null  int64  \n",
      " 1   term                  37945 non-null  object \n",
      " 2   int_rate              37945 non-null  object \n",
      " 3   installment           37945 non-null  float64\n",
      " 4   grade                 37945 non-null  object \n",
      " 5   sub_grade             37945 non-null  object \n",
      " 6   emp_length            37945 non-null  object \n",
      " 7   home_ownership        37945 non-null  object \n",
      " 8   annual_inc            37945 non-null  float64\n",
      " 9   verification_status   37945 non-null  object \n",
      " 10  loan_status           37945 non-null  object \n",
      " 11  purpose               37945 non-null  object \n",
      " 12  zip_code              37945 non-null  object \n",
      " 13  addr_state            37945 non-null  object \n",
      " 14  dti                   37945 non-null  float64\n",
      " 15  delinq_2yrs           37945 non-null  int64  \n",
      " 16  earliest_cr_line      37945 non-null  object \n",
      " 17  inq_last_6mths        37945 non-null  int64  \n",
      " 18  open_acc              37945 non-null  int64  \n",
      " 19  pub_rec               37945 non-null  int64  \n",
      " 20  total_acc             37945 non-null  int64  \n",
      " 21  pub_rec_bankruptcies  37945 non-null  float64\n",
      "dtypes: float64(4), int64(6), object(12)\n",
      "memory usage: 6.7+ MB\n"
     ]
    }
   ],
   "source": [
    "df.info()"
   ]
  },
  {
   "cell_type": "markdown",
   "id": "ec8fa018",
   "metadata": {},
   "source": [
    "We are left with 22 columns including our target column 'loan_status' to analyze and perform EDA "
   ]
  },
  {
   "cell_type": "code",
   "execution_count": 218,
   "id": "cae8eba3",
   "metadata": {},
   "outputs": [
    {
     "data": {
      "text/plain": [
       "loan_amnt               0\n",
       "term                    0\n",
       "int_rate                0\n",
       "installment             0\n",
       "grade                   0\n",
       "sub_grade               0\n",
       "emp_length              0\n",
       "home_ownership          0\n",
       "annual_inc              0\n",
       "verification_status     0\n",
       "loan_status             0\n",
       "purpose                 0\n",
       "zip_code                0\n",
       "addr_state              0\n",
       "dti                     0\n",
       "delinq_2yrs             0\n",
       "earliest_cr_line        0\n",
       "inq_last_6mths          0\n",
       "open_acc                0\n",
       "pub_rec                 0\n",
       "total_acc               0\n",
       "pub_rec_bankruptcies    0\n",
       "dtype: int64"
      ]
     },
     "execution_count": 218,
     "metadata": {},
     "output_type": "execute_result"
    }
   ],
   "source": [
    "df.isnull().sum()"
   ]
  },
  {
   "cell_type": "markdown",
   "id": "241d8662",
   "metadata": {},
   "source": [
    "## Analysis"
   ]
  },
  {
   "cell_type": "markdown",
   "id": "6cd5f746",
   "metadata": {},
   "source": [
    "Starting with our target column 'loan_status'"
   ]
  },
  {
   "cell_type": "code",
   "execution_count": 219,
   "metadata": {},
   "outputs": [
    {
     "data": {
      "text/plain": [
       "0"
      ]
     },
     "execution_count": 219,
     "metadata": {},
     "output_type": "execute_result"
    }
   ],
   "source": [
    "df['loan_status'].isnull().sum()"
   ]
  },
  {
   "cell_type": "markdown",
   "id": "00ef9565",
   "metadata": {},
   "source": [
    "Printing the unique values present and their count"
   ]
  },
  {
   "cell_type": "code",
   "execution_count": 220,
   "metadata": {},
   "outputs": [
    {
     "data": {
      "text/plain": [
       "Fully Paid     31566\n",
       "Charged Off     5281\n",
       "Current         1098\n",
       "Name: loan_status, dtype: int64"
      ]
     },
     "execution_count": 220,
     "metadata": {},
     "output_type": "execute_result"
    }
   ],
   "source": [
    "df['loan_status'].value_counts()"
   ]
  },
  {
   "cell_type": "markdown",
   "id": "6b45bcc4",
   "metadata": {},
   "source": [
    "Dropping records containing values 'Current' or loan status as current as this applicants cannot help us to understand whether the new applicant will default or not.\n",
    "Assuming 'Current' as the applicants are currently paying back to the Lending club and are not declared as Charged off or Fully Paid applicants"
   ]
  },
  {
   "cell_type": "code",
   "execution_count": 221,
   "metadata": {},
   "outputs": [],
   "source": [
    "df.drop(df.index[df['loan_status'] == 'Current'], inplace = True)"
   ]
  },
  {
   "cell_type": "code",
   "execution_count": 222,
   "metadata": {},
   "outputs": [
    {
     "data": {
      "text/plain": [
       "Fully Paid     31566\n",
       "Charged Off     5281\n",
       "Name: loan_status, dtype: int64"
      ]
     },
     "execution_count": 222,
     "metadata": {},
     "output_type": "execute_result"
    }
   ],
   "source": [
    "df['loan_status'].value_counts()"
   ]
  },
  {
   "cell_type": "code",
   "execution_count": 223,
   "id": "8fe2b37b",
   "metadata": {},
   "outputs": [
    {
     "data": {
      "text/plain": [
       "(36847, 22)"
      ]
     },
     "execution_count": 223,
     "metadata": {},
     "output_type": "execute_result"
    }
   ],
   "source": [
    "df.shape"
   ]
  },
  {
   "cell_type": "code",
   "execution_count": 224,
   "id": "f30e04ef",
   "metadata": {},
   "outputs": [
    {
     "name": "stdout",
     "output_type": "stream",
     "text": [
      "Out of 36847 applicants 14.33% applicants were declared as Charged Off\n"
     ]
    }
   ],
   "source": [
    "charge_off_percent = round((5281 / 36847) * 100,2)\n",
    "print(\"Out of 36847 applicants \" + str(charge_off_percent) + \"% applicants were declared as Charged Off\")"
   ]
  },
  {
   "cell_type": "markdown",
   "id": "f1486646",
   "metadata": {},
   "source": [
    "Plotting pie chart and bar chart in order to represent charge off applicants and fully paid applicants"
   ]
  },
  {
   "cell_type": "code",
   "execution_count": 225,
   "metadata": {},
   "outputs": [
    {
     "data": {
      "image/png": "[encoded data removed]",
      "text/plain": [
       "<Figure size 432x288 with 1 Axes>"
      ]
     },
     "metadata": {},
     "output_type": "display_data"
    }
   ],
   "source": [
    "df['loan_status'].value_counts().plot.pie()\n",
    "plt.show()"
   ]
  },
  {
   "cell_type": "code",
   "execution_count": 226,
   "metadata": {},
   "outputs": [
    {
     "data": {
      "image/png": "[encoded data removed]",
      "text/plain": [
       "<Figure size 432x288 with 1 Axes>"
      ]
     },
     "metadata": {},
     "output_type": "display_data"
    }
   ],
   "source": [
    "df['loan_status'].value_counts().plot.barh()\n",
    "plt.show()"
   ]
  },
  {
   "cell_type": "code",
   "execution_count": 227,
   "id": "1b689bd0",
   "metadata": {},
   "outputs": [
    {
     "data": {
      "text/plain": [
       "10000    2671\n",
       "12000    2179\n",
       "5000     1915\n",
       "6000     1806\n",
       "15000    1769\n",
       "         ... \n",
       "27200       1\n",
       "1625        1\n",
       "24650       1\n",
       "19150       1\n",
       "700         1\n",
       "Name: loan_amnt, Length: 856, dtype: int64"
      ]
     },
     "execution_count": 227,
     "metadata": {},
     "output_type": "execute_result"
    }
   ],
   "source": [
    "df['loan_amnt'].value_counts()"
   ]
  },
  {
   "cell_type": "code",
   "execution_count": 228,
   "id": "dbb75ea0",
   "metadata": {},
   "outputs": [
    {
     "data": {
      "text/plain": [
       "count    36847.000000\n",
       "mean     11141.327652\n",
       "std       7369.988994\n",
       "min        500.000000\n",
       "25%       5500.000000\n",
       "50%      10000.000000\n",
       "75%      15000.000000\n",
       "max      35000.000000\n",
       "Name: loan_amnt, dtype: float64"
      ]
     },
     "execution_count": 228,
     "metadata": {},
     "output_type": "execute_result"
    }
   ],
   "source": [
    "df['loan_amnt'].describe()\n"
   ]
  },
  {
   "cell_type": "code",
   "execution_count": 229,
   "id": "0248560e",
   "metadata": {},
   "outputs": [
    {
     "data": {
      "image/png": "[encoded data removed]",
      "text/plain": [
       "<Figure size 432x288 with 1 Axes>"
      ]
     },
     "metadata": {},
     "output_type": "display_data"
    }
   ],
   "source": [
    "sns.boxplot(df['loan_amnt'])\n",
    "plt.show()"
   ]
  },
  {
   "cell_type": "code",
   "execution_count": 230,
   "id": "c439377e",
   "metadata": {},
   "outputs": [
    {
     "data": {
      "image/png": "[encoded data removed]",
      "text/plain": [
       "<Figure size 432x288 with 1 Axes>"
      ]
     },
     "metadata": {},
     "output_type": "display_data"
    }
   ],
   "source": [
    "sns.histplot(df['loan_amnt'])\n",
    "plt.show()"
   ]
  },
  {
   "cell_type": "code",
   "execution_count": 231,
   "id": "c3a5c35b",
   "metadata": {},
   "outputs": [
    {
     "data": {
      "image/png": "[encoded data removed]",
      "text/plain": [
       "<Figure size 360x360 with 1 Axes>"
      ]
     },
     "metadata": {},
     "output_type": "display_data"
    }
   ],
   "source": [
    "sns.displot(df['loan_amnt'],bins=30,color = 'g')\n",
    "plt.title(\"Distribution of Loan Amount\")\n",
    "plt.show()"
   ]
  },
  {
   "cell_type": "code",
   "execution_count": 265,
   "id": "a609cd70",
   "metadata": {},
   "outputs": [
    {
     "data": {
      "text/html": [
       "<div>\n",
       "<style scoped>\n",
       "    .dataframe tbody tr th:only-of-type {\n",
       "        vertical-align: middle;\n",
       "    }\n",
       "\n",
       "    .dataframe tbody tr th {\n",
       "        vertical-align: top;\n",
       "    }\n",
       "\n",
       "    .dataframe thead th {\n",
       "        text-align: right;\n",
       "    }\n",
       "</style>\n",
       "<table border=\"1\" class=\"dataframe\">\n",
       "  <thead>\n",
       "    <tr style=\"text-align: right;\">\n",
       "      <th></th>\n",
       "      <th>count</th>\n",
       "      <th>mean</th>\n",
       "      <th>std</th>\n",
       "      <th>min</th>\n",
       "      <th>25%</th>\n",
       "      <th>50%</th>\n",
       "      <th>75%</th>\n",
       "      <th>max</th>\n",
       "    </tr>\n",
       "    <tr>\n",
       "      <th>loan_status</th>\n",
       "      <th></th>\n",
       "      <th></th>\n",
       "      <th></th>\n",
       "      <th></th>\n",
       "      <th></th>\n",
       "      <th></th>\n",
       "      <th></th>\n",
       "      <th></th>\n",
       "    </tr>\n",
       "  </thead>\n",
       "  <tbody>\n",
       "    <tr>\n",
       "      <th>Charged Off</th>\n",
       "      <td>5281.0</td>\n",
       "      <td>12236.347283</td>\n",
       "      <td>8103.456528</td>\n",
       "      <td>1000.0</td>\n",
       "      <td>6000.0</td>\n",
       "      <td>10000.0</td>\n",
       "      <td>16950.0</td>\n",
       "      <td>35000.0</td>\n",
       "    </tr>\n",
       "    <tr>\n",
       "      <th>Fully Paid</th>\n",
       "      <td>31566.0</td>\n",
       "      <td>10958.130584</td>\n",
       "      <td>7223.977380</td>\n",
       "      <td>500.0</td>\n",
       "      <td>5400.0</td>\n",
       "      <td>9600.0</td>\n",
       "      <td>15000.0</td>\n",
       "      <td>35000.0</td>\n",
       "    </tr>\n",
       "  </tbody>\n",
       "</table>\n",
       "</div>"
      ],
      "text/plain": [
       "               count          mean          std     min     25%      50%  \\\n",
       "loan_status                                                                \n",
       "Charged Off   5281.0  12236.347283  8103.456528  1000.0  6000.0  10000.0   \n",
       "Fully Paid   31566.0  10958.130584  7223.977380   500.0  5400.0   9600.0   \n",
       "\n",
       "                 75%      max  \n",
       "loan_status                    \n",
       "Charged Off  16950.0  35000.0  \n",
       "Fully Paid   15000.0  35000.0  "
      ]
     },
     "execution_count": 265,
     "metadata": {},
     "output_type": "execute_result"
    }
   ],
   "source": [
    "df.groupby(['loan_status'])['loan_amnt'].describe()"
   ]
  },
  {
   "cell_type": "code",
   "execution_count": 236,
   "id": "a57c17ea",
   "metadata": {},
   "outputs": [
    {
     "data": {
      "text/plain": [
       "<AxesSubplot:xlabel='loan_status'>"
      ]
     },
     "execution_count": 236,
     "metadata": {},
     "output_type": "execute_result"
    },
    {
     "data": {
      "image/png": "[encoded data removed]",
      "text/plain": [
       "<Figure size 432x288 with 1 Axes>"
      ]
     },
     "metadata": {},
     "output_type": "display_data"
    }
   ],
   "source": [
    "df.groupby(['loan_status'])['loan_amnt'].median().plot.bar()"
   ]
  },
  {
   "cell_type": "code",
   "execution_count": 237,
   "id": "b507b702",
   "metadata": {},
   "outputs": [
    {
     "data": {
      "text/plain": [
       "<AxesSubplot:xlabel='loan_status'>"
      ]
     },
     "execution_count": 237,
     "metadata": {},
     "output_type": "execute_result"
    },
    {
     "data": {
      "image/png": "[encoded data removed]",
      "text/plain": [
       "<Figure size 432x288 with 1 Axes>"
      ]
     },
     "metadata": {},
     "output_type": "display_data"
    }
   ],
   "source": [
    "df.groupby(['loan_status'])['loan_amnt'].mean().plot.bar()"
   ]
  },
  {
   "cell_type": "code",
   "execution_count": 243,
   "id": "02af4e2c",
   "metadata": {},
   "outputs": [
    {
     "data": {
      "text/plain": [
       "<AxesSubplot:xlabel='loan_status'>"
      ]
     },
     "execution_count": 243,
     "metadata": {},
     "output_type": "execute_result"
    },
    {
     "data": {
      "image/png": "[encoded data removed]",
      "text/plain": [
       "<Figure size 432x288 with 1 Axes>"
      ]
     },
     "metadata": {},
     "output_type": "display_data"
    }
   ],
   "source": [
    "df.groupby(['loan_status'])['loan_amnt'].min().plot.bar()"
   ]
  },
  {
   "cell_type": "code",
   "execution_count": 244,
   "id": "a49ab9e4",
   "metadata": {},
   "outputs": [
    {
     "data": {
      "text/plain": [
       "<AxesSubplot:xlabel='loan_status'>"
      ]
     },
     "execution_count": 244,
     "metadata": {},
     "output_type": "execute_result"
    },
    {
     "data": {
      "image/png": "[encoded data removed]",
      "text/plain": [
       "<Figure size 432x288 with 1 Axes>"
      ]
     },
     "metadata": {},
     "output_type": "display_data"
    }
   ],
   "source": [
    "df.groupby(['loan_status'])['loan_amnt'].max().plot.bar()"
   ]
  },
  {
   "cell_type": "code",
   "execution_count": 248,
   "id": "24be6aae",
   "metadata": {},
   "outputs": [
    {
     "data": {
      "text/plain": [
       "<AxesSubplot:xlabel='loan_status', ylabel='loan_amnt'>"
      ]
     },
     "execution_count": 248,
     "metadata": {},
     "output_type": "execute_result"
    },
    {
     "data": {
      "image/png": "[encoded data removed]",
      "text/plain": [
       "<Figure size 432x288 with 1 Axes>"
      ]
     },
     "metadata": {},
     "output_type": "display_data"
    }
   ],
   "source": [
    "sns.barplot(data=df, x = 'loan_status', y='loan_amnt',estimator= np.median)"
   ]
  },
  {
   "cell_type": "code",
   "execution_count": 266,
   "id": "28fb04a3",
   "metadata": {},
   "outputs": [
    {
     "data": {
      "text/plain": [
       "<AxesSubplot:xlabel='loan_status', ylabel='loan_amnt'>"
      ]
     },
     "execution_count": 266,
     "metadata": {},
     "output_type": "execute_result"
    },
    {
     "data": {
      "image/png": "[encoded data removed]",
      "text/plain": [
       "<Figure size 432x288 with 1 Axes>"
      ]
     },
     "metadata": {},
     "output_type": "display_data"
    }
   ],
   "source": [
    "sns.barplot(data=df, x = 'loan_status', y='loan_amnt',estimator= np.mean)"
   ]
  },
  {
   "cell_type": "code",
   "execution_count": 249,
   "id": "b86d58a1",
   "metadata": {},
   "outputs": [
    {
     "data": {
      "text/plain": [
       "<AxesSubplot:xlabel='loan_status', ylabel='loan_amnt'>"
      ]
     },
     "execution_count": 249,
     "metadata": {},
     "output_type": "execute_result"
    },
    {
     "data": {
      "image/png": "[encoded data removed]",
      "text/plain": [
       "<Figure size 432x288 with 1 Axes>"
      ]
     },
     "metadata": {},
     "output_type": "display_data"
    }
   ],
   "source": [
    "sns.boxplot(df['loan_status'],df['loan_amnt'])"
   ]
  },
  {
   "cell_type": "code",
   "execution_count": 250,
   "id": "61414075",
   "metadata": {},
   "outputs": [],
   "source": [
    "df['loan_amnt_bucket'] = pd.qcut(df['loan_amnt'] , 5, ['VL','L','M', 'H', 'VH'])"
   ]
  },
  {
   "cell_type": "code",
   "execution_count": 341,
   "id": "333e8fd8",
   "metadata": {},
   "outputs": [],
   "source": [
    "hm_amnt = pd.pivot_table(data = df,\n",
    "               index = \"loan_status\",\n",
    "               columns = \"loan_amnt_bucket\",\n",
    "               values = \"loan_amnt\",\n",
    "               aggfunc = np.median)"
   ]
  },
  {
   "cell_type": "code",
   "execution_count": 342,
   "id": "625162c0",
   "metadata": {},
   "outputs": [
    {
     "data": {
      "text/plain": [
       "<AxesSubplot:xlabel='loan_amnt_bucket', ylabel='loan_status'>"
      ]
     },
     "execution_count": 342,
     "metadata": {},
     "output_type": "execute_result"
    },
    {
     "data": {
      "image/png": "[encoded data removed]",
      "text/plain": [
       "<Figure size 432x288 with 2 Axes>"
      ]
     },
     "metadata": {},
     "output_type": "display_data"
    }
   ],
   "source": [
    "sns.heatmap(hm_amnt,cmap=\"Greens\",annot=True)"
   ]
  },
  {
   "cell_type": "code",
   "execution_count": 359,
   "id": "ced41aec",
   "metadata": {},
   "outputs": [
    {
     "data": {
      "text/html": [
       "<div>\n",
       "<style scoped>\n",
       "    .dataframe tbody tr th:only-of-type {\n",
       "        vertical-align: middle;\n",
       "    }\n",
       "\n",
       "    .dataframe tbody tr th {\n",
       "        vertical-align: top;\n",
       "    }\n",
       "\n",
       "    .dataframe thead th {\n",
       "        text-align: right;\n",
       "    }\n",
       "</style>\n",
       "<table border=\"1\" class=\"dataframe\">\n",
       "  <thead>\n",
       "    <tr style=\"text-align: right;\">\n",
       "      <th>loan_amnt_bucket</th>\n",
       "      <th>VL</th>\n",
       "      <th>L</th>\n",
       "      <th>M</th>\n",
       "      <th>H</th>\n",
       "      <th>VH</th>\n",
       "    </tr>\n",
       "    <tr>\n",
       "      <th>loan_status</th>\n",
       "      <th></th>\n",
       "      <th></th>\n",
       "      <th></th>\n",
       "      <th></th>\n",
       "      <th></th>\n",
       "    </tr>\n",
       "  </thead>\n",
       "  <tbody>\n",
       "    <tr>\n",
       "      <th>Charged Off</th>\n",
       "      <td>3600</td>\n",
       "      <td>7000</td>\n",
       "      <td>10000</td>\n",
       "      <td>14000</td>\n",
       "      <td>22750</td>\n",
       "    </tr>\n",
       "    <tr>\n",
       "      <th>Fully Paid</th>\n",
       "      <td>3600</td>\n",
       "      <td>6950</td>\n",
       "      <td>10000</td>\n",
       "      <td>14000</td>\n",
       "      <td>21600</td>\n",
       "    </tr>\n",
       "  </tbody>\n",
       "</table>\n",
       "</div>"
      ],
      "text/plain": [
       "loan_amnt_bucket    VL     L      M      H     VH\n",
       "loan_status                                      \n",
       "Charged Off       3600  7000  10000  14000  22750\n",
       "Fully Paid        3600  6950  10000  14000  21600"
      ]
     },
     "execution_count": 359,
     "metadata": {},
     "output_type": "execute_result"
    }
   ],
   "source": [
    "hm_amnt.head()"
   ]
  },
  {
   "cell_type": "code",
   "execution_count": 344,
   "id": "a118c647",
   "metadata": {},
   "outputs": [
    {
     "data": {
      "text/html": [
       "<div>\n",
       "<style scoped>\n",
       "    .dataframe tbody tr th:only-of-type {\n",
       "        vertical-align: middle;\n",
       "    }\n",
       "\n",
       "    .dataframe tbody tr th {\n",
       "        vertical-align: top;\n",
       "    }\n",
       "\n",
       "    .dataframe thead th {\n",
       "        text-align: right;\n",
       "    }\n",
       "</style>\n",
       "<table border=\"1\" class=\"dataframe\">\n",
       "  <thead>\n",
       "    <tr style=\"text-align: right;\">\n",
       "      <th>loan_amnt_bucket</th>\n",
       "      <th>VL</th>\n",
       "      <th>L</th>\n",
       "      <th>M</th>\n",
       "      <th>H</th>\n",
       "      <th>VH</th>\n",
       "    </tr>\n",
       "  </thead>\n",
       "  <tbody>\n",
       "    <tr>\n",
       "      <th>count</th>\n",
       "      <td>2.0</td>\n",
       "      <td>2.000000</td>\n",
       "      <td>2.0</td>\n",
       "      <td>2.0</td>\n",
       "      <td>2.000000</td>\n",
       "    </tr>\n",
       "    <tr>\n",
       "      <th>mean</th>\n",
       "      <td>3600.0</td>\n",
       "      <td>6975.000000</td>\n",
       "      <td>10000.0</td>\n",
       "      <td>14000.0</td>\n",
       "      <td>22175.000000</td>\n",
       "    </tr>\n",
       "    <tr>\n",
       "      <th>std</th>\n",
       "      <td>0.0</td>\n",
       "      <td>35.355339</td>\n",
       "      <td>0.0</td>\n",
       "      <td>0.0</td>\n",
       "      <td>813.172798</td>\n",
       "    </tr>\n",
       "    <tr>\n",
       "      <th>min</th>\n",
       "      <td>3600.0</td>\n",
       "      <td>6950.000000</td>\n",
       "      <td>10000.0</td>\n",
       "      <td>14000.0</td>\n",
       "      <td>21600.000000</td>\n",
       "    </tr>\n",
       "    <tr>\n",
       "      <th>25%</th>\n",
       "      <td>3600.0</td>\n",
       "      <td>6962.500000</td>\n",
       "      <td>10000.0</td>\n",
       "      <td>14000.0</td>\n",
       "      <td>21887.500000</td>\n",
       "    </tr>\n",
       "    <tr>\n",
       "      <th>50%</th>\n",
       "      <td>3600.0</td>\n",
       "      <td>6975.000000</td>\n",
       "      <td>10000.0</td>\n",
       "      <td>14000.0</td>\n",
       "      <td>22175.000000</td>\n",
       "    </tr>\n",
       "    <tr>\n",
       "      <th>75%</th>\n",
       "      <td>3600.0</td>\n",
       "      <td>6987.500000</td>\n",
       "      <td>10000.0</td>\n",
       "      <td>14000.0</td>\n",
       "      <td>22462.500000</td>\n",
       "    </tr>\n",
       "    <tr>\n",
       "      <th>max</th>\n",
       "      <td>3600.0</td>\n",
       "      <td>7000.000000</td>\n",
       "      <td>10000.0</td>\n",
       "      <td>14000.0</td>\n",
       "      <td>22750.000000</td>\n",
       "    </tr>\n",
       "  </tbody>\n",
       "</table>\n",
       "</div>"
      ],
      "text/plain": [
       "loan_amnt_bucket      VL            L        M        H            VH\n",
       "count                2.0     2.000000      2.0      2.0      2.000000\n",
       "mean              3600.0  6975.000000  10000.0  14000.0  22175.000000\n",
       "std                  0.0    35.355339      0.0      0.0    813.172798\n",
       "min               3600.0  6950.000000  10000.0  14000.0  21600.000000\n",
       "25%               3600.0  6962.500000  10000.0  14000.0  21887.500000\n",
       "50%               3600.0  6975.000000  10000.0  14000.0  22175.000000\n",
       "75%               3600.0  6987.500000  10000.0  14000.0  22462.500000\n",
       "max               3600.0  7000.000000  10000.0  14000.0  22750.000000"
      ]
     },
     "execution_count": 344,
     "metadata": {},
     "output_type": "execute_result"
    }
   ],
   "source": [
    "hm_amnt.describe()"
   ]
  },
  {
   "cell_type": "code",
   "execution_count": 345,
   "id": "e9493d80",
   "metadata": {},
   "outputs": [
    {
     "name": "stdout",
     "output_type": "stream",
     "text": [
      "<class 'pandas.core.frame.DataFrame'>\n",
      "Index: 2 entries, Charged Off to Fully Paid\n",
      "Data columns (total 5 columns):\n",
      " #   Column  Non-Null Count  Dtype\n",
      "---  ------  --------------  -----\n",
      " 0   VL      2 non-null      int64\n",
      " 1   L       2 non-null      int64\n",
      " 2   M       2 non-null      int64\n",
      " 3   H       2 non-null      int64\n",
      " 4   VH      2 non-null      int64\n",
      "dtypes: int64(5)\n",
      "memory usage: 96.0+ bytes\n"
     ]
    }
   ],
   "source": [
    "hm_amnt.info()"
   ]
  },
  {
   "cell_type": "code",
   "execution_count": 361,
   "id": "688761a9",
   "metadata": {},
   "outputs": [
    {
     "data": {
      "text/plain": [
       "<AxesSubplot:xlabel='loan_status'>"
      ]
     },
     "execution_count": 361,
     "metadata": {},
     "output_type": "execute_result"
    },
    {
     "data": {
      "image/png": "[encoded data removed]",
      "text/plain": [
       "<Figure size 432x288 with 1 Axes>"
      ]
     },
     "metadata": {},
     "output_type": "display_data"
    }
   ],
   "source": [
    "hm_amnt.plot.bar()"
   ]
  },
  {
   "cell_type": "code",
   "execution_count": 347,
   "id": "2a2f76c7",
   "metadata": {},
   "outputs": [
    {
     "data": {
      "text/plain": [
       " 36 months    27590\n",
       " 60 months     9257\n",
       "Name: term, dtype: int64"
      ]
     },
     "execution_count": 347,
     "metadata": {},
     "output_type": "execute_result"
    }
   ],
   "source": [
    "df['term'].value_counts()"
   ]
  },
  {
   "cell_type": "code",
   "execution_count": 348,
   "id": "b7c87ff0",
   "metadata": {},
   "outputs": [
    {
     "data": {
      "image/png": "[encoded data removed]",
      "text/plain": [
       "<Figure size 432x288 with 1 Axes>"
      ]
     },
     "metadata": {},
     "output_type": "display_data"
    }
   ],
   "source": [
    "df['term'].value_counts().plot.pie()\n",
    "plt.show()"
   ]
  },
  {
   "cell_type": "code",
   "execution_count": 240,
   "id": "46f51b1d",
   "metadata": {},
   "outputs": [
    {
     "data": {
      "image/png": "[encoded data removed]",
      "text/plain": [
       "<Figure size 432x288 with 1 Axes>"
      ]
     },
     "metadata": {},
     "output_type": "display_data"
    }
   ],
   "source": [
    "df['term'].value_counts().plot.barh()\n",
    "plt.show()"
   ]
  },
  {
   "cell_type": "code",
   "execution_count": 285,
   "id": "4a3a0985",
   "metadata": {},
   "outputs": [
    {
     "data": {
      "text/html": [
       "<div>\n",
       "<style scoped>\n",
       "    .dataframe tbody tr th:only-of-type {\n",
       "        vertical-align: middle;\n",
       "    }\n",
       "\n",
       "    .dataframe tbody tr th {\n",
       "        vertical-align: top;\n",
       "    }\n",
       "\n",
       "    .dataframe thead th {\n",
       "        text-align: right;\n",
       "    }\n",
       "</style>\n",
       "<table border=\"1\" class=\"dataframe\">\n",
       "  <thead>\n",
       "    <tr style=\"text-align: right;\">\n",
       "      <th></th>\n",
       "      <th>count</th>\n",
       "      <th>unique</th>\n",
       "      <th>top</th>\n",
       "      <th>freq</th>\n",
       "    </tr>\n",
       "    <tr>\n",
       "      <th>loan_status</th>\n",
       "      <th></th>\n",
       "      <th></th>\n",
       "      <th></th>\n",
       "      <th></th>\n",
       "    </tr>\n",
       "  </thead>\n",
       "  <tbody>\n",
       "    <tr>\n",
       "      <th>Charged Off</th>\n",
       "      <td>5281</td>\n",
       "      <td>2</td>\n",
       "      <td>36 months</td>\n",
       "      <td>2955</td>\n",
       "    </tr>\n",
       "    <tr>\n",
       "      <th>Fully Paid</th>\n",
       "      <td>31566</td>\n",
       "      <td>2</td>\n",
       "      <td>36 months</td>\n",
       "      <td>24635</td>\n",
       "    </tr>\n",
       "  </tbody>\n",
       "</table>\n",
       "</div>"
      ],
      "text/plain": [
       "             count unique         top   freq\n",
       "loan_status                                 \n",
       "Charged Off   5281      2   36 months   2955\n",
       "Fully Paid   31566      2   36 months  24635"
      ]
     },
     "execution_count": 285,
     "metadata": {},
     "output_type": "execute_result"
    }
   ],
   "source": [
    "df.groupby(['loan_status'])['term'].describe()"
   ]
  },
  {
   "cell_type": "code",
   "execution_count": 350,
   "metadata": {},
   "outputs": [
    {
     "data": {
      "text/plain": [
       "loan_status  term      \n",
       "Charged Off   36 months     2955\n",
       "              60 months     2326\n",
       "Fully Paid    36 months    24635\n",
       "              60 months     6931\n",
       "Name: term, dtype: int64"
      ]
     },
     "execution_count": 350,
     "metadata": {},
     "output_type": "execute_result"
    }
   ],
   "source": [
    "df.groupby(['loan_status'])['term'].value_counts()"
   ]
  },
  {
   "cell_type": "code",
   "execution_count": 354,
   "id": "6cd2a812",
   "metadata": {},
   "outputs": [
    {
     "data": {
      "text/plain": [
       "<AxesSubplot:xlabel='loan_status,term'>"
      ]
     },
     "execution_count": 354,
     "metadata": {},
     "output_type": "execute_result"
    },
    {
     "data": {
      "image/png": "[encoded data removed]",
      "text/plain": [
       "<Figure size 432x288 with 1 Axes>"
      ]
     },
     "metadata": {},
     "output_type": "display_data"
    }
   ],
   "source": [
    "df.groupby(['loan_status'])['term'].value_counts().plot.bar()"
   ]
  },
  {
   "cell_type": "code",
   "execution_count": 416,
   "id": "89aae41a",
   "metadata": {},
   "outputs": [],
   "source": [
    "term_amnt = pd.pivot_table(data = df,\n",
    "               index = \"loan_status\",\n",
    "               columns = \"term\",\n",
    "               values = \"loan_amnt\",\n",
    "               aggfunc = np.median)"
   ]
  },
  {
   "cell_type": "code",
   "execution_count": 418,
   "id": "d0745332",
   "metadata": {},
   "outputs": [
    {
     "data": {
      "text/html": [
       "<div>\n",
       "<style scoped>\n",
       "    .dataframe tbody tr th:only-of-type {\n",
       "        vertical-align: middle;\n",
       "    }\n",
       "\n",
       "    .dataframe tbody tr th {\n",
       "        vertical-align: top;\n",
       "    }\n",
       "\n",
       "    .dataframe thead th {\n",
       "        text-align: right;\n",
       "    }\n",
       "</style>\n",
       "<table border=\"1\" class=\"dataframe\">\n",
       "  <thead>\n",
       "    <tr style=\"text-align: right;\">\n",
       "      <th>term</th>\n",
       "      <th>36 months</th>\n",
       "      <th>60 months</th>\n",
       "    </tr>\n",
       "    <tr>\n",
       "      <th>loan_status</th>\n",
       "      <th></th>\n",
       "      <th></th>\n",
       "    </tr>\n",
       "  </thead>\n",
       "  <tbody>\n",
       "    <tr>\n",
       "      <th>Charged Off</th>\n",
       "      <td>8000</td>\n",
       "      <td>15000</td>\n",
       "    </tr>\n",
       "    <tr>\n",
       "      <th>Fully Paid</th>\n",
       "      <td>8000</td>\n",
       "      <td>14500</td>\n",
       "    </tr>\n",
       "  </tbody>\n",
       "</table>\n",
       "</div>"
      ],
      "text/plain": [
       "term          36 months   60 months\n",
       "loan_status                        \n",
       "Charged Off        8000       15000\n",
       "Fully Paid         8000       14500"
      ]
     },
     "execution_count": 418,
     "metadata": {},
     "output_type": "execute_result"
    }
   ],
   "source": [
    "term_amnt.head()"
   ]
  },
  {
   "cell_type": "code",
   "execution_count": 417,
   "id": "2ae6ef5c",
   "metadata": {},
   "outputs": [
    {
     "data": {
      "text/plain": [
       "<AxesSubplot:xlabel='loan_status'>"
      ]
     },
     "execution_count": 417,
     "metadata": {},
     "output_type": "execute_result"
    },
    {
     "data": {
      "image/png": "[encoded data removed]",
      "text/plain": [
       "<Figure size 432x288 with 1 Axes>"
      ]
     },
     "metadata": {},
     "output_type": "display_data"
    }
   ],
   "source": [
    "term_amnt.plot.bar()"
   ]
  },
  {
   "cell_type": "code",
   "execution_count": 298,
   "id": "c25f5f61",
   "metadata": {},
   "outputs": [
    {
     "data": {
      "text/plain": [
       "10.99%    891\n",
       "11.49%    766\n",
       "7.51%     756\n",
       "13.49%    736\n",
       "7.88%     701\n",
       "         ... \n",
       "13.84%      1\n",
       "22.94%      1\n",
       "24.40%      1\n",
       "21.48%      1\n",
       "11.22%      1\n",
       "Name: int_rate, Length: 336, dtype: int64"
      ]
     },
     "execution_count": 298,
     "metadata": {},
     "output_type": "execute_result"
    }
   ],
   "source": [
    "df['int_rate'].value_counts()"
   ]
  },
  {
   "cell_type": "code",
   "execution_count": 299,
   "id": "c5bdf483",
   "metadata": {},
   "outputs": [],
   "source": [
    "df['int_rate'] = df['int_rate'].str.strip('%').astype('float')"
   ]
  },
  {
   "cell_type": "code",
   "execution_count": 300,
   "id": "10aaf271",
   "metadata": {},
   "outputs": [
    {
     "data": {
      "text/plain": [
       "10.99    891\n",
       "11.49    766\n",
       "7.51     756\n",
       "13.49    736\n",
       "7.88     701\n",
       "        ... \n",
       "13.84      1\n",
       "22.94      1\n",
       "24.40      1\n",
       "21.48      1\n",
       "11.22      1\n",
       "Name: int_rate, Length: 336, dtype: int64"
      ]
     },
     "execution_count": 300,
     "metadata": {},
     "output_type": "execute_result"
    }
   ],
   "source": [
    "df['int_rate'].value_counts()"
   ]
  },
  {
   "cell_type": "code",
   "execution_count": 301,
   "id": "cd55b707",
   "metadata": {},
   "outputs": [
    {
     "data": {
      "text/plain": [
       "count    36847.000000\n",
       "mean        11.988346\n",
       "std          3.702091\n",
       "min          5.420000\n",
       "25%          8.940000\n",
       "50%         11.860000\n",
       "75%         14.520000\n",
       "max         24.400000\n",
       "Name: int_rate, dtype: float64"
      ]
     },
     "execution_count": 301,
     "metadata": {},
     "output_type": "execute_result"
    }
   ],
   "source": [
    "df['int_rate'].describe()"
   ]
  },
  {
   "cell_type": "code",
   "execution_count": 302,
   "id": "517ce87c",
   "metadata": {},
   "outputs": [
    {
     "data": {
      "image/png": "[encoded data removed]",
      "text/plain": [
       "<Figure size 432x288 with 1 Axes>"
      ]
     },
     "metadata": {},
     "output_type": "display_data"
    }
   ],
   "source": [
    "sns.boxplot(df['int_rate'])\n",
    "plt.show()"
   ]
  },
  {
   "cell_type": "code",
   "execution_count": 305,
   "id": "6a441cf9",
   "metadata": {},
   "outputs": [
    {
     "data": {
      "image/png": "[encoded data removed]",
      "text/plain": [
       "<Figure size 360x360 with 1 Axes>"
      ]
     },
     "metadata": {},
     "output_type": "display_data"
    }
   ],
   "source": [
    "sns.displot(df['loan_amnt'],bins = 30)\n",
    "plt.show()"
   ]
  },
  {
   "cell_type": "code",
   "execution_count": 308,
   "id": "d8ffaed5",
   "metadata": {},
   "outputs": [
    {
     "data": {
      "text/html": [
       "<div>\n",
       "<style scoped>\n",
       "    .dataframe tbody tr th:only-of-type {\n",
       "        vertical-align: middle;\n",
       "    }\n",
       "\n",
       "    .dataframe tbody tr th {\n",
       "        vertical-align: top;\n",
       "    }\n",
       "\n",
       "    .dataframe thead th {\n",
       "        text-align: right;\n",
       "    }\n",
       "</style>\n",
       "<table border=\"1\" class=\"dataframe\">\n",
       "  <thead>\n",
       "    <tr style=\"text-align: right;\">\n",
       "      <th></th>\n",
       "      <th>count</th>\n",
       "      <th>mean</th>\n",
       "      <th>std</th>\n",
       "      <th>min</th>\n",
       "      <th>25%</th>\n",
       "      <th>50%</th>\n",
       "      <th>75%</th>\n",
       "      <th>max</th>\n",
       "    </tr>\n",
       "    <tr>\n",
       "      <th>loan_status</th>\n",
       "      <th></th>\n",
       "      <th></th>\n",
       "      <th></th>\n",
       "      <th></th>\n",
       "      <th></th>\n",
       "      <th></th>\n",
       "      <th></th>\n",
       "      <th></th>\n",
       "    </tr>\n",
       "  </thead>\n",
       "  <tbody>\n",
       "    <tr>\n",
       "      <th>Charged Off</th>\n",
       "      <td>5281.0</td>\n",
       "      <td>13.932233</td>\n",
       "      <td>3.652394</td>\n",
       "      <td>5.42</td>\n",
       "      <td>11.49</td>\n",
       "      <td>13.79</td>\n",
       "      <td>16.45</td>\n",
       "      <td>24.40</td>\n",
       "    </tr>\n",
       "    <tr>\n",
       "      <th>Fully Paid</th>\n",
       "      <td>31566.0</td>\n",
       "      <td>11.663133</td>\n",
       "      <td>3.609582</td>\n",
       "      <td>5.42</td>\n",
       "      <td>8.59</td>\n",
       "      <td>11.49</td>\n",
       "      <td>14.09</td>\n",
       "      <td>24.11</td>\n",
       "    </tr>\n",
       "  </tbody>\n",
       "</table>\n",
       "</div>"
      ],
      "text/plain": [
       "               count       mean       std   min    25%    50%    75%    max\n",
       "loan_status                                                                \n",
       "Charged Off   5281.0  13.932233  3.652394  5.42  11.49  13.79  16.45  24.40\n",
       "Fully Paid   31566.0  11.663133  3.609582  5.42   8.59  11.49  14.09  24.11"
      ]
     },
     "execution_count": 308,
     "metadata": {},
     "output_type": "execute_result"
    }
   ],
   "source": [
    "df.groupby(['loan_status'])['int_rate'].describe()"
   ]
  },
  {
   "cell_type": "code",
   "execution_count": 366,
   "id": "5b0631c1",
   "metadata": {},
   "outputs": [
    {
     "data": {
      "text/plain": [
       "<AxesSubplot:xlabel='loan_status'>"
      ]
     },
     "execution_count": 366,
     "metadata": {},
     "output_type": "execute_result"
    },
    {
     "data": {
      "image/png": "[encoded data removed]",
      "text/plain": [
       "<Figure size 432x288 with 1 Axes>"
      ]
     },
     "metadata": {},
     "output_type": "display_data"
    }
   ],
   "source": [
    "df.groupby(['loan_status'])['int_rate'].median().plot.bar()\n"
   ]
  },
  {
   "cell_type": "code",
   "execution_count": 367,
   "id": "712830c1",
   "metadata": {},
   "outputs": [
    {
     "data": {
      "text/plain": [
       "<AxesSubplot:xlabel='loan_status'>"
      ]
     },
     "execution_count": 367,
     "metadata": {},
     "output_type": "execute_result"
    },
    {
     "data": {
      "image/png": "[encoded data removed]",
      "text/plain": [
       "<Figure size 432x288 with 1 Axes>"
      ]
     },
     "metadata": {},
     "output_type": "display_data"
    }
   ],
   "source": [
    "df.groupby(['loan_status'])['int_rate'].mean().plot.bar()"
   ]
  },
  {
   "cell_type": "code",
   "execution_count": 368,
   "id": "048a5ef2",
   "metadata": {},
   "outputs": [
    {
     "data": {
      "text/plain": [
       "<AxesSubplot:xlabel='loan_status'>"
      ]
     },
     "execution_count": 368,
     "metadata": {},
     "output_type": "execute_result"
    },
    {
     "data": {
      "image/png": "[encoded data removed]",
      "text/plain": [
       "<Figure size 432x288 with 1 Axes>"
      ]
     },
     "metadata": {},
     "output_type": "display_data"
    }
   ],
   "source": [
    "df.groupby(['loan_status'])['int_rate'].min().plot.bar()"
   ]
  },
  {
   "cell_type": "code",
   "execution_count": 369,
   "id": "fa6dd0f0",
   "metadata": {},
   "outputs": [
    {
     "data": {
      "text/plain": [
       "<AxesSubplot:xlabel='loan_status'>"
      ]
     },
     "execution_count": 369,
     "metadata": {},
     "output_type": "execute_result"
    },
    {
     "data": {
      "image/png": "[encoded data removed]",
      "text/plain": [
       "<Figure size 432x288 with 1 Axes>"
      ]
     },
     "metadata": {},
     "output_type": "display_data"
    }
   ],
   "source": [
    "df.groupby(['loan_status'])['int_rate'].max().plot.bar()"
   ]
  },
  {
   "cell_type": "code",
   "execution_count": 370,
   "id": "1fb38141",
   "metadata": {},
   "outputs": [
    {
     "data": {
      "text/plain": [
       "<AxesSubplot:xlabel='loan_status', ylabel='int_rate'>"
      ]
     },
     "execution_count": 370,
     "metadata": {},
     "output_type": "execute_result"
    },
    {
     "data": {
      "image/png": "[encoded data removed]",
      "text/plain": [
       "<Figure size 432x288 with 1 Axes>"
      ]
     },
     "metadata": {},
     "output_type": "display_data"
    }
   ],
   "source": [
    "sns.barplot(data=df, x = 'loan_status', y='int_rate',estimator= np.median)"
   ]
  },
  {
   "cell_type": "code",
   "execution_count": 371,
   "id": "ad30cbfa",
   "metadata": {},
   "outputs": [
    {
     "data": {
      "text/plain": [
       "<AxesSubplot:xlabel='loan_status', ylabel='int_rate'>"
      ]
     },
     "execution_count": 371,
     "metadata": {},
     "output_type": "execute_result"
    },
    {
     "data": {
      "image/png": "[encoded data removed]",
      "text/plain": [
       "<Figure size 432x288 with 1 Axes>"
      ]
     },
     "metadata": {},
     "output_type": "display_data"
    }
   ],
   "source": [
    "sns.boxplot(df['loan_status'],df['int_rate'])"
   ]
  },
  {
   "cell_type": "code",
   "execution_count": 372,
   "id": "4d6bb436",
   "metadata": {},
   "outputs": [],
   "source": [
    "df['int_rate_bucket'] = pd.qcut(df['int_rate'] , 5, ['VL','L','M', 'H', 'VH'])"
   ]
  },
  {
   "cell_type": "code",
   "execution_count": 373,
   "id": "b7edf344",
   "metadata": {},
   "outputs": [],
   "source": [
    "hm_intrate = pd.pivot_table(data = df,\n",
    "               index = \"loan_status\",\n",
    "               columns = \"int_rate_bucket\",\n",
    "               values = \"int_rate\",\n",
    "               aggfunc = np.median)"
   ]
  },
  {
   "cell_type": "code",
   "execution_count": 374,
   "id": "5f099161",
   "metadata": {},
   "outputs": [
    {
     "name": "stdout",
     "output_type": "stream",
     "text": [
      "<class 'pandas.core.frame.DataFrame'>\n",
      "Index: 2 entries, Charged Off to Fully Paid\n",
      "Data columns (total 5 columns):\n",
      " #   Column  Non-Null Count  Dtype  \n",
      "---  ------  --------------  -----  \n",
      " 0   VL      2 non-null      float64\n",
      " 1   L       2 non-null      float64\n",
      " 2   M       2 non-null      float64\n",
      " 3   H       2 non-null      float64\n",
      " 4   VH      2 non-null      float64\n",
      "dtypes: float64(5)\n",
      "memory usage: 96.0+ bytes\n"
     ]
    }
   ],
   "source": [
    "hm_intrate.info()"
   ]
  },
  {
   "cell_type": "code",
   "execution_count": 375,
   "id": "055a5967",
   "metadata": {},
   "outputs": [
    {
     "data": {
      "text/html": [
       "<div>\n",
       "<style scoped>\n",
       "    .dataframe tbody tr th:only-of-type {\n",
       "        vertical-align: middle;\n",
       "    }\n",
       "\n",
       "    .dataframe tbody tr th {\n",
       "        vertical-align: top;\n",
       "    }\n",
       "\n",
       "    .dataframe thead th {\n",
       "        text-align: right;\n",
       "    }\n",
       "</style>\n",
       "<table border=\"1\" class=\"dataframe\">\n",
       "  <thead>\n",
       "    <tr style=\"text-align: right;\">\n",
       "      <th>int_rate_bucket</th>\n",
       "      <th>VL</th>\n",
       "      <th>L</th>\n",
       "      <th>M</th>\n",
       "      <th>H</th>\n",
       "      <th>VH</th>\n",
       "    </tr>\n",
       "  </thead>\n",
       "  <tbody>\n",
       "    <tr>\n",
       "      <th>count</th>\n",
       "      <td>2.00000</td>\n",
       "      <td>2.000000</td>\n",
       "      <td>2.000000</td>\n",
       "      <td>2.000000</td>\n",
       "      <td>2.000000</td>\n",
       "    </tr>\n",
       "    <tr>\n",
       "      <th>mean</th>\n",
       "      <td>7.28000</td>\n",
       "      <td>10.125000</td>\n",
       "      <td>11.875000</td>\n",
       "      <td>13.915000</td>\n",
       "      <td>17.080000</td>\n",
       "    </tr>\n",
       "    <tr>\n",
       "      <th>std</th>\n",
       "      <td>0.19799</td>\n",
       "      <td>0.176777</td>\n",
       "      <td>0.021213</td>\n",
       "      <td>0.091924</td>\n",
       "      <td>0.438406</td>\n",
       "    </tr>\n",
       "    <tr>\n",
       "      <th>min</th>\n",
       "      <td>7.14000</td>\n",
       "      <td>10.000000</td>\n",
       "      <td>11.860000</td>\n",
       "      <td>13.850000</td>\n",
       "      <td>16.770000</td>\n",
       "    </tr>\n",
       "    <tr>\n",
       "      <th>25%</th>\n",
       "      <td>7.21000</td>\n",
       "      <td>10.062500</td>\n",
       "      <td>11.867500</td>\n",
       "      <td>13.882500</td>\n",
       "      <td>16.925000</td>\n",
       "    </tr>\n",
       "    <tr>\n",
       "      <th>50%</th>\n",
       "      <td>7.28000</td>\n",
       "      <td>10.125000</td>\n",
       "      <td>11.875000</td>\n",
       "      <td>13.915000</td>\n",
       "      <td>17.080000</td>\n",
       "    </tr>\n",
       "    <tr>\n",
       "      <th>75%</th>\n",
       "      <td>7.35000</td>\n",
       "      <td>10.187500</td>\n",
       "      <td>11.882500</td>\n",
       "      <td>13.947500</td>\n",
       "      <td>17.235000</td>\n",
       "    </tr>\n",
       "    <tr>\n",
       "      <th>max</th>\n",
       "      <td>7.42000</td>\n",
       "      <td>10.250000</td>\n",
       "      <td>11.890000</td>\n",
       "      <td>13.980000</td>\n",
       "      <td>17.390000</td>\n",
       "    </tr>\n",
       "  </tbody>\n",
       "</table>\n",
       "</div>"
      ],
      "text/plain": [
       "int_rate_bucket       VL          L          M          H         VH\n",
       "count            2.00000   2.000000   2.000000   2.000000   2.000000\n",
       "mean             7.28000  10.125000  11.875000  13.915000  17.080000\n",
       "std              0.19799   0.176777   0.021213   0.091924   0.438406\n",
       "min              7.14000  10.000000  11.860000  13.850000  16.770000\n",
       "25%              7.21000  10.062500  11.867500  13.882500  16.925000\n",
       "50%              7.28000  10.125000  11.875000  13.915000  17.080000\n",
       "75%              7.35000  10.187500  11.882500  13.947500  17.235000\n",
       "max              7.42000  10.250000  11.890000  13.980000  17.390000"
      ]
     },
     "execution_count": 375,
     "metadata": {},
     "output_type": "execute_result"
    }
   ],
   "source": [
    "hm_intrate.describe()"
   ]
  },
  {
   "cell_type": "code",
   "execution_count": 377,
   "id": "76b818e5",
   "metadata": {},
   "outputs": [
    {
     "data": {
      "text/html": [
       "<div>\n",
       "<style scoped>\n",
       "    .dataframe tbody tr th:only-of-type {\n",
       "        vertical-align: middle;\n",
       "    }\n",
       "\n",
       "    .dataframe tbody tr th {\n",
       "        vertical-align: top;\n",
       "    }\n",
       "\n",
       "    .dataframe thead th {\n",
       "        text-align: right;\n",
       "    }\n",
       "</style>\n",
       "<table border=\"1\" class=\"dataframe\">\n",
       "  <thead>\n",
       "    <tr style=\"text-align: right;\">\n",
       "      <th>int_rate_bucket</th>\n",
       "      <th>VL</th>\n",
       "      <th>L</th>\n",
       "      <th>M</th>\n",
       "      <th>H</th>\n",
       "      <th>VH</th>\n",
       "    </tr>\n",
       "    <tr>\n",
       "      <th>loan_status</th>\n",
       "      <th></th>\n",
       "      <th></th>\n",
       "      <th></th>\n",
       "      <th></th>\n",
       "      <th></th>\n",
       "    </tr>\n",
       "  </thead>\n",
       "  <tbody>\n",
       "    <tr>\n",
       "      <th>Charged Off</th>\n",
       "      <td>7.42</td>\n",
       "      <td>10.25</td>\n",
       "      <td>11.89</td>\n",
       "      <td>13.98</td>\n",
       "      <td>17.39</td>\n",
       "    </tr>\n",
       "    <tr>\n",
       "      <th>Fully Paid</th>\n",
       "      <td>7.14</td>\n",
       "      <td>10.00</td>\n",
       "      <td>11.86</td>\n",
       "      <td>13.85</td>\n",
       "      <td>16.77</td>\n",
       "    </tr>\n",
       "  </tbody>\n",
       "</table>\n",
       "</div>"
      ],
      "text/plain": [
       "int_rate_bucket    VL      L      M      H     VH\n",
       "loan_status                                      \n",
       "Charged Off      7.42  10.25  11.89  13.98  17.39\n",
       "Fully Paid       7.14  10.00  11.86  13.85  16.77"
      ]
     },
     "execution_count": 377,
     "metadata": {},
     "output_type": "execute_result"
    }
   ],
   "source": [
    "hm_intrate.head()"
   ]
  },
  {
   "cell_type": "code",
   "execution_count": 376,
   "id": "e6a51a1f",
   "metadata": {},
   "outputs": [
    {
     "data": {
      "text/plain": [
       "VL    L      M      H      VH   \n",
       "7.14  10.00  11.86  13.85  16.77    1\n",
       "7.42  10.25  11.89  13.98  17.39    1\n",
       "dtype: int64"
      ]
     },
     "execution_count": 376,
     "metadata": {},
     "output_type": "execute_result"
    }
   ],
   "source": [
    "hm_intrate.value_counts()"
   ]
  },
  {
   "cell_type": "code",
   "execution_count": 378,
   "id": "5be7da1e",
   "metadata": {},
   "outputs": [
    {
     "data": {
      "text/plain": [
       "<AxesSubplot:xlabel='int_rate_bucket', ylabel='loan_status'>"
      ]
     },
     "execution_count": 378,
     "metadata": {},
     "output_type": "execute_result"
    },
    {
     "data": {
      "image/png": "[encoded data removed]",
      "text/plain": [
       "<Figure size 432x288 with 2 Axes>"
      ]
     },
     "metadata": {},
     "output_type": "display_data"
    }
   ],
   "source": [
    "sns.heatmap(hm_intrate,cmap=\"Greens\",annot=True)"
   ]
  },
  {
   "cell_type": "code",
   "execution_count": 379,
   "id": "3025d35d",
   "metadata": {},
   "outputs": [
    {
     "data": {
      "text/plain": [
       "<AxesSubplot:xlabel='loan_status'>"
      ]
     },
     "execution_count": 379,
     "metadata": {},
     "output_type": "execute_result"
    },
    {
     "data": {
      "image/png": "[encoded data removed]",
      "text/plain": [
       "<Figure size 432x288 with 1 Axes>"
      ]
     },
     "metadata": {},
     "output_type": "display_data"
    }
   ],
   "source": [
    "hm_intrate.plot.bar()"
   ]
  },
  {
   "cell_type": "code",
   "execution_count": 321,
   "id": "b6b31455",
   "metadata": {},
   "outputs": [
    {
     "data": {
      "text/plain": [
       "311.11    68\n",
       "311.02    54\n",
       "180.96    53\n",
       "150.80    46\n",
       "368.45    45\n",
       "          ..\n",
       "287.92     1\n",
       "157.44     1\n",
       "606.04     1\n",
       "550.23     1\n",
       "99.44      1\n",
       "Name: installment, Length: 14406, dtype: int64"
      ]
     },
     "execution_count": 321,
     "metadata": {},
     "output_type": "execute_result"
    }
   ],
   "source": [
    "df['installment'].value_counts()"
   ]
  },
  {
   "cell_type": "code",
   "execution_count": 322,
   "id": "6ab6477e",
   "metadata": {},
   "outputs": [
    {
     "data": {
      "text/plain": [
       "array([162.87,  59.83,  84.33, ..., 155.52, 507.46,  99.44])"
      ]
     },
     "execution_count": 322,
     "metadata": {},
     "output_type": "execute_result"
    }
   ],
   "source": [
    "df['installment'].unique()"
   ]
  },
  {
   "cell_type": "code",
   "execution_count": 380,
   "id": "6f87ddbc",
   "metadata": {},
   "outputs": [
    {
     "data": {
      "text/plain": [
       "count    36847.000000\n",
       "mean       324.694599\n",
       "std        208.886154\n",
       "min         16.080000\n",
       "25%        167.565000\n",
       "50%        280.000000\n",
       "75%        428.975000\n",
       "max       1305.190000\n",
       "Name: installment, dtype: float64"
      ]
     },
     "execution_count": 380,
     "metadata": {},
     "output_type": "execute_result"
    }
   ],
   "source": [
    "df['installment'].describe()"
   ]
  },
  {
   "cell_type": "code",
   "execution_count": 381,
   "id": "f80885e7",
   "metadata": {},
   "outputs": [
    {
     "data": {
      "image/png": "[encoded data removed]",
      "text/plain": [
       "<Figure size 432x288 with 1 Axes>"
      ]
     },
     "metadata": {},
     "output_type": "display_data"
    }
   ],
   "source": [
    "sns.boxplot(df['installment'])\n",
    "plt.show()"
   ]
  },
  {
   "cell_type": "code",
   "execution_count": 382,
   "id": "04f3dccd",
   "metadata": {},
   "outputs": [
    {
     "data": {
      "image/png": "[encoded data removed]",
      "text/plain": [
       "<Figure size 360x360 with 1 Axes>"
      ]
     },
     "metadata": {},
     "output_type": "display_data"
    }
   ],
   "source": [
    "sns.displot(df['installment'],bins=30,color = 'g')\n",
    "\n",
    "plt.show()"
   ]
  },
  {
   "cell_type": "code",
   "execution_count": 383,
   "id": "bf2f6220",
   "metadata": {},
   "outputs": [
    {
     "data": {
      "text/html": [
       "<div>\n",
       "<style scoped>\n",
       "    .dataframe tbody tr th:only-of-type {\n",
       "        vertical-align: middle;\n",
       "    }\n",
       "\n",
       "    .dataframe tbody tr th {\n",
       "        vertical-align: top;\n",
       "    }\n",
       "\n",
       "    .dataframe thead th {\n",
       "        text-align: right;\n",
       "    }\n",
       "</style>\n",
       "<table border=\"1\" class=\"dataframe\">\n",
       "  <thead>\n",
       "    <tr style=\"text-align: right;\">\n",
       "      <th></th>\n",
       "      <th>count</th>\n",
       "      <th>mean</th>\n",
       "      <th>std</th>\n",
       "      <th>min</th>\n",
       "      <th>25%</th>\n",
       "      <th>50%</th>\n",
       "      <th>75%</th>\n",
       "      <th>max</th>\n",
       "    </tr>\n",
       "    <tr>\n",
       "      <th>loan_status</th>\n",
       "      <th></th>\n",
       "      <th></th>\n",
       "      <th></th>\n",
       "      <th></th>\n",
       "      <th></th>\n",
       "      <th></th>\n",
       "      <th></th>\n",
       "      <th></th>\n",
       "    </tr>\n",
       "  </thead>\n",
       "  <tbody>\n",
       "    <tr>\n",
       "      <th>Charged Off</th>\n",
       "      <td>5281.0</td>\n",
       "      <td>338.291574</td>\n",
       "      <td>216.140397</td>\n",
       "      <td>22.79</td>\n",
       "      <td>171.4400</td>\n",
       "      <td>296.72</td>\n",
       "      <td>459.600</td>\n",
       "      <td>1305.19</td>\n",
       "    </tr>\n",
       "    <tr>\n",
       "      <th>Fully Paid</th>\n",
       "      <td>31566.0</td>\n",
       "      <td>322.419822</td>\n",
       "      <td>207.564341</td>\n",
       "      <td>16.08</td>\n",
       "      <td>166.9025</td>\n",
       "      <td>277.98</td>\n",
       "      <td>424.225</td>\n",
       "      <td>1295.21</td>\n",
       "    </tr>\n",
       "  </tbody>\n",
       "</table>\n",
       "</div>"
      ],
      "text/plain": [
       "               count        mean         std    min       25%     50%  \\\n",
       "loan_status                                                             \n",
       "Charged Off   5281.0  338.291574  216.140397  22.79  171.4400  296.72   \n",
       "Fully Paid   31566.0  322.419822  207.564341  16.08  166.9025  277.98   \n",
       "\n",
       "                 75%      max  \n",
       "loan_status                    \n",
       "Charged Off  459.600  1305.19  \n",
       "Fully Paid   424.225  1295.21  "
      ]
     },
     "execution_count": 383,
     "metadata": {},
     "output_type": "execute_result"
    }
   ],
   "source": [
    "df.groupby(['loan_status'])['installment'].describe()"
   ]
  },
  {
   "cell_type": "code",
   "execution_count": 384,
   "id": "eade81b6",
   "metadata": {},
   "outputs": [
    {
     "data": {
      "text/plain": [
       "<AxesSubplot:xlabel='loan_status'>"
      ]
     },
     "execution_count": 384,
     "metadata": {},
     "output_type": "execute_result"
    },
    {
     "data": {
      "image/png": "[encoded data removed]",
      "text/plain": [
       "<Figure size 432x288 with 1 Axes>"
      ]
     },
     "metadata": {},
     "output_type": "display_data"
    }
   ],
   "source": [
    "df.groupby(['loan_status'])['installment'].median().plot.bar()"
   ]
  },
  {
   "cell_type": "code",
   "execution_count": 385,
   "id": "bc9f1182",
   "metadata": {},
   "outputs": [
    {
     "data": {
      "text/plain": [
       "<AxesSubplot:xlabel='loan_status'>"
      ]
     },
     "execution_count": 385,
     "metadata": {},
     "output_type": "execute_result"
    },
    {
     "data": {
      "image/png": "[encoded data removed]",
      "text/plain": [
       "<Figure size 432x288 with 1 Axes>"
      ]
     },
     "metadata": {},
     "output_type": "display_data"
    }
   ],
   "source": [
    "df.groupby(['loan_status'])['installment'].mean().plot.bar()"
   ]
  },
  {
   "cell_type": "code",
   "execution_count": 386,
   "id": "1e7317bf",
   "metadata": {},
   "outputs": [
    {
     "data": {
      "text/plain": [
       "<AxesSubplot:xlabel='loan_status'>"
      ]
     },
     "execution_count": 386,
     "metadata": {},
     "output_type": "execute_result"
    },
    {
     "data": {
      "image/png": "[encoded data removed]",
      "text/plain": [
       "<Figure size 432x288 with 1 Axes>"
      ]
     },
     "metadata": {},
     "output_type": "display_data"
    }
   ],
   "source": [
    "df.groupby(['loan_status'])['installment'].min().plot.bar()"
   ]
  },
  {
   "cell_type": "code",
   "execution_count": 387,
   "id": "75a24289",
   "metadata": {},
   "outputs": [
    {
     "data": {
      "text/plain": [
       "<AxesSubplot:xlabel='loan_status'>"
      ]
     },
     "execution_count": 387,
     "metadata": {},
     "output_type": "execute_result"
    },
    {
     "data": {
      "image/png": "[encoded data removed]",
      "text/plain": [
       "<Figure size 432x288 with 1 Axes>"
      ]
     },
     "metadata": {},
     "output_type": "display_data"
    }
   ],
   "source": [
    "df.groupby(['loan_status'])['installment'].max().plot.bar()"
   ]
  },
  {
   "cell_type": "code",
   "execution_count": 388,
   "id": "198837e7",
   "metadata": {},
   "outputs": [
    {
     "data": {
      "text/plain": [
       "<AxesSubplot:xlabel='loan_status', ylabel='installment'>"
      ]
     },
     "execution_count": 388,
     "metadata": {},
     "output_type": "execute_result"
    },
    {
     "data": {
      "image/png": "[encoded data removed]",
      "text/plain": [
       "<Figure size 432x288 with 1 Axes>"
      ]
     },
     "metadata": {},
     "output_type": "display_data"
    }
   ],
   "source": [
    "sns.barplot(data=df, x = 'loan_status', y='installment',estimator= np.median)"
   ]
  },
  {
   "cell_type": "code",
   "execution_count": 389,
   "id": "ad1e64a0",
   "metadata": {},
   "outputs": [
    {
     "data": {
      "text/plain": [
       "<AxesSubplot:xlabel='loan_status', ylabel='installment'>"
      ]
     },
     "execution_count": 389,
     "metadata": {},
     "output_type": "execute_result"
    },
    {
     "data": {
      "image/png": "[encoded data removed]",
      "text/plain": [
       "<Figure size 432x288 with 1 Axes>"
      ]
     },
     "metadata": {},
     "output_type": "display_data"
    }
   ],
   "source": [
    "sns.barplot(data=df, x = 'loan_status', y='installment',estimator= np.mean)"
   ]
  },
  {
   "cell_type": "code",
   "execution_count": 390,
   "id": "bead12f4",
   "metadata": {},
   "outputs": [
    {
     "data": {
      "text/plain": [
       "<AxesSubplot:xlabel='loan_status', ylabel='installment'>"
      ]
     },
     "execution_count": 390,
     "metadata": {},
     "output_type": "execute_result"
    },
    {
     "data": {
      "image/png": "[encoded data removed]",
      "text/plain": [
       "<Figure size 432x288 with 1 Axes>"
      ]
     },
     "metadata": {},
     "output_type": "display_data"
    }
   ],
   "source": [
    "sns.boxplot(df['loan_status'],df['installment'])"
   ]
  },
  {
   "cell_type": "code",
   "execution_count": 391,
   "id": "27d711dd",
   "metadata": {},
   "outputs": [],
   "source": [
    "df['installment_bucket'] = pd.qcut(df['installment'] , 5, ['VL','L','M', 'H', 'VH'])"
   ]
  },
  {
   "cell_type": "code",
   "execution_count": 392,
   "id": "615fcb9b",
   "metadata": {},
   "outputs": [],
   "source": [
    "hm_instl = pd.pivot_table(data = df,\n",
    "               index = \"loan_status\",\n",
    "               columns = \"installment_bucket\",\n",
    "               values = \"installment\",\n",
    "               aggfunc = np.median)"
   ]
  },
  {
   "cell_type": "code",
   "execution_count": 393,
   "id": "d250adac",
   "metadata": {},
   "outputs": [
    {
     "data": {
      "text/plain": [
       "<AxesSubplot:xlabel='installment_bucket', ylabel='loan_status'>"
      ]
     },
     "execution_count": 393,
     "metadata": {},
     "output_type": "execute_result"
    },
    {
     "data": {
      "image/png": "[encoded data removed]",
      "text/plain": [
       "<Figure size 432x288 with 2 Axes>"
      ]
     },
     "metadata": {},
     "output_type": "display_data"
    }
   ],
   "source": [
    "sns.heatmap(hm_instl,cmap=\"Greens\",annot=True)"
   ]
  },
  {
   "cell_type": "code",
   "execution_count": 394,
   "id": "225d735f",
   "metadata": {},
   "outputs": [
    {
     "data": {
      "text/html": [
       "<div>\n",
       "<style scoped>\n",
       "    .dataframe tbody tr th:only-of-type {\n",
       "        vertical-align: middle;\n",
       "    }\n",
       "\n",
       "    .dataframe tbody tr th {\n",
       "        vertical-align: top;\n",
       "    }\n",
       "\n",
       "    .dataframe thead th {\n",
       "        text-align: right;\n",
       "    }\n",
       "</style>\n",
       "<table border=\"1\" class=\"dataframe\">\n",
       "  <thead>\n",
       "    <tr style=\"text-align: right;\">\n",
       "      <th>installment_bucket</th>\n",
       "      <th>VL</th>\n",
       "      <th>L</th>\n",
       "      <th>M</th>\n",
       "      <th>H</th>\n",
       "      <th>VH</th>\n",
       "    </tr>\n",
       "    <tr>\n",
       "      <th>loan_status</th>\n",
       "      <th></th>\n",
       "      <th></th>\n",
       "      <th></th>\n",
       "      <th></th>\n",
       "      <th></th>\n",
       "    </tr>\n",
       "  </thead>\n",
       "  <tbody>\n",
       "    <tr>\n",
       "      <th>Charged Off</th>\n",
       "      <td>99.205</td>\n",
       "      <td>187.25</td>\n",
       "      <td>279.61</td>\n",
       "      <td>389.01</td>\n",
       "      <td>619.225</td>\n",
       "    </tr>\n",
       "    <tr>\n",
       "      <th>Fully Paid</th>\n",
       "      <td>100.700</td>\n",
       "      <td>187.64</td>\n",
       "      <td>280.00</td>\n",
       "      <td>389.30</td>\n",
       "      <td>623.200</td>\n",
       "    </tr>\n",
       "  </tbody>\n",
       "</table>\n",
       "</div>"
      ],
      "text/plain": [
       "installment_bucket       VL       L       M       H       VH\n",
       "loan_status                                                 \n",
       "Charged Off          99.205  187.25  279.61  389.01  619.225\n",
       "Fully Paid          100.700  187.64  280.00  389.30  623.200"
      ]
     },
     "execution_count": 394,
     "metadata": {},
     "output_type": "execute_result"
    }
   ],
   "source": [
    "hm_instl.head()"
   ]
  },
  {
   "cell_type": "code",
   "execution_count": 395,
   "id": "f8a4cbfd",
   "metadata": {},
   "outputs": [
    {
     "data": {
      "text/html": [
       "<div>\n",
       "<style scoped>\n",
       "    .dataframe tbody tr th:only-of-type {\n",
       "        vertical-align: middle;\n",
       "    }\n",
       "\n",
       "    .dataframe tbody tr th {\n",
       "        vertical-align: top;\n",
       "    }\n",
       "\n",
       "    .dataframe thead th {\n",
       "        text-align: right;\n",
       "    }\n",
       "</style>\n",
       "<table border=\"1\" class=\"dataframe\">\n",
       "  <thead>\n",
       "    <tr style=\"text-align: right;\">\n",
       "      <th>installment_bucket</th>\n",
       "      <th>VL</th>\n",
       "      <th>L</th>\n",
       "      <th>M</th>\n",
       "      <th>H</th>\n",
       "      <th>VH</th>\n",
       "    </tr>\n",
       "  </thead>\n",
       "  <tbody>\n",
       "    <tr>\n",
       "      <th>count</th>\n",
       "      <td>2.000000</td>\n",
       "      <td>2.000000</td>\n",
       "      <td>2.000000</td>\n",
       "      <td>2.000000</td>\n",
       "      <td>2.000000</td>\n",
       "    </tr>\n",
       "    <tr>\n",
       "      <th>mean</th>\n",
       "      <td>99.952500</td>\n",
       "      <td>187.445000</td>\n",
       "      <td>279.805000</td>\n",
       "      <td>389.155000</td>\n",
       "      <td>621.212500</td>\n",
       "    </tr>\n",
       "    <tr>\n",
       "      <th>std</th>\n",
       "      <td>1.057125</td>\n",
       "      <td>0.275772</td>\n",
       "      <td>0.275772</td>\n",
       "      <td>0.205061</td>\n",
       "      <td>2.810749</td>\n",
       "    </tr>\n",
       "    <tr>\n",
       "      <th>min</th>\n",
       "      <td>99.205000</td>\n",
       "      <td>187.250000</td>\n",
       "      <td>279.610000</td>\n",
       "      <td>389.010000</td>\n",
       "      <td>619.225000</td>\n",
       "    </tr>\n",
       "    <tr>\n",
       "      <th>25%</th>\n",
       "      <td>99.578750</td>\n",
       "      <td>187.347500</td>\n",
       "      <td>279.707500</td>\n",
       "      <td>389.082500</td>\n",
       "      <td>620.218750</td>\n",
       "    </tr>\n",
       "    <tr>\n",
       "      <th>50%</th>\n",
       "      <td>99.952500</td>\n",
       "      <td>187.445000</td>\n",
       "      <td>279.805000</td>\n",
       "      <td>389.155000</td>\n",
       "      <td>621.212500</td>\n",
       "    </tr>\n",
       "    <tr>\n",
       "      <th>75%</th>\n",
       "      <td>100.326250</td>\n",
       "      <td>187.542500</td>\n",
       "      <td>279.902500</td>\n",
       "      <td>389.227500</td>\n",
       "      <td>622.206250</td>\n",
       "    </tr>\n",
       "    <tr>\n",
       "      <th>max</th>\n",
       "      <td>100.700000</td>\n",
       "      <td>187.640000</td>\n",
       "      <td>280.000000</td>\n",
       "      <td>389.300000</td>\n",
       "      <td>623.200000</td>\n",
       "    </tr>\n",
       "  </tbody>\n",
       "</table>\n",
       "</div>"
      ],
      "text/plain": [
       "installment_bucket          VL           L           M           H          VH\n",
       "count                 2.000000    2.000000    2.000000    2.000000    2.000000\n",
       "mean                 99.952500  187.445000  279.805000  389.155000  621.212500\n",
       "std                   1.057125    0.275772    0.275772    0.205061    2.810749\n",
       "min                  99.205000  187.250000  279.610000  389.010000  619.225000\n",
       "25%                  99.578750  187.347500  279.707500  389.082500  620.218750\n",
       "50%                  99.952500  187.445000  279.805000  389.155000  621.212500\n",
       "75%                 100.326250  187.542500  279.902500  389.227500  622.206250\n",
       "max                 100.700000  187.640000  280.000000  389.300000  623.200000"
      ]
     },
     "execution_count": 395,
     "metadata": {},
     "output_type": "execute_result"
    }
   ],
   "source": [
    "hm_instl.describe()"
   ]
  },
  {
   "cell_type": "code",
   "execution_count": 396,
   "id": "cb1f22fc",
   "metadata": {},
   "outputs": [
    {
     "data": {
      "text/plain": [
       "<AxesSubplot:xlabel='loan_status'>"
      ]
     },
     "execution_count": 396,
     "metadata": {},
     "output_type": "execute_result"
    },
    {
     "data": {
      "image/png": "[encoded data removed]",
      "text/plain": [
       "<Figure size 432x288 with 1 Axes>"
      ]
     },
     "metadata": {},
     "output_type": "display_data"
    }
   ],
   "source": [
    "hm_instl.plot.bar()"
   ]
  },
  {
   "cell_type": "code",
   "execution_count": 397,
   "id": "d406b18c",
   "metadata": {},
   "outputs": [
    {
     "data": {
      "text/plain": [
       "B    11150\n",
       "A     9518\n",
       "C     7486\n",
       "D     4868\n",
       "E     2585\n",
       "F      944\n",
       "G      296\n",
       "Name: grade, dtype: int64"
      ]
     },
     "execution_count": 397,
     "metadata": {},
     "output_type": "execute_result"
    }
   ],
   "source": [
    "df['grade'].value_counts()"
   ]
  },
  {
   "cell_type": "code",
   "execution_count": 398,
   "id": "55acaeca",
   "metadata": {},
   "outputs": [
    {
     "data": {
      "text/plain": [
       "<AxesSubplot:ylabel='grade'>"
      ]
     },
     "execution_count": 398,
     "metadata": {},
     "output_type": "execute_result"
    },
    {
     "data": {
      "image/png": "[encoded data removed]",
      "text/plain": [
       "<Figure size 432x288 with 1 Axes>"
      ]
     },
     "metadata": {},
     "output_type": "display_data"
    }
   ],
   "source": [
    "df['grade'].value_counts().plot.pie()"
   ]
  },
  {
   "cell_type": "code",
   "execution_count": 400,
   "id": "5dfde3c7",
   "metadata": {},
   "outputs": [
    {
     "data": {
      "image/png": "[encoded data removed]",
      "text/plain": [
       "<Figure size 432x288 with 1 Axes>"
      ]
     },
     "metadata": {},
     "output_type": "display_data"
    }
   ],
   "source": [
    "df['grade'].value_counts().plot.bar()\n",
    "plt.show()"
   ]
  },
  {
   "cell_type": "code",
   "execution_count": 401,
   "id": "c57c7e2a",
   "metadata": {},
   "outputs": [
    {
     "data": {
      "text/html": [
       "<div>\n",
       "<style scoped>\n",
       "    .dataframe tbody tr th:only-of-type {\n",
       "        vertical-align: middle;\n",
       "    }\n",
       "\n",
       "    .dataframe tbody tr th {\n",
       "        vertical-align: top;\n",
       "    }\n",
       "\n",
       "    .dataframe thead th {\n",
       "        text-align: right;\n",
       "    }\n",
       "</style>\n",
       "<table border=\"1\" class=\"dataframe\">\n",
       "  <thead>\n",
       "    <tr style=\"text-align: right;\">\n",
       "      <th></th>\n",
       "      <th>count</th>\n",
       "      <th>unique</th>\n",
       "      <th>top</th>\n",
       "      <th>freq</th>\n",
       "    </tr>\n",
       "    <tr>\n",
       "      <th>loan_status</th>\n",
       "      <th></th>\n",
       "      <th></th>\n",
       "      <th></th>\n",
       "      <th></th>\n",
       "    </tr>\n",
       "  </thead>\n",
       "  <tbody>\n",
       "    <tr>\n",
       "      <th>Charged Off</th>\n",
       "      <td>5281</td>\n",
       "      <td>7</td>\n",
       "      <td>B</td>\n",
       "      <td>1326</td>\n",
       "    </tr>\n",
       "    <tr>\n",
       "      <th>Fully Paid</th>\n",
       "      <td>31566</td>\n",
       "      <td>7</td>\n",
       "      <td>B</td>\n",
       "      <td>9824</td>\n",
       "    </tr>\n",
       "  </tbody>\n",
       "</table>\n",
       "</div>"
      ],
      "text/plain": [
       "             count unique top  freq\n",
       "loan_status                        \n",
       "Charged Off   5281      7   B  1326\n",
       "Fully Paid   31566      7   B  9824"
      ]
     },
     "execution_count": 401,
     "metadata": {},
     "output_type": "execute_result"
    }
   ],
   "source": [
    "df.groupby(['loan_status'])['grade'].describe()"
   ]
  },
  {
   "cell_type": "code",
   "execution_count": 406,
   "id": "038eabef",
   "metadata": {},
   "outputs": [
    {
     "data": {
      "text/plain": [
       "loan_status  grade\n",
       "Charged Off  B        1326\n",
       "             C        1254\n",
       "             D        1052\n",
       "             E         690\n",
       "             A         552\n",
       "             F         307\n",
       "             G         100\n",
       "Fully Paid   B        9824\n",
       "             A        8966\n",
       "             C        6232\n",
       "             D        3816\n",
       "             E        1895\n",
       "             F         637\n",
       "             G         196\n",
       "Name: grade, dtype: int64"
      ]
     },
     "execution_count": 406,
     "metadata": {},
     "output_type": "execute_result"
    }
   ],
   "source": [
    "df.groupby(['loan_status'])['grade'].value_counts()"
   ]
  },
  {
   "cell_type": "code",
   "execution_count": 407,
   "id": "44a7d3dd",
   "metadata": {},
   "outputs": [
    {
     "data": {
      "text/plain": [
       "<AxesSubplot:xlabel='loan_status,grade'>"
      ]
     },
     "execution_count": 407,
     "metadata": {},
     "output_type": "execute_result"
    },
    {
     "data": {
      "image/png": "[encoded data removed]",
      "text/plain": [
       "<Figure size 432x288 with 1 Axes>"
      ]
     },
     "metadata": {},
     "output_type": "display_data"
    }
   ],
   "source": [
    "df.groupby(['loan_status'])['grade'].value_counts().plot.bar()"
   ]
  },
  {
   "cell_type": "code",
   "execution_count": 413,
   "id": "e9d2d981",
   "metadata": {},
   "outputs": [],
   "source": [
    "grade_amnt = pd.pivot_table(data = df,\n",
    "               index = \"loan_status\",\n",
    "               columns = \"grade\",\n",
    "               values = \"loan_amnt\",\n",
    "               aggfunc = np.median)"
   ]
  },
  {
   "cell_type": "code",
   "execution_count": 414,
   "id": "0030e732",
   "metadata": {},
   "outputs": [
    {
     "data": {
      "text/html": [
       "<div>\n",
       "<style scoped>\n",
       "    .dataframe tbody tr th:only-of-type {\n",
       "        vertical-align: middle;\n",
       "    }\n",
       "\n",
       "    .dataframe tbody tr th {\n",
       "        vertical-align: top;\n",
       "    }\n",
       "\n",
       "    .dataframe thead th {\n",
       "        text-align: right;\n",
       "    }\n",
       "</style>\n",
       "<table border=\"1\" class=\"dataframe\">\n",
       "  <thead>\n",
       "    <tr style=\"text-align: right;\">\n",
       "      <th>grade</th>\n",
       "      <th>A</th>\n",
       "      <th>B</th>\n",
       "      <th>C</th>\n",
       "      <th>D</th>\n",
       "      <th>E</th>\n",
       "      <th>F</th>\n",
       "      <th>G</th>\n",
       "    </tr>\n",
       "    <tr>\n",
       "      <th>loan_status</th>\n",
       "      <th></th>\n",
       "      <th></th>\n",
       "      <th></th>\n",
       "      <th></th>\n",
       "      <th></th>\n",
       "      <th></th>\n",
       "      <th></th>\n",
       "    </tr>\n",
       "  </thead>\n",
       "  <tbody>\n",
       "    <tr>\n",
       "      <th>Charged Off</th>\n",
       "      <td>7000.0</td>\n",
       "      <td>9962.5</td>\n",
       "      <td>9950.0</td>\n",
       "      <td>10000.0</td>\n",
       "      <td>15000.0</td>\n",
       "      <td>20000.0</td>\n",
       "      <td>19100.0</td>\n",
       "    </tr>\n",
       "    <tr>\n",
       "      <th>Fully Paid</th>\n",
       "      <td>7750.0</td>\n",
       "      <td>10000.0</td>\n",
       "      <td>9600.0</td>\n",
       "      <td>10000.0</td>\n",
       "      <td>15000.0</td>\n",
       "      <td>17000.0</td>\n",
       "      <td>23250.0</td>\n",
       "    </tr>\n",
       "  </tbody>\n",
       "</table>\n",
       "</div>"
      ],
      "text/plain": [
       "grade             A        B       C        D        E        F        G\n",
       "loan_status                                                             \n",
       "Charged Off  7000.0   9962.5  9950.0  10000.0  15000.0  20000.0  19100.0\n",
       "Fully Paid   7750.0  10000.0  9600.0  10000.0  15000.0  17000.0  23250.0"
      ]
     },
     "execution_count": 414,
     "metadata": {},
     "output_type": "execute_result"
    }
   ],
   "source": [
    "grade_amnt.head()"
   ]
  },
  {
   "cell_type": "code",
   "execution_count": 415,
   "id": "5e09e34e",
   "metadata": {},
   "outputs": [
    {
     "data": {
      "text/plain": [
       "<AxesSubplot:xlabel='loan_status'>"
      ]
     },
     "execution_count": 415,
     "metadata": {},
     "output_type": "execute_result"
    },
    {
     "data": {
      "image/png": "[encoded data removed]",
      "text/plain": [
       "<Figure size 432x288 with 1 Axes>"
      ]
     },
     "metadata": {},
     "output_type": "display_data"
    }
   ],
   "source": [
    "grade_amnt.plot.bar()"
   ]
  },
  {
   "cell_type": "code",
   "execution_count": 419,
   "id": "79aaa0e3",
   "metadata": {},
   "outputs": [
    {
     "data": {
      "text/plain": [
       "A4    2762\n",
       "B3    2710\n",
       "A5    2602\n",
       "B5    2517\n",
       "B4    2346\n",
       "C1    1963\n",
       "B2    1898\n",
       "C2    1866\n",
       "A3    1702\n",
       "B1    1679\n",
       "C3    1423\n",
       "A2    1411\n",
       "D2    1230\n",
       "C4    1141\n",
       "C5    1093\n",
       "D3    1069\n",
       "A1    1041\n",
       "D1     888\n",
       "D4     882\n",
       "D5     799\n",
       "E1     702\n",
       "E2     596\n",
       "E3     501\n",
       "E4     410\n",
       "E5     376\n",
       "F1     298\n",
       "F2     223\n",
       "F3     169\n",
       "F4     145\n",
       "F5     109\n",
       "G1      92\n",
       "G2      77\n",
       "G4      54\n",
       "G3      45\n",
       "G5      28\n",
       "Name: sub_grade, dtype: int64"
      ]
     },
     "execution_count": 419,
     "metadata": {},
     "output_type": "execute_result"
    }
   ],
   "source": [
    "df['sub_grade'].value_counts()"
   ]
  },
  {
   "cell_type": "code",
   "execution_count": 420,
   "id": "858d6ca1",
   "metadata": {},
   "outputs": [
    {
     "data": {
      "text/plain": [
       "<AxesSubplot:ylabel='sub_grade'>"
      ]
     },
     "execution_count": 420,
     "metadata": {},
     "output_type": "execute_result"
    },
    {
     "data": {
      "image/png": "[encoded data removed]",
      "text/plain": [
       "<Figure size 432x288 with 1 Axes>"
      ]
     },
     "metadata": {},
     "output_type": "display_data"
    }
   ],
   "source": [
    "df['sub_grade'].value_counts().plot.pie()"
   ]
  },
  {
   "cell_type": "code",
   "execution_count": 421,
   "id": "fc7d1678",
   "metadata": {},
   "outputs": [
    {
     "data": {
      "image/png": "[encoded data removed]",
      "text/plain": [
       "<Figure size 432x288 with 1 Axes>"
      ]
     },
     "metadata": {},
     "output_type": "display_data"
    }
   ],
   "source": [
    "df['sub_grade'].value_counts().plot.bar()\n",
    "plt.show()"
   ]
  },
  {
   "cell_type": "code",
   "execution_count": 422,
   "id": "d09d8746",
   "metadata": {},
   "outputs": [
    {
     "data": {
      "text/html": [
       "<div>\n",
       "<style scoped>\n",
       "    .dataframe tbody tr th:only-of-type {\n",
       "        vertical-align: middle;\n",
       "    }\n",
       "\n",
       "    .dataframe tbody tr th {\n",
       "        vertical-align: top;\n",
       "    }\n",
       "\n",
       "    .dataframe thead th {\n",
       "        text-align: right;\n",
       "    }\n",
       "</style>\n",
       "<table border=\"1\" class=\"dataframe\">\n",
       "  <thead>\n",
       "    <tr style=\"text-align: right;\">\n",
       "      <th></th>\n",
       "      <th>count</th>\n",
       "      <th>unique</th>\n",
       "      <th>top</th>\n",
       "      <th>freq</th>\n",
       "    </tr>\n",
       "    <tr>\n",
       "      <th>loan_status</th>\n",
       "      <th></th>\n",
       "      <th></th>\n",
       "      <th></th>\n",
       "      <th></th>\n",
       "    </tr>\n",
       "  </thead>\n",
       "  <tbody>\n",
       "    <tr>\n",
       "      <th>Charged Off</th>\n",
       "      <td>5281</td>\n",
       "      <td>35</td>\n",
       "      <td>B5</td>\n",
       "      <td>339</td>\n",
       "    </tr>\n",
       "    <tr>\n",
       "      <th>Fully Paid</th>\n",
       "      <td>31566</td>\n",
       "      <td>35</td>\n",
       "      <td>A4</td>\n",
       "      <td>2595</td>\n",
       "    </tr>\n",
       "  </tbody>\n",
       "</table>\n",
       "</div>"
      ],
      "text/plain": [
       "             count unique top  freq\n",
       "loan_status                        \n",
       "Charged Off   5281     35  B5   339\n",
       "Fully Paid   31566     35  A4  2595"
      ]
     },
     "execution_count": 422,
     "metadata": {},
     "output_type": "execute_result"
    }
   ],
   "source": [
    "df.groupby(['loan_status'])['sub_grade'].describe()"
   ]
  },
  {
   "cell_type": "code",
   "execution_count": 423,
   "id": "a7565ece",
   "metadata": {},
   "outputs": [
    {
     "data": {
      "text/plain": [
       "loan_status  sub_grade\n",
       "Charged Off  B5           339\n",
       "             B3           323\n",
       "             B4           312\n",
       "             C1           309\n",
       "             C2           301\n",
       "                         ... \n",
       "Fully Paid   F5            57\n",
       "             G2            49\n",
       "             G4            41\n",
       "             G3            26\n",
       "             G5            18\n",
       "Name: sub_grade, Length: 70, dtype: int64"
      ]
     },
     "execution_count": 423,
     "metadata": {},
     "output_type": "execute_result"
    }
   ],
   "source": [
    "df.groupby(['loan_status'])['sub_grade'].value_counts()"
   ]
  },
  {
   "cell_type": "code",
   "execution_count": 427,
   "id": "d43f9a27",
   "metadata": {},
   "outputs": [
    {
     "data": {
      "text/plain": [
       "<AxesSubplot:xlabel='loan_status,sub_grade'>"
      ]
     },
     "execution_count": 427,
     "metadata": {},
     "output_type": "execute_result"
    },
    {
     "data": {
      "image/png": "[encoded data removed]",
      "text/plain": [
       "<Figure size 1440x1440 with 1 Axes>"
      ]
     },
     "metadata": {},
     "output_type": "display_data"
    }
   ],
   "source": [
    "plt.figure(figsize=[20,20])\n",
    "df.groupby(['loan_status'])['sub_grade'].value_counts().plot.bar()"
   ]
  },
  {
   "cell_type": "code",
   "execution_count": 428,
   "id": "9bff31f3",
   "metadata": {},
   "outputs": [],
   "source": [
    "sub_grade_amnt = pd.pivot_table(data = df,\n",
    "               index = \"loan_status\",\n",
    "               columns = \"sub_grade\",\n",
    "               values = \"loan_amnt\",\n",
    "               aggfunc = np.median)"
   ]
  },
  {
   "cell_type": "code",
   "execution_count": 429,
   "id": "769ccb6d",
   "metadata": {},
   "outputs": [
    {
     "data": {
      "text/html": [
       "<div>\n",
       "<style scoped>\n",
       "    .dataframe tbody tr th:only-of-type {\n",
       "        vertical-align: middle;\n",
       "    }\n",
       "\n",
       "    .dataframe tbody tr th {\n",
       "        vertical-align: top;\n",
       "    }\n",
       "\n",
       "    .dataframe thead th {\n",
       "        text-align: right;\n",
       "    }\n",
       "</style>\n",
       "<table border=\"1\" class=\"dataframe\">\n",
       "  <thead>\n",
       "    <tr style=\"text-align: right;\">\n",
       "      <th>sub_grade</th>\n",
       "      <th>A1</th>\n",
       "      <th>A2</th>\n",
       "      <th>A3</th>\n",
       "      <th>A4</th>\n",
       "      <th>A5</th>\n",
       "      <th>B1</th>\n",
       "      <th>B2</th>\n",
       "      <th>B3</th>\n",
       "      <th>B4</th>\n",
       "      <th>B5</th>\n",
       "      <th>...</th>\n",
       "      <th>F1</th>\n",
       "      <th>F2</th>\n",
       "      <th>F3</th>\n",
       "      <th>F4</th>\n",
       "      <th>F5</th>\n",
       "      <th>G1</th>\n",
       "      <th>G2</th>\n",
       "      <th>G3</th>\n",
       "      <th>G4</th>\n",
       "      <th>G5</th>\n",
       "    </tr>\n",
       "    <tr>\n",
       "      <th>loan_status</th>\n",
       "      <th></th>\n",
       "      <th></th>\n",
       "      <th></th>\n",
       "      <th></th>\n",
       "      <th></th>\n",
       "      <th></th>\n",
       "      <th></th>\n",
       "      <th></th>\n",
       "      <th></th>\n",
       "      <th></th>\n",
       "      <th></th>\n",
       "      <th></th>\n",
       "      <th></th>\n",
       "      <th></th>\n",
       "      <th></th>\n",
       "      <th></th>\n",
       "      <th></th>\n",
       "      <th></th>\n",
       "      <th></th>\n",
       "      <th></th>\n",
       "      <th></th>\n",
       "    </tr>\n",
       "  </thead>\n",
       "  <tbody>\n",
       "    <tr>\n",
       "      <th>Charged Off</th>\n",
       "      <td>7250.0</td>\n",
       "      <td>6125.0</td>\n",
       "      <td>8000.0</td>\n",
       "      <td>7000.0</td>\n",
       "      <td>7600.0</td>\n",
       "      <td>8000.0</td>\n",
       "      <td>8000.0</td>\n",
       "      <td>10000.0</td>\n",
       "      <td>10000.0</td>\n",
       "      <td>10000.0</td>\n",
       "      <td>...</td>\n",
       "      <td>20000.0</td>\n",
       "      <td>19000.0</td>\n",
       "      <td>19212.5</td>\n",
       "      <td>20000.0</td>\n",
       "      <td>20250.0</td>\n",
       "      <td>16500.0</td>\n",
       "      <td>19500.0</td>\n",
       "      <td>20000.0</td>\n",
       "      <td>14500.0</td>\n",
       "      <td>18250.0</td>\n",
       "    </tr>\n",
       "    <tr>\n",
       "      <th>Fully Paid</th>\n",
       "      <td>6000.0</td>\n",
       "      <td>6500.0</td>\n",
       "      <td>7000.0</td>\n",
       "      <td>8125.0</td>\n",
       "      <td>9000.0</td>\n",
       "      <td>9000.0</td>\n",
       "      <td>9500.0</td>\n",
       "      <td>10000.0</td>\n",
       "      <td>10000.0</td>\n",
       "      <td>10000.0</td>\n",
       "      <td>...</td>\n",
       "      <td>16000.0</td>\n",
       "      <td>15500.0</td>\n",
       "      <td>18000.0</td>\n",
       "      <td>16750.0</td>\n",
       "      <td>20000.0</td>\n",
       "      <td>20337.5</td>\n",
       "      <td>25000.0</td>\n",
       "      <td>20750.0</td>\n",
       "      <td>24000.0</td>\n",
       "      <td>20000.0</td>\n",
       "    </tr>\n",
       "  </tbody>\n",
       "</table>\n",
       "<p>2 rows × 35 columns</p>\n",
       "</div>"
      ],
      "text/plain": [
       "sub_grade        A1      A2      A3      A4      A5      B1      B2       B3  \\\n",
       "loan_status                                                                    \n",
       "Charged Off  7250.0  6125.0  8000.0  7000.0  7600.0  8000.0  8000.0  10000.0   \n",
       "Fully Paid   6000.0  6500.0  7000.0  8125.0  9000.0  9000.0  9500.0  10000.0   \n",
       "\n",
       "sub_grade         B4       B5  ...       F1       F2       F3       F4  \\\n",
       "loan_status                    ...                                       \n",
       "Charged Off  10000.0  10000.0  ...  20000.0  19000.0  19212.5  20000.0   \n",
       "Fully Paid   10000.0  10000.0  ...  16000.0  15500.0  18000.0  16750.0   \n",
       "\n",
       "sub_grade         F5       G1       G2       G3       G4       G5  \n",
       "loan_status                                                        \n",
       "Charged Off  20250.0  16500.0  19500.0  20000.0  14500.0  18250.0  \n",
       "Fully Paid   20000.0  20337.5  25000.0  20750.0  24000.0  20000.0  \n",
       "\n",
       "[2 rows x 35 columns]"
      ]
     },
     "execution_count": 429,
     "metadata": {},
     "output_type": "execute_result"
    }
   ],
   "source": [
    "sub_grade_amnt.head()"
   ]
  },
  {
   "cell_type": "code",
   "execution_count": 430,
   "id": "2fb0f7c9",
   "metadata": {},
   "outputs": [
    {
     "data": {
      "text/plain": [
       "<AxesSubplot:xlabel='loan_status'>"
      ]
     },
     "execution_count": 430,
     "metadata": {},
     "output_type": "execute_result"
    },
    {
     "data": {
      "image/png": "[encoded data removed]",
      "text/plain": [
       "<Figure size 432x288 with 1 Axes>"
      ]
     },
     "metadata": {},
     "output_type": "display_data"
    }
   ],
   "source": [
    "grade_amnt.plot.bar()"
   ]
  },
  {
   "cell_type": "code",
   "execution_count": 432,
   "id": "b2fdb461",
   "metadata": {},
   "outputs": [
    {
     "data": {
      "text/plain": [
       "10+ years    8369\n",
       "< 1 year     4341\n",
       "2 years      4207\n",
       "3 years      3951\n",
       "4 years      3297\n",
       "5 years      3161\n",
       "1 year       3077\n",
       "6 years      2136\n",
       "7 years      1689\n",
       "8 years      1410\n",
       "9 years      1209\n",
       "Name: emp_length, dtype: int64"
      ]
     },
     "execution_count": 432,
     "metadata": {},
     "output_type": "execute_result"
    }
   ],
   "source": [
    "df['emp_length'].value_counts()"
   ]
  },
  {
   "cell_type": "code",
   "execution_count": 434,
   "id": "fee90d42",
   "metadata": {},
   "outputs": [],
   "source": [
    "emplen = {\n",
    "    '< 1 year' : 0,\n",
    "    '1 year' : 1,\n",
    "    '2 years' : 2,\n",
    "    '3 years' : 3,\n",
    "    '4 years' : 4,\n",
    "    '5 years' : 5,\n",
    "    '6 years' : 6,\n",
    "    '7 years' : 7,\n",
    "    '8 years' : 8,\n",
    "    '9 years' : 9,\n",
    "    '10+ years' : 10\n",
    "}\n",
    "\n",
    "df = df.replace({'emp_length': emplen})"
   ]
  },
  {
   "cell_type": "code",
   "execution_count": 435,
   "id": "12b87953",
   "metadata": {},
   "outputs": [
    {
     "data": {
      "text/plain": [
       "10    8369\n",
       "0     4341\n",
       "2     4207\n",
       "3     3951\n",
       "4     3297\n",
       "5     3161\n",
       "1     3077\n",
       "6     2136\n",
       "7     1689\n",
       "8     1410\n",
       "9     1209\n",
       "Name: emp_length, dtype: int64"
      ]
     },
     "execution_count": 435,
     "metadata": {},
     "output_type": "execute_result"
    }
   ],
   "source": [
    "df['emp_length'].value_counts()"
   ]
  },
  {
   "cell_type": "code",
   "execution_count": 436,
   "id": "bfb31b7c",
   "metadata": {},
   "outputs": [
    {
     "data": {
      "text/plain": [
       "<AxesSubplot:ylabel='emp_length'>"
      ]
     },
     "execution_count": 436,
     "metadata": {},
     "output_type": "execute_result"
    },
    {
     "data": {
      "image/png": "[encoded data removed]",
      "text/plain": [
       "<Figure size 432x288 with 1 Axes>"
      ]
     },
     "metadata": {},
     "output_type": "display_data"
    }
   ],
   "source": [
    "df['emp_length'].value_counts().plot.pie()"
   ]
  },
  {
   "cell_type": "code",
   "execution_count": 437,
   "id": "bae00ee2",
   "metadata": {},
   "outputs": [
    {
     "data": {
      "text/plain": [
       "<AxesSubplot:>"
      ]
     },
     "execution_count": 437,
     "metadata": {},
     "output_type": "execute_result"
    },
    {
     "data": {
      "image/png": "[encoded data removed]",
      "text/plain": [
       "<Figure size 432x288 with 1 Axes>"
      ]
     },
     "metadata": {},
     "output_type": "display_data"
    }
   ],
   "source": [
    "df['emp_length'].value_counts().plot.bar()\n"
   ]
  },
  {
   "cell_type": "code",
   "execution_count": 438,
   "id": "aebc0290",
   "metadata": {},
   "outputs": [
    {
     "data": {
      "text/html": [
       "<div>\n",
       "<style scoped>\n",
       "    .dataframe tbody tr th:only-of-type {\n",
       "        vertical-align: middle;\n",
       "    }\n",
       "\n",
       "    .dataframe tbody tr th {\n",
       "        vertical-align: top;\n",
       "    }\n",
       "\n",
       "    .dataframe thead th {\n",
       "        text-align: right;\n",
       "    }\n",
       "</style>\n",
       "<table border=\"1\" class=\"dataframe\">\n",
       "  <thead>\n",
       "    <tr style=\"text-align: right;\">\n",
       "      <th></th>\n",
       "      <th>count</th>\n",
       "      <th>mean</th>\n",
       "      <th>std</th>\n",
       "      <th>min</th>\n",
       "      <th>25%</th>\n",
       "      <th>50%</th>\n",
       "      <th>75%</th>\n",
       "      <th>max</th>\n",
       "    </tr>\n",
       "    <tr>\n",
       "      <th>loan_status</th>\n",
       "      <th></th>\n",
       "      <th></th>\n",
       "      <th></th>\n",
       "      <th></th>\n",
       "      <th></th>\n",
       "      <th></th>\n",
       "      <th></th>\n",
       "      <th></th>\n",
       "    </tr>\n",
       "  </thead>\n",
       "  <tbody>\n",
       "    <tr>\n",
       "      <th>Charged Off</th>\n",
       "      <td>5281.0</td>\n",
       "      <td>5.096951</td>\n",
       "      <td>3.593354</td>\n",
       "      <td>0.0</td>\n",
       "      <td>2.0</td>\n",
       "      <td>5.0</td>\n",
       "      <td>9.0</td>\n",
       "      <td>10.0</td>\n",
       "    </tr>\n",
       "    <tr>\n",
       "      <th>Fully Paid</th>\n",
       "      <td>31566.0</td>\n",
       "      <td>4.939175</td>\n",
       "      <td>3.544334</td>\n",
       "      <td>0.0</td>\n",
       "      <td>2.0</td>\n",
       "      <td>4.0</td>\n",
       "      <td>9.0</td>\n",
       "      <td>10.0</td>\n",
       "    </tr>\n",
       "  </tbody>\n",
       "</table>\n",
       "</div>"
      ],
      "text/plain": [
       "               count      mean       std  min  25%  50%  75%   max\n",
       "loan_status                                                       \n",
       "Charged Off   5281.0  5.096951  3.593354  0.0  2.0  5.0  9.0  10.0\n",
       "Fully Paid   31566.0  4.939175  3.544334  0.0  2.0  4.0  9.0  10.0"
      ]
     },
     "execution_count": 438,
     "metadata": {},
     "output_type": "execute_result"
    }
   ],
   "source": [
    "df.groupby(['loan_status'])['emp_length'].describe()"
   ]
  },
  {
   "cell_type": "code",
   "execution_count": 439,
   "id": "470b2cfb",
   "metadata": {},
   "outputs": [
    {
     "data": {
      "text/plain": [
       "loan_status  emp_length\n",
       "Charged Off  10            1303\n",
       "             0              612\n",
       "             2              556\n",
       "             3              549\n",
       "             5              454\n",
       "             4              450\n",
       "             1              442\n",
       "             6              301\n",
       "             7              258\n",
       "             8              200\n",
       "             9              156\n",
       "Fully Paid   10            7066\n",
       "             0             3729\n",
       "             2             3651\n",
       "             3             3402\n",
       "             4             2847\n",
       "             5             2707\n",
       "             1             2635\n",
       "             6             1835\n",
       "             7             1431\n",
       "             8             1210\n",
       "             9             1053\n",
       "Name: emp_length, dtype: int64"
      ]
     },
     "execution_count": 439,
     "metadata": {},
     "output_type": "execute_result"
    }
   ],
   "source": [
    "df.groupby(['loan_status'])['emp_length'].value_counts()"
   ]
  },
  {
   "cell_type": "code",
   "execution_count": 440,
   "id": "b13fa2c8",
   "metadata": {},
   "outputs": [
    {
     "data": {
      "text/plain": [
       "<AxesSubplot:xlabel='loan_status,emp_length'>"
      ]
     },
     "execution_count": 440,
     "metadata": {},
     "output_type": "execute_result"
    },
    {
     "data": {
      "image/png": "[encoded data removed]",
      "text/plain": [
       "<Figure size 432x288 with 1 Axes>"
      ]
     },
     "metadata": {},
     "output_type": "display_data"
    }
   ],
   "source": [
    "df.groupby(['loan_status'])['emp_length'].value_counts().plot.bar()"
   ]
  },
  {
   "cell_type": "code",
   "execution_count": 441,
   "id": "9f1306be",
   "metadata": {},
   "outputs": [],
   "source": [
    "emplen_amnt = pd.pivot_table(data = df,\n",
    "               index = \"loan_status\",\n",
    "               columns = \"emp_length\",\n",
    "               values = \"loan_amnt\",\n",
    "               aggfunc = np.median)"
   ]
  },
  {
   "cell_type": "code",
   "execution_count": 442,
   "id": "da5d5192",
   "metadata": {},
   "outputs": [
    {
     "data": {
      "text/html": [
       "<div>\n",
       "<style scoped>\n",
       "    .dataframe tbody tr th:only-of-type {\n",
       "        vertical-align: middle;\n",
       "    }\n",
       "\n",
       "    .dataframe tbody tr th {\n",
       "        vertical-align: top;\n",
       "    }\n",
       "\n",
       "    .dataframe thead th {\n",
       "        text-align: right;\n",
       "    }\n",
       "</style>\n",
       "<table border=\"1\" class=\"dataframe\">\n",
       "  <thead>\n",
       "    <tr style=\"text-align: right;\">\n",
       "      <th>emp_length</th>\n",
       "      <th>0</th>\n",
       "      <th>1</th>\n",
       "      <th>2</th>\n",
       "      <th>3</th>\n",
       "      <th>4</th>\n",
       "      <th>5</th>\n",
       "      <th>6</th>\n",
       "      <th>7</th>\n",
       "      <th>8</th>\n",
       "      <th>9</th>\n",
       "      <th>10</th>\n",
       "    </tr>\n",
       "    <tr>\n",
       "      <th>loan_status</th>\n",
       "      <th></th>\n",
       "      <th></th>\n",
       "      <th></th>\n",
       "      <th></th>\n",
       "      <th></th>\n",
       "      <th></th>\n",
       "      <th></th>\n",
       "      <th></th>\n",
       "      <th></th>\n",
       "      <th></th>\n",
       "      <th></th>\n",
       "    </tr>\n",
       "  </thead>\n",
       "  <tbody>\n",
       "    <tr>\n",
       "      <th>Charged Off</th>\n",
       "      <td>8000.0</td>\n",
       "      <td>8500.0</td>\n",
       "      <td>8937.5</td>\n",
       "      <td>10000.0</td>\n",
       "      <td>10000.0</td>\n",
       "      <td>10000.0</td>\n",
       "      <td>11100.0</td>\n",
       "      <td>11600.0</td>\n",
       "      <td>11750.0</td>\n",
       "      <td>12000.0</td>\n",
       "      <td>13200.0</td>\n",
       "    </tr>\n",
       "    <tr>\n",
       "      <th>Fully Paid</th>\n",
       "      <td>8000.0</td>\n",
       "      <td>8000.0</td>\n",
       "      <td>8050.0</td>\n",
       "      <td>9000.0</td>\n",
       "      <td>9600.0</td>\n",
       "      <td>9900.0</td>\n",
       "      <td>10000.0</td>\n",
       "      <td>10000.0</td>\n",
       "      <td>10000.0</td>\n",
       "      <td>10000.0</td>\n",
       "      <td>10200.0</td>\n",
       "    </tr>\n",
       "  </tbody>\n",
       "</table>\n",
       "</div>"
      ],
      "text/plain": [
       "emp_length       0       1       2        3        4        5        6   \\\n",
       "loan_status                                                               \n",
       "Charged Off  8000.0  8500.0  8937.5  10000.0  10000.0  10000.0  11100.0   \n",
       "Fully Paid   8000.0  8000.0  8050.0   9000.0   9600.0   9900.0  10000.0   \n",
       "\n",
       "emp_length        7        8        9        10  \n",
       "loan_status                                      \n",
       "Charged Off  11600.0  11750.0  12000.0  13200.0  \n",
       "Fully Paid   10000.0  10000.0  10000.0  10200.0  "
      ]
     },
     "execution_count": 442,
     "metadata": {},
     "output_type": "execute_result"
    }
   ],
   "source": [
    "emplen_amnt.head()"
   ]
  },
  {
   "cell_type": "code",
   "execution_count": 443,
   "id": "7aa53ebb",
   "metadata": {},
   "outputs": [
    {
     "data": {
      "text/plain": [
       "<AxesSubplot:xlabel='loan_status'>"
      ]
     },
     "execution_count": 443,
     "metadata": {},
     "output_type": "execute_result"
    },
    {
     "data": {
      "image/png": "[encoded data removed]",
      "text/plain": [
       "<Figure size 432x288 with 1 Axes>"
      ]
     },
     "metadata": {},
     "output_type": "display_data"
    }
   ],
   "source": [
    "emplen_amnt.plot.bar()"
   ]
  },
  {
   "cell_type": "code",
   "execution_count": 445,
   "id": "cd237775",
   "metadata": {},
   "outputs": [
    {
     "data": {
      "text/plain": [
       "count    36847.000000\n",
       "mean         4.961788\n",
       "std          3.551783\n",
       "min          0.000000\n",
       "25%          2.000000\n",
       "50%          4.000000\n",
       "75%          9.000000\n",
       "max         10.000000\n",
       "Name: emp_length, dtype: float64"
      ]
     },
     "execution_count": 445,
     "metadata": {},
     "output_type": "execute_result"
    }
   ],
   "source": [
    "df['emp_length'].describe()"
   ]
  },
  {
   "cell_type": "code",
   "execution_count": 446,
   "id": "dd38f161",
   "metadata": {},
   "outputs": [
    {
     "data": {
      "text/plain": [
       "<AxesSubplot:xlabel='emp_length'>"
      ]
     },
     "execution_count": 446,
     "metadata": {},
     "output_type": "execute_result"
    },
    {
     "data": {
      "image/png": "[encoded data removed]",
      "text/plain": [
       "<Figure size 432x288 with 1 Axes>"
      ]
     },
     "metadata": {},
     "output_type": "display_data"
    }
   ],
   "source": [
    "sns.boxplot(df['emp_length'])"
   ]
  },
  {
   "cell_type": "code",
   "execution_count": 447,
   "id": "36f9409c",
   "metadata": {},
   "outputs": [
    {
     "data": {
      "image/png": "[encoded data removed]",
      "text/plain": [
       "<Figure size 360x360 with 1 Axes>"
      ]
     },
     "metadata": {},
     "output_type": "display_data"
    }
   ],
   "source": [
    "sns.displot(df['emp_length'],bins = 30)\n",
    "plt.show()"
   ]
  },
  {
   "cell_type": "code",
   "execution_count": 448,
   "id": "f0945af5",
   "metadata": {},
   "outputs": [
    {
     "data": {
      "text/plain": [
       "<AxesSubplot:xlabel='loan_status'>"
      ]
     },
     "execution_count": 448,
     "metadata": {},
     "output_type": "execute_result"
    },
    {
     "data": {
      "image/png": "[encoded data removed]",
      "text/plain": [
       "<Figure size 432x288 with 1 Axes>"
      ]
     },
     "metadata": {},
     "output_type": "display_data"
    }
   ],
   "source": [
    "df.groupby(['loan_status'])['emp_length'].median().plot.bar()"
   ]
  },
  {
   "cell_type": "code",
   "execution_count": 449,
   "id": "a525564a",
   "metadata": {},
   "outputs": [
    {
     "data": {
      "text/plain": [
       "<AxesSubplot:xlabel='loan_status'>"
      ]
     },
     "execution_count": 449,
     "metadata": {},
     "output_type": "execute_result"
    },
    {
     "data": {
      "image/png": "[encoded data removed]",
      "text/plain": [
       "<Figure size 432x288 with 1 Axes>"
      ]
     },
     "metadata": {},
     "output_type": "display_data"
    }
   ],
   "source": [
    "df.groupby(['loan_status'])['emp_length'].mean().plot.bar()"
   ]
  },
  {
   "cell_type": "code",
   "execution_count": 451,
   "id": "f28725c8",
   "metadata": {},
   "outputs": [
    {
     "data": {
      "text/plain": [
       "<AxesSubplot:xlabel='loan_status', ylabel='emp_length'>"
      ]
     },
     "execution_count": 451,
     "metadata": {},
     "output_type": "execute_result"
    },
    {
     "data": {
      "image/png": "[encoded data removed]",
      "text/plain": [
       "<Figure size 432x288 with 1 Axes>"
      ]
     },
     "metadata": {},
     "output_type": "display_data"
    }
   ],
   "source": [
    "sns.barplot(data=df, x = 'loan_status', y='emp_length',estimator= np.median)"
   ]
  },
  {
   "cell_type": "code",
   "execution_count": 453,
   "id": "6b7a6fe3",
   "metadata": {},
   "outputs": [
    {
     "data": {
      "text/plain": [
       "RENT        17698\n",
       "MORTGAGE    16343\n",
       "OWN          2708\n",
       "OTHER          98\n",
       "Name: home_ownership, dtype: int64"
      ]
     },
     "execution_count": 453,
     "metadata": {},
     "output_type": "execute_result"
    }
   ],
   "source": [
    "df['home_ownership'].value_counts()"
   ]
  },
  {
   "cell_type": "code",
   "execution_count": null,
   "id": "c8428cf5",
   "metadata": {},
   "outputs": [],
   "source": []
  }
 ],
 "metadata": {
  "interpreter": {
   "hash": "5ed4318d83284b8ce803ccb8372dfd51935c9502bc1ffce39b8fe7a7e7d0ed66"
  },
  "kernelspec": {
   "display_name": "Python 3.8.11 64-bit ('preprep': conda)",
   "name": "python3"
  },
  "language_info": {
   "codemirror_mode": {
    "name": "ipython",
    "version": 3
   },
   "file_extension": ".py",
   "mimetype": "text/x-python",
   "name": "python",
   "nbconvert_exporter": "python",
   "pygments_lexer": "ipython3",
   "version": "3.8.11"
  }
 },
 "nbformat": 4,
 "nbformat_minor": 5
}
