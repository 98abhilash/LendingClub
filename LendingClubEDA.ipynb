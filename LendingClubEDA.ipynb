{
 "cells": [
  {
   "cell_type": "markdown",
   "id": "4f93f4f7",
   "metadata": {},
   "source": [
    "# Lending Club Case Study"
   ]
  },
  {
   "cell_type": "markdown",
   "metadata": {},
   "source": [
    "# Notes\n",
    "\n",
    "- Remove rows with current loan status\n",
    "- loan_amnt, funded_amnt, funded_amnt_inv\n",
    "- Consider only loan_amnt - because need to decide before approval\n",
    "- Data Understanding\n",
    "- Data cleaning\n",
    "- Data Analysis\n",
    "- Recommendations \n",
    "- Data Cleaning\n",
    "- Check the percentage of missing values\n",
    "- Drop columns with high percentage of missing values\n",
    "- Perform imputations for less missing percentage values columns (Identify correct metric)\n",
    "- Median for outliers and mean for no outliers and mode for categorical data\n",
    "- Drop rows where the missing percentage is quite high\n",
    "\n",
    "- Drop columns having single value as data as it has no influence on the decision\n",
    "\n",
    "- For interest rate values are like 6.5%, do data cleaning and convert it into float data\n",
    "- For Employment length create your own rule and mention the assumptions (required float datatype)\n",
    "\n",
    "- Don't use variables which shows the behaviour of the applicants during the loan period\n",
    "- Use only variables that are presented when the applications was made\n",
    "\n",
    "- Three types of variables\n",
    "- - related to the applicant (demographic variables such as age, occupation, employment details, etc)\n",
    "- - Loan characteristics (amount of loan, interest rate, purpose of loan etc)\n",
    "- - Customer behavior (those which are generated after the loan is approved)\n",
    "\n",
    "- Customer behavior are not available at the time of loan application, thus they cannot be used as predictors\n",
    "- Loan status with current to be removed and tag other two as 0 and 1 for easy and clean analysis\n",
    "- Use cusotmer behavior data for others/past loan of the applicants collected from bureau orgs, drop current loan customer behavior\n",
    "\n",
    "### Few important variables\n",
    "\n",
    "- loan amnt\n",
    "- term\n",
    "- interest rate\n",
    "- grade\n",
    "- subgrade\n",
    "- annual income\n",
    "- purpose of loan\n",
    "- DTI (Debt to income)\n",
    "- Emp_length\n",
    "- Loan_Date (Month)\n",
    "- Home_Ownership\n",
    "- Verification_status \n",
    "- - Income Verified (pay slips, tax returns) \n",
    "- - Income source verified (1st party vendors has checked) \n",
    "- - Not verified\n",
    "\n",
    "### Customer behavior variables\n",
    "\n",
    "- delinq_2yrs\n",
    "- earlies_cr_line\n",
    "- inq_last_6mnths\n",
    "- open_acc\n",
    "- pub_rec\n",
    "- revol_bal\n",
    "- total_acc\n",
    "- out_prncp\n",
    "- out_prncp_inv\n",
    "- total_pymnt\n",
    "- total_pymnt_inv\n",
    "- total_rec_prncp\n",
    "- total_rec_int\n",
    "- total_rec_late_fee\n",
    "- last_pymnt_d\n",
    "- last_pymnt_amnt\n",
    "- last_credit_pull_d\n",
    "- application_type\n",
    "\n",
    "- Customer behavior variables are not available at the time of loan application and cannot be used as predictors\n",
    "- variables such as acc_now_delinq, chargeoff_with_12months etc (which are related to the applicants past loans) are avaiable from the credit bureau\n",
    "\n",
    "- Skip Description Variable (Need NLP)\n",
    "\n",
    "\n",
    "### Univariate Analysis\n",
    "### Bivariate Analysis"
   ]
  },
  {
   "cell_type": "markdown",
   "id": "952d6096",
   "metadata": {},
   "source": [
    "## Importing Necessary Libraries\n",
    "\n",
    "- Pandas for reading, writing and manipulating csv data\n",
    "- Numpy for numerical calculations\n",
    "- Matplotlib and Seaborn for visualization"
   ]
  },
  {
   "cell_type": "code",
   "execution_count": 1,
   "metadata": {},
   "outputs": [],
   "source": [
    "import pandas as pd\n",
    "import numpy as np\n",
    "import matplotlib.pyplot as plt\n",
    "import seaborn as sns\n",
    "import warnings\n",
    "warnings.filterwarnings(\"ignore\")\n",
    "\n",
    "plt.style.use('ggplot')"
   ]
  },
  {
   "cell_type": "markdown",
   "metadata": {},
   "source": [
    "## Reading the CSV file"
   ]
  },
  {
   "cell_type": "code",
   "execution_count": 2,
   "metadata": {},
   "outputs": [
    {
     "data": {
      "text/html": [
       "<div>\n",
       "<style scoped>\n",
       "    .dataframe tbody tr th:only-of-type {\n",
       "        vertical-align: middle;\n",
       "    }\n",
       "\n",
       "    .dataframe tbody tr th {\n",
       "        vertical-align: top;\n",
       "    }\n",
       "\n",
       "    .dataframe thead th {\n",
       "        text-align: right;\n",
       "    }\n",
       "</style>\n",
       "<table border=\"1\" class=\"dataframe\">\n",
       "  <thead>\n",
       "    <tr style=\"text-align: right;\">\n",
       "      <th></th>\n",
       "      <th>id</th>\n",
       "      <th>member_id</th>\n",
       "      <th>loan_amnt</th>\n",
       "      <th>funded_amnt</th>\n",
       "      <th>funded_amnt_inv</th>\n",
       "      <th>term</th>\n",
       "      <th>int_rate</th>\n",
       "      <th>installment</th>\n",
       "      <th>grade</th>\n",
       "      <th>sub_grade</th>\n",
       "      <th>...</th>\n",
       "      <th>num_tl_90g_dpd_24m</th>\n",
       "      <th>num_tl_op_past_12m</th>\n",
       "      <th>pct_tl_nvr_dlq</th>\n",
       "      <th>percent_bc_gt_75</th>\n",
       "      <th>pub_rec_bankruptcies</th>\n",
       "      <th>tax_liens</th>\n",
       "      <th>tot_hi_cred_lim</th>\n",
       "      <th>total_bal_ex_mort</th>\n",
       "      <th>total_bc_limit</th>\n",
       "      <th>total_il_high_credit_limit</th>\n",
       "    </tr>\n",
       "  </thead>\n",
       "  <tbody>\n",
       "    <tr>\n",
       "      <th>0</th>\n",
       "      <td>1077501</td>\n",
       "      <td>1296599</td>\n",
       "      <td>5000</td>\n",
       "      <td>5000</td>\n",
       "      <td>4975.0</td>\n",
       "      <td>36 months</td>\n",
       "      <td>10.65%</td>\n",
       "      <td>162.87</td>\n",
       "      <td>B</td>\n",
       "      <td>B2</td>\n",
       "      <td>...</td>\n",
       "      <td>NaN</td>\n",
       "      <td>NaN</td>\n",
       "      <td>NaN</td>\n",
       "      <td>NaN</td>\n",
       "      <td>0.0</td>\n",
       "      <td>0.0</td>\n",
       "      <td>NaN</td>\n",
       "      <td>NaN</td>\n",
       "      <td>NaN</td>\n",
       "      <td>NaN</td>\n",
       "    </tr>\n",
       "    <tr>\n",
       "      <th>1</th>\n",
       "      <td>1077430</td>\n",
       "      <td>1314167</td>\n",
       "      <td>2500</td>\n",
       "      <td>2500</td>\n",
       "      <td>2500.0</td>\n",
       "      <td>60 months</td>\n",
       "      <td>15.27%</td>\n",
       "      <td>59.83</td>\n",
       "      <td>C</td>\n",
       "      <td>C4</td>\n",
       "      <td>...</td>\n",
       "      <td>NaN</td>\n",
       "      <td>NaN</td>\n",
       "      <td>NaN</td>\n",
       "      <td>NaN</td>\n",
       "      <td>0.0</td>\n",
       "      <td>0.0</td>\n",
       "      <td>NaN</td>\n",
       "      <td>NaN</td>\n",
       "      <td>NaN</td>\n",
       "      <td>NaN</td>\n",
       "    </tr>\n",
       "    <tr>\n",
       "      <th>2</th>\n",
       "      <td>1077175</td>\n",
       "      <td>1313524</td>\n",
       "      <td>2400</td>\n",
       "      <td>2400</td>\n",
       "      <td>2400.0</td>\n",
       "      <td>36 months</td>\n",
       "      <td>15.96%</td>\n",
       "      <td>84.33</td>\n",
       "      <td>C</td>\n",
       "      <td>C5</td>\n",
       "      <td>...</td>\n",
       "      <td>NaN</td>\n",
       "      <td>NaN</td>\n",
       "      <td>NaN</td>\n",
       "      <td>NaN</td>\n",
       "      <td>0.0</td>\n",
       "      <td>0.0</td>\n",
       "      <td>NaN</td>\n",
       "      <td>NaN</td>\n",
       "      <td>NaN</td>\n",
       "      <td>NaN</td>\n",
       "    </tr>\n",
       "    <tr>\n",
       "      <th>3</th>\n",
       "      <td>1076863</td>\n",
       "      <td>1277178</td>\n",
       "      <td>10000</td>\n",
       "      <td>10000</td>\n",
       "      <td>10000.0</td>\n",
       "      <td>36 months</td>\n",
       "      <td>13.49%</td>\n",
       "      <td>339.31</td>\n",
       "      <td>C</td>\n",
       "      <td>C1</td>\n",
       "      <td>...</td>\n",
       "      <td>NaN</td>\n",
       "      <td>NaN</td>\n",
       "      <td>NaN</td>\n",
       "      <td>NaN</td>\n",
       "      <td>0.0</td>\n",
       "      <td>0.0</td>\n",
       "      <td>NaN</td>\n",
       "      <td>NaN</td>\n",
       "      <td>NaN</td>\n",
       "      <td>NaN</td>\n",
       "    </tr>\n",
       "    <tr>\n",
       "      <th>4</th>\n",
       "      <td>1075358</td>\n",
       "      <td>1311748</td>\n",
       "      <td>3000</td>\n",
       "      <td>3000</td>\n",
       "      <td>3000.0</td>\n",
       "      <td>60 months</td>\n",
       "      <td>12.69%</td>\n",
       "      <td>67.79</td>\n",
       "      <td>B</td>\n",
       "      <td>B5</td>\n",
       "      <td>...</td>\n",
       "      <td>NaN</td>\n",
       "      <td>NaN</td>\n",
       "      <td>NaN</td>\n",
       "      <td>NaN</td>\n",
       "      <td>0.0</td>\n",
       "      <td>0.0</td>\n",
       "      <td>NaN</td>\n",
       "      <td>NaN</td>\n",
       "      <td>NaN</td>\n",
       "      <td>NaN</td>\n",
       "    </tr>\n",
       "  </tbody>\n",
       "</table>\n",
       "<p>5 rows × 111 columns</p>\n",
       "</div>"
      ],
      "text/plain": [
       "        id  member_id  loan_amnt  funded_amnt  funded_amnt_inv        term  \\\n",
       "0  1077501    1296599       5000         5000           4975.0   36 months   \n",
       "1  1077430    1314167       2500         2500           2500.0   60 months   \n",
       "2  1077175    1313524       2400         2400           2400.0   36 months   \n",
       "3  1076863    1277178      10000        10000          10000.0   36 months   \n",
       "4  1075358    1311748       3000         3000           3000.0   60 months   \n",
       "\n",
       "  int_rate  installment grade sub_grade  ... num_tl_90g_dpd_24m  \\\n",
       "0   10.65%       162.87     B        B2  ...                NaN   \n",
       "1   15.27%        59.83     C        C4  ...                NaN   \n",
       "2   15.96%        84.33     C        C5  ...                NaN   \n",
       "3   13.49%       339.31     C        C1  ...                NaN   \n",
       "4   12.69%        67.79     B        B5  ...                NaN   \n",
       "\n",
       "  num_tl_op_past_12m pct_tl_nvr_dlq  percent_bc_gt_75 pub_rec_bankruptcies  \\\n",
       "0                NaN            NaN               NaN                  0.0   \n",
       "1                NaN            NaN               NaN                  0.0   \n",
       "2                NaN            NaN               NaN                  0.0   \n",
       "3                NaN            NaN               NaN                  0.0   \n",
       "4                NaN            NaN               NaN                  0.0   \n",
       "\n",
       "  tax_liens tot_hi_cred_lim total_bal_ex_mort total_bc_limit  \\\n",
       "0       0.0             NaN               NaN            NaN   \n",
       "1       0.0             NaN               NaN            NaN   \n",
       "2       0.0             NaN               NaN            NaN   \n",
       "3       0.0             NaN               NaN            NaN   \n",
       "4       0.0             NaN               NaN            NaN   \n",
       "\n",
       "  total_il_high_credit_limit  \n",
       "0                        NaN  \n",
       "1                        NaN  \n",
       "2                        NaN  \n",
       "3                        NaN  \n",
       "4                        NaN  \n",
       "\n",
       "[5 rows x 111 columns]"
      ]
     },
     "execution_count": 2,
     "metadata": {},
     "output_type": "execute_result"
    }
   ],
   "source": [
    "df = pd.read_csv('loan/loan.csv')\n",
    "df.head()"
   ]
  },
  {
   "cell_type": "markdown",
   "id": "624c437d",
   "metadata": {},
   "source": [
    "Removing column id and member id as it has no signficance in predicting whether the applicant will default or not"
   ]
  },
  {
   "cell_type": "code",
   "execution_count": 3,
   "metadata": {},
   "outputs": [],
   "source": [
    "del df['id']\n",
    "del df['member_id']"
   ]
  },
  {
   "cell_type": "code",
   "execution_count": 4,
   "metadata": {},
   "outputs": [
    {
     "name": "stdout",
     "output_type": "stream",
     "text": [
      "<class 'pandas.core.frame.DataFrame'>\n",
      "RangeIndex: 39717 entries, 0 to 39716\n",
      "Columns: 109 entries, loan_amnt to total_il_high_credit_limit\n",
      "dtypes: float64(74), int64(11), object(24)\n",
      "memory usage: 33.0+ MB\n",
      "None\n",
      "(39717, 109)\n"
     ]
    },
    {
     "data": {
      "text/html": [
       "<div>\n",
       "<style scoped>\n",
       "    .dataframe tbody tr th:only-of-type {\n",
       "        vertical-align: middle;\n",
       "    }\n",
       "\n",
       "    .dataframe tbody tr th {\n",
       "        vertical-align: top;\n",
       "    }\n",
       "\n",
       "    .dataframe thead th {\n",
       "        text-align: right;\n",
       "    }\n",
       "</style>\n",
       "<table border=\"1\" class=\"dataframe\">\n",
       "  <thead>\n",
       "    <tr style=\"text-align: right;\">\n",
       "      <th></th>\n",
       "      <th>loan_amnt</th>\n",
       "      <th>funded_amnt</th>\n",
       "      <th>funded_amnt_inv</th>\n",
       "      <th>installment</th>\n",
       "      <th>annual_inc</th>\n",
       "      <th>dti</th>\n",
       "      <th>delinq_2yrs</th>\n",
       "      <th>inq_last_6mths</th>\n",
       "      <th>mths_since_last_delinq</th>\n",
       "      <th>mths_since_last_record</th>\n",
       "      <th>...</th>\n",
       "      <th>num_tl_90g_dpd_24m</th>\n",
       "      <th>num_tl_op_past_12m</th>\n",
       "      <th>pct_tl_nvr_dlq</th>\n",
       "      <th>percent_bc_gt_75</th>\n",
       "      <th>pub_rec_bankruptcies</th>\n",
       "      <th>tax_liens</th>\n",
       "      <th>tot_hi_cred_lim</th>\n",
       "      <th>total_bal_ex_mort</th>\n",
       "      <th>total_bc_limit</th>\n",
       "      <th>total_il_high_credit_limit</th>\n",
       "    </tr>\n",
       "  </thead>\n",
       "  <tbody>\n",
       "    <tr>\n",
       "      <th>count</th>\n",
       "      <td>39717.000000</td>\n",
       "      <td>39717.000000</td>\n",
       "      <td>39717.000000</td>\n",
       "      <td>39717.000000</td>\n",
       "      <td>3.971700e+04</td>\n",
       "      <td>39717.000000</td>\n",
       "      <td>39717.000000</td>\n",
       "      <td>39717.000000</td>\n",
       "      <td>14035.000000</td>\n",
       "      <td>2786.000000</td>\n",
       "      <td>...</td>\n",
       "      <td>0.0</td>\n",
       "      <td>0.0</td>\n",
       "      <td>0.0</td>\n",
       "      <td>0.0</td>\n",
       "      <td>39020.000000</td>\n",
       "      <td>39678.0</td>\n",
       "      <td>0.0</td>\n",
       "      <td>0.0</td>\n",
       "      <td>0.0</td>\n",
       "      <td>0.0</td>\n",
       "    </tr>\n",
       "    <tr>\n",
       "      <th>mean</th>\n",
       "      <td>11219.443815</td>\n",
       "      <td>10947.713196</td>\n",
       "      <td>10397.448868</td>\n",
       "      <td>324.561922</td>\n",
       "      <td>6.896893e+04</td>\n",
       "      <td>13.315130</td>\n",
       "      <td>0.146512</td>\n",
       "      <td>0.869200</td>\n",
       "      <td>35.900962</td>\n",
       "      <td>69.698134</td>\n",
       "      <td>...</td>\n",
       "      <td>NaN</td>\n",
       "      <td>NaN</td>\n",
       "      <td>NaN</td>\n",
       "      <td>NaN</td>\n",
       "      <td>0.043260</td>\n",
       "      <td>0.0</td>\n",
       "      <td>NaN</td>\n",
       "      <td>NaN</td>\n",
       "      <td>NaN</td>\n",
       "      <td>NaN</td>\n",
       "    </tr>\n",
       "    <tr>\n",
       "      <th>std</th>\n",
       "      <td>7456.670694</td>\n",
       "      <td>7187.238670</td>\n",
       "      <td>7128.450439</td>\n",
       "      <td>208.874874</td>\n",
       "      <td>6.379377e+04</td>\n",
       "      <td>6.678594</td>\n",
       "      <td>0.491812</td>\n",
       "      <td>1.070219</td>\n",
       "      <td>22.020060</td>\n",
       "      <td>43.822529</td>\n",
       "      <td>...</td>\n",
       "      <td>NaN</td>\n",
       "      <td>NaN</td>\n",
       "      <td>NaN</td>\n",
       "      <td>NaN</td>\n",
       "      <td>0.204324</td>\n",
       "      <td>0.0</td>\n",
       "      <td>NaN</td>\n",
       "      <td>NaN</td>\n",
       "      <td>NaN</td>\n",
       "      <td>NaN</td>\n",
       "    </tr>\n",
       "    <tr>\n",
       "      <th>min</th>\n",
       "      <td>500.000000</td>\n",
       "      <td>500.000000</td>\n",
       "      <td>0.000000</td>\n",
       "      <td>15.690000</td>\n",
       "      <td>4.000000e+03</td>\n",
       "      <td>0.000000</td>\n",
       "      <td>0.000000</td>\n",
       "      <td>0.000000</td>\n",
       "      <td>0.000000</td>\n",
       "      <td>0.000000</td>\n",
       "      <td>...</td>\n",
       "      <td>NaN</td>\n",
       "      <td>NaN</td>\n",
       "      <td>NaN</td>\n",
       "      <td>NaN</td>\n",
       "      <td>0.000000</td>\n",
       "      <td>0.0</td>\n",
       "      <td>NaN</td>\n",
       "      <td>NaN</td>\n",
       "      <td>NaN</td>\n",
       "      <td>NaN</td>\n",
       "    </tr>\n",
       "    <tr>\n",
       "      <th>25%</th>\n",
       "      <td>5500.000000</td>\n",
       "      <td>5400.000000</td>\n",
       "      <td>5000.000000</td>\n",
       "      <td>167.020000</td>\n",
       "      <td>4.040400e+04</td>\n",
       "      <td>8.170000</td>\n",
       "      <td>0.000000</td>\n",
       "      <td>0.000000</td>\n",
       "      <td>18.000000</td>\n",
       "      <td>22.000000</td>\n",
       "      <td>...</td>\n",
       "      <td>NaN</td>\n",
       "      <td>NaN</td>\n",
       "      <td>NaN</td>\n",
       "      <td>NaN</td>\n",
       "      <td>0.000000</td>\n",
       "      <td>0.0</td>\n",
       "      <td>NaN</td>\n",
       "      <td>NaN</td>\n",
       "      <td>NaN</td>\n",
       "      <td>NaN</td>\n",
       "    </tr>\n",
       "    <tr>\n",
       "      <th>50%</th>\n",
       "      <td>10000.000000</td>\n",
       "      <td>9600.000000</td>\n",
       "      <td>8975.000000</td>\n",
       "      <td>280.220000</td>\n",
       "      <td>5.900000e+04</td>\n",
       "      <td>13.400000</td>\n",
       "      <td>0.000000</td>\n",
       "      <td>1.000000</td>\n",
       "      <td>34.000000</td>\n",
       "      <td>90.000000</td>\n",
       "      <td>...</td>\n",
       "      <td>NaN</td>\n",
       "      <td>NaN</td>\n",
       "      <td>NaN</td>\n",
       "      <td>NaN</td>\n",
       "      <td>0.000000</td>\n",
       "      <td>0.0</td>\n",
       "      <td>NaN</td>\n",
       "      <td>NaN</td>\n",
       "      <td>NaN</td>\n",
       "      <td>NaN</td>\n",
       "    </tr>\n",
       "    <tr>\n",
       "      <th>75%</th>\n",
       "      <td>15000.000000</td>\n",
       "      <td>15000.000000</td>\n",
       "      <td>14400.000000</td>\n",
       "      <td>430.780000</td>\n",
       "      <td>8.230000e+04</td>\n",
       "      <td>18.600000</td>\n",
       "      <td>0.000000</td>\n",
       "      <td>1.000000</td>\n",
       "      <td>52.000000</td>\n",
       "      <td>104.000000</td>\n",
       "      <td>...</td>\n",
       "      <td>NaN</td>\n",
       "      <td>NaN</td>\n",
       "      <td>NaN</td>\n",
       "      <td>NaN</td>\n",
       "      <td>0.000000</td>\n",
       "      <td>0.0</td>\n",
       "      <td>NaN</td>\n",
       "      <td>NaN</td>\n",
       "      <td>NaN</td>\n",
       "      <td>NaN</td>\n",
       "    </tr>\n",
       "    <tr>\n",
       "      <th>max</th>\n",
       "      <td>35000.000000</td>\n",
       "      <td>35000.000000</td>\n",
       "      <td>35000.000000</td>\n",
       "      <td>1305.190000</td>\n",
       "      <td>6.000000e+06</td>\n",
       "      <td>29.990000</td>\n",
       "      <td>11.000000</td>\n",
       "      <td>8.000000</td>\n",
       "      <td>120.000000</td>\n",
       "      <td>129.000000</td>\n",
       "      <td>...</td>\n",
       "      <td>NaN</td>\n",
       "      <td>NaN</td>\n",
       "      <td>NaN</td>\n",
       "      <td>NaN</td>\n",
       "      <td>2.000000</td>\n",
       "      <td>0.0</td>\n",
       "      <td>NaN</td>\n",
       "      <td>NaN</td>\n",
       "      <td>NaN</td>\n",
       "      <td>NaN</td>\n",
       "    </tr>\n",
       "  </tbody>\n",
       "</table>\n",
       "<p>8 rows × 85 columns</p>\n",
       "</div>"
      ],
      "text/plain": [
       "          loan_amnt   funded_amnt  funded_amnt_inv   installment  \\\n",
       "count  39717.000000  39717.000000     39717.000000  39717.000000   \n",
       "mean   11219.443815  10947.713196     10397.448868    324.561922   \n",
       "std     7456.670694   7187.238670      7128.450439    208.874874   \n",
       "min      500.000000    500.000000         0.000000     15.690000   \n",
       "25%     5500.000000   5400.000000      5000.000000    167.020000   \n",
       "50%    10000.000000   9600.000000      8975.000000    280.220000   \n",
       "75%    15000.000000  15000.000000     14400.000000    430.780000   \n",
       "max    35000.000000  35000.000000     35000.000000   1305.190000   \n",
       "\n",
       "         annual_inc           dti   delinq_2yrs  inq_last_6mths  \\\n",
       "count  3.971700e+04  39717.000000  39717.000000    39717.000000   \n",
       "mean   6.896893e+04     13.315130      0.146512        0.869200   \n",
       "std    6.379377e+04      6.678594      0.491812        1.070219   \n",
       "min    4.000000e+03      0.000000      0.000000        0.000000   \n",
       "25%    4.040400e+04      8.170000      0.000000        0.000000   \n",
       "50%    5.900000e+04     13.400000      0.000000        1.000000   \n",
       "75%    8.230000e+04     18.600000      0.000000        1.000000   \n",
       "max    6.000000e+06     29.990000     11.000000        8.000000   \n",
       "\n",
       "       mths_since_last_delinq  mths_since_last_record  ...  \\\n",
       "count            14035.000000             2786.000000  ...   \n",
       "mean                35.900962               69.698134  ...   \n",
       "std                 22.020060               43.822529  ...   \n",
       "min                  0.000000                0.000000  ...   \n",
       "25%                 18.000000               22.000000  ...   \n",
       "50%                 34.000000               90.000000  ...   \n",
       "75%                 52.000000              104.000000  ...   \n",
       "max                120.000000              129.000000  ...   \n",
       "\n",
       "       num_tl_90g_dpd_24m  num_tl_op_past_12m  pct_tl_nvr_dlq  \\\n",
       "count                 0.0                 0.0             0.0   \n",
       "mean                  NaN                 NaN             NaN   \n",
       "std                   NaN                 NaN             NaN   \n",
       "min                   NaN                 NaN             NaN   \n",
       "25%                   NaN                 NaN             NaN   \n",
       "50%                   NaN                 NaN             NaN   \n",
       "75%                   NaN                 NaN             NaN   \n",
       "max                   NaN                 NaN             NaN   \n",
       "\n",
       "       percent_bc_gt_75  pub_rec_bankruptcies  tax_liens  tot_hi_cred_lim  \\\n",
       "count               0.0          39020.000000    39678.0              0.0   \n",
       "mean                NaN              0.043260        0.0              NaN   \n",
       "std                 NaN              0.204324        0.0              NaN   \n",
       "min                 NaN              0.000000        0.0              NaN   \n",
       "25%                 NaN              0.000000        0.0              NaN   \n",
       "50%                 NaN              0.000000        0.0              NaN   \n",
       "75%                 NaN              0.000000        0.0              NaN   \n",
       "max                 NaN              2.000000        0.0              NaN   \n",
       "\n",
       "       total_bal_ex_mort  total_bc_limit  total_il_high_credit_limit  \n",
       "count                0.0             0.0                         0.0  \n",
       "mean                 NaN             NaN                         NaN  \n",
       "std                  NaN             NaN                         NaN  \n",
       "min                  NaN             NaN                         NaN  \n",
       "25%                  NaN             NaN                         NaN  \n",
       "50%                  NaN             NaN                         NaN  \n",
       "75%                  NaN             NaN                         NaN  \n",
       "max                  NaN             NaN                         NaN  \n",
       "\n",
       "[8 rows x 85 columns]"
      ]
     },
     "execution_count": 4,
     "metadata": {},
     "output_type": "execute_result"
    }
   ],
   "source": [
    "print(df.info())\n",
    "print(df.shape)\n",
    "df.describe()"
   ]
  },
  {
   "cell_type": "markdown",
   "id": "603890f4",
   "metadata": {},
   "source": [
    "## Data Cleaning"
   ]
  },
  {
   "cell_type": "markdown",
   "id": "5e17bb83",
   "metadata": {},
   "source": [
    "Finding all the columns having missing values"
   ]
  },
  {
   "cell_type": "code",
   "execution_count": 5,
   "metadata": {},
   "outputs": [
    {
     "data": {
      "text/plain": [
       "loan_amnt                         0\n",
       "funded_amnt                       0\n",
       "funded_amnt_inv                   0\n",
       "term                              0\n",
       "int_rate                          0\n",
       "                              ...  \n",
       "tax_liens                        39\n",
       "tot_hi_cred_lim               39717\n",
       "total_bal_ex_mort             39717\n",
       "total_bc_limit                39717\n",
       "total_il_high_credit_limit    39717\n",
       "Length: 109, dtype: int64"
      ]
     },
     "execution_count": 5,
     "metadata": {},
     "output_type": "execute_result"
    }
   ],
   "source": [
    "df.isnull().sum()"
   ]
  },
  {
   "cell_type": "markdown",
   "id": "959bca05",
   "metadata": {},
   "source": [
    "Finding columns with missing values with their respective percentage"
   ]
  },
  {
   "cell_type": "code",
   "execution_count": 6,
   "metadata": {},
   "outputs": [
    {
     "name": "stdout",
     "output_type": "stream",
     "text": [
      "Missing values in terms of Percentage\n",
      "emp_title has 6.19130347206486% missing values\n",
      "emp_length has 2.7066495455346598% missing values\n",
      "desc has 32.58050708764509% missing values\n",
      "title has 0.02769594883802995% missing values\n",
      "mths_since_last_delinq has 64.66248709620567% missing values\n",
      "mths_since_last_record has 92.98537150338646% missing values\n",
      "revol_util has 0.12589067653649977% missing values\n",
      "last_pymnt_d has 0.17876476068182967% missing values\n",
      "next_pymnt_d has 97.12969257496789% missing values\n",
      "last_credit_pull_d has 0.005035627061459991% missing values\n",
      "collections_12_mths_ex_med has 0.14099755772087974% missing values\n",
      "mths_since_last_major_derog has 100.0% missing values\n",
      "annual_inc_joint has 100.0% missing values\n",
      "dti_joint has 100.0% missing values\n",
      "verification_status_joint has 100.0% missing values\n",
      "tot_coll_amt has 100.0% missing values\n",
      "tot_cur_bal has 100.0% missing values\n",
      "open_acc_6m has 100.0% missing values\n",
      "open_il_6m has 100.0% missing values\n",
      "open_il_12m has 100.0% missing values\n",
      "open_il_24m has 100.0% missing values\n",
      "mths_since_rcnt_il has 100.0% missing values\n",
      "total_bal_il has 100.0% missing values\n",
      "il_util has 100.0% missing values\n",
      "open_rv_12m has 100.0% missing values\n",
      "open_rv_24m has 100.0% missing values\n",
      "max_bal_bc has 100.0% missing values\n",
      "all_util has 100.0% missing values\n",
      "total_rev_hi_lim has 100.0% missing values\n",
      "inq_fi has 100.0% missing values\n",
      "total_cu_tl has 100.0% missing values\n",
      "inq_last_12m has 100.0% missing values\n",
      "acc_open_past_24mths has 100.0% missing values\n",
      "avg_cur_bal has 100.0% missing values\n",
      "bc_open_to_buy has 100.0% missing values\n",
      "bc_util has 100.0% missing values\n",
      "chargeoff_within_12_mths has 0.14099755772087974% missing values\n",
      "mo_sin_old_il_acct has 100.0% missing values\n",
      "mo_sin_old_rev_tl_op has 100.0% missing values\n",
      "mo_sin_rcnt_rev_tl_op has 100.0% missing values\n",
      "mo_sin_rcnt_tl has 100.0% missing values\n",
      "mort_acc has 100.0% missing values\n",
      "mths_since_recent_bc has 100.0% missing values\n",
      "mths_since_recent_bc_dlq has 100.0% missing values\n",
      "mths_since_recent_inq has 100.0% missing values\n",
      "mths_since_recent_revol_delinq has 100.0% missing values\n",
      "num_accts_ever_120_pd has 100.0% missing values\n",
      "num_actv_bc_tl has 100.0% missing values\n",
      "num_actv_rev_tl has 100.0% missing values\n",
      "num_bc_sats has 100.0% missing values\n",
      "num_bc_tl has 100.0% missing values\n",
      "num_il_tl has 100.0% missing values\n",
      "num_op_rev_tl has 100.0% missing values\n",
      "num_rev_accts has 100.0% missing values\n",
      "num_rev_tl_bal_gt_0 has 100.0% missing values\n",
      "num_sats has 100.0% missing values\n",
      "num_tl_120dpd_2m has 100.0% missing values\n",
      "num_tl_30dpd has 100.0% missing values\n",
      "num_tl_90g_dpd_24m has 100.0% missing values\n",
      "num_tl_op_past_12m has 100.0% missing values\n",
      "pct_tl_nvr_dlq has 100.0% missing values\n",
      "percent_bc_gt_75 has 100.0% missing values\n",
      "pub_rec_bankruptcies has 1.75491603091875% missing values\n",
      "tax_liens has 0.09819472769846982% missing values\n",
      "tot_hi_cred_lim has 100.0% missing values\n",
      "total_bal_ex_mort has 100.0% missing values\n",
      "total_bc_limit has 100.0% missing values\n",
      "total_il_high_credit_limit has 100.0% missing values\n"
     ]
    }
   ],
   "source": [
    "print(\"Missing values in terms of Percentage\")\n",
    "\n",
    "for column in df:\n",
    "    percent = 100 - (df[column].count() / len(df))*100\n",
    "    if percent > 0:\n",
    "        print(column + ' has ' + str(percent) + \"% missing values\")"
   ]
  },
  {
   "cell_type": "markdown",
   "id": "cd213f6e",
   "metadata": {},
   "source": [
    "Dropping all the columns having more than 50% missing values"
   ]
  },
  {
   "cell_type": "code",
   "execution_count": 7,
   "metadata": {},
   "outputs": [
    {
     "name": "stdout",
     "output_type": "stream",
     "text": [
      "List of dropped columns: mths_since_last_record, next_pymnt_d, mths_since_last_major_derog, annual_inc_joint, dti_joint, verification_status_joint, tot_coll_amt, tot_cur_bal, open_acc_6m, open_il_6m, open_il_12m, open_il_24m, mths_since_rcnt_il, total_bal_il, il_util, open_rv_12m, open_rv_24m, max_bal_bc, all_util, total_rev_hi_lim, inq_fi, total_cu_tl, inq_last_12m, acc_open_past_24mths, avg_cur_bal, bc_open_to_buy, bc_util, mo_sin_old_il_acct, mo_sin_old_rev_tl_op, mo_sin_rcnt_rev_tl_op, mo_sin_rcnt_tl, mort_acc, mths_since_recent_bc, mths_since_recent_bc_dlq, mths_since_recent_inq, mths_since_recent_revol_delinq, num_accts_ever_120_pd, num_actv_bc_tl, num_actv_rev_tl, num_bc_sats, num_bc_tl, num_il_tl, num_op_rev_tl, num_rev_accts, num_rev_tl_bal_gt_0, num_sats, num_tl_120dpd_2m, num_tl_30dpd, num_tl_90g_dpd_24m, num_tl_op_past_12m, pct_tl_nvr_dlq, percent_bc_gt_75, tot_hi_cred_lim, total_bal_ex_mort, total_bc_limit, total_il_high_credit_limit, \n",
      "\n"
     ]
    }
   ],
   "source": [
    "df2 = df[[column for column in df if df[column].count() / len(df) >= 0.3]]\n",
    "\n",
    "print(\"List of dropped columns:\", end=\" \")\n",
    "for c in df.columns:\n",
    "    if c not in df2.columns:\n",
    "        print(c, end=\", \")\n",
    "print('\\n')\n",
    "df = df2"
   ]
  },
  {
   "cell_type": "code",
   "execution_count": 8,
   "metadata": {},
   "outputs": [
    {
     "name": "stdout",
     "output_type": "stream",
     "text": [
      "<class 'pandas.core.frame.DataFrame'>\n",
      "RangeIndex: 39717 entries, 0 to 39716\n",
      "Data columns (total 53 columns):\n",
      " #   Column                      Non-Null Count  Dtype  \n",
      "---  ------                      --------------  -----  \n",
      " 0   loan_amnt                   39717 non-null  int64  \n",
      " 1   funded_amnt                 39717 non-null  int64  \n",
      " 2   funded_amnt_inv             39717 non-null  float64\n",
      " 3   term                        39717 non-null  object \n",
      " 4   int_rate                    39717 non-null  object \n",
      " 5   installment                 39717 non-null  float64\n",
      " 6   grade                       39717 non-null  object \n",
      " 7   sub_grade                   39717 non-null  object \n",
      " 8   emp_title                   37258 non-null  object \n",
      " 9   emp_length                  38642 non-null  object \n",
      " 10  home_ownership              39717 non-null  object \n",
      " 11  annual_inc                  39717 non-null  float64\n",
      " 12  verification_status         39717 non-null  object \n",
      " 13  issue_d                     39717 non-null  object \n",
      " 14  loan_status                 39717 non-null  object \n",
      " 15  pymnt_plan                  39717 non-null  object \n",
      " 16  url                         39717 non-null  object \n",
      " 17  desc                        26777 non-null  object \n",
      " 18  purpose                     39717 non-null  object \n",
      " 19  title                       39706 non-null  object \n",
      " 20  zip_code                    39717 non-null  object \n",
      " 21  addr_state                  39717 non-null  object \n",
      " 22  dti                         39717 non-null  float64\n",
      " 23  delinq_2yrs                 39717 non-null  int64  \n",
      " 24  earliest_cr_line            39717 non-null  object \n",
      " 25  inq_last_6mths              39717 non-null  int64  \n",
      " 26  mths_since_last_delinq      14035 non-null  float64\n",
      " 27  open_acc                    39717 non-null  int64  \n",
      " 28  pub_rec                     39717 non-null  int64  \n",
      " 29  revol_bal                   39717 non-null  int64  \n",
      " 30  revol_util                  39667 non-null  object \n",
      " 31  total_acc                   39717 non-null  int64  \n",
      " 32  initial_list_status         39717 non-null  object \n",
      " 33  out_prncp                   39717 non-null  float64\n",
      " 34  out_prncp_inv               39717 non-null  float64\n",
      " 35  total_pymnt                 39717 non-null  float64\n",
      " 36  total_pymnt_inv             39717 non-null  float64\n",
      " 37  total_rec_prncp             39717 non-null  float64\n",
      " 38  total_rec_int               39717 non-null  float64\n",
      " 39  total_rec_late_fee          39717 non-null  float64\n",
      " 40  recoveries                  39717 non-null  float64\n",
      " 41  collection_recovery_fee     39717 non-null  float64\n",
      " 42  last_pymnt_d                39646 non-null  object \n",
      " 43  last_pymnt_amnt             39717 non-null  float64\n",
      " 44  last_credit_pull_d          39715 non-null  object \n",
      " 45  collections_12_mths_ex_med  39661 non-null  float64\n",
      " 46  policy_code                 39717 non-null  int64  \n",
      " 47  application_type            39717 non-null  object \n",
      " 48  acc_now_delinq              39717 non-null  int64  \n",
      " 49  chargeoff_within_12_mths    39661 non-null  float64\n",
      " 50  delinq_amnt                 39717 non-null  int64  \n",
      " 51  pub_rec_bankruptcies        39020 non-null  float64\n",
      " 52  tax_liens                   39678 non-null  float64\n",
      "dtypes: float64(19), int64(11), object(23)\n",
      "memory usage: 16.1+ MB\n",
      "None\n",
      "(39717, 53)\n"
     ]
    }
   ],
   "source": [
    "print(df.info())\n",
    "print(df.shape)"
   ]
  },
  {
   "cell_type": "code",
   "execution_count": 9,
   "metadata": {},
   "outputs": [
    {
     "name": "stdout",
     "output_type": "stream",
     "text": [
      "Missing values in terms of Percentage\n",
      "emp_title has 6.19130347206486% missing values\n",
      "emp_length has 2.7066495455346598% missing values\n",
      "desc has 32.58050708764509% missing values\n",
      "title has 0.02769594883802995% missing values\n",
      "mths_since_last_delinq has 64.66248709620567% missing values\n",
      "revol_util has 0.12589067653649977% missing values\n",
      "last_pymnt_d has 0.17876476068182967% missing values\n",
      "last_credit_pull_d has 0.005035627061459991% missing values\n",
      "collections_12_mths_ex_med has 0.14099755772087974% missing values\n",
      "chargeoff_within_12_mths has 0.14099755772087974% missing values\n",
      "pub_rec_bankruptcies has 1.75491603091875% missing values\n",
      "tax_liens has 0.09819472769846982% missing values\n"
     ]
    }
   ],
   "source": [
    "# print(df.isnull().sum())\n",
    "\n",
    "# print('\\n')\n",
    "\n",
    "print(\"Missing values in terms of Percentage\")\n",
    "\n",
    "for column in df:\n",
    "    percent = 100 - (df[column].count() / len(df))*100\n",
    "    if percent > 0:\n",
    "        print(column + ' has ' + str(percent) + \"% missing values\")"
   ]
  },
  {
   "cell_type": "markdown",
   "id": "7c42e016",
   "metadata": {},
   "source": [
    "### Handling each columns with missing values"
   ]
  },
  {
   "cell_type": "code",
   "execution_count": 10,
   "id": "2fb2dd5e",
   "metadata": {},
   "outputs": [],
   "source": [
    "df = df.drop('desc',axis=1)"
   ]
  },
  {
   "cell_type": "code",
   "execution_count": 11,
   "id": "9873c563",
   "metadata": {},
   "outputs": [
    {
     "name": "stdout",
     "output_type": "stream",
     "text": [
      "US Army                              134\n",
      "Bank of America                      109\n",
      "IBM                                   66\n",
      "AT&T                                  59\n",
      "Kaiser Permanente                     56\n",
      "                                    ... \n",
      "Community College of Philadelphia      1\n",
      "AMEC                                   1\n",
      "lee county sheriff                     1\n",
      "Bacon County Board of Education        1\n",
      "Evergreen Center                       1\n",
      "Name: emp_title, Length: 28820, dtype: int64\n",
      "[nan 'Ryder' 'AIR RESOURCES BOARD' ... 'FiSite Research'\n",
      " 'Squarewave Solutions, Ltd.' 'Evergreen Center']\n",
      "28821\n"
     ]
    }
   ],
   "source": [
    "print(df['emp_title'].value_counts())\n",
    "print(df['emp_title'].unique())\n",
    "\n",
    "print(len(df['emp_title'].unique()))"
   ]
  },
  {
   "cell_type": "markdown",
   "id": "bb234bbb",
   "metadata": {},
   "source": [
    "- Skipping emp_title has it has to many unqiue values"
   ]
  },
  {
   "cell_type": "code",
   "execution_count": 12,
   "id": "55dcd67a",
   "metadata": {},
   "outputs": [
    {
     "name": "stdout",
     "output_type": "stream",
     "text": [
      "10+ years    8879\n",
      "< 1 year     4583\n",
      "2 years      4388\n",
      "3 years      4095\n",
      "4 years      3436\n",
      "5 years      3282\n",
      "1 year       3240\n",
      "6 years      2229\n",
      "7 years      1773\n",
      "8 years      1479\n",
      "9 years      1258\n",
      "Name: emp_length, dtype: int64\n",
      "['10+ years' '< 1 year' '1 year' '3 years' '8 years' '9 years' '4 years'\n",
      " '5 years' '6 years' '2 years' '7 years' nan]\n",
      "12\n"
     ]
    }
   ],
   "source": [
    "print(df['emp_length'].value_counts())\n",
    "print(df['emp_length'].unique())\n",
    "\n",
    "print(len(df['emp_length'].unique()))"
   ]
  },
  {
   "cell_type": "code",
   "execution_count": 13,
   "metadata": {},
   "outputs": [
    {
     "data": {
      "text/plain": [
       "0"
      ]
     },
     "execution_count": 13,
     "metadata": {},
     "output_type": "execute_result"
    }
   ],
   "source": [
    "df['loan_status'].isnull().sum()"
   ]
  },
  {
   "cell_type": "code",
   "execution_count": 14,
   "metadata": {},
   "outputs": [
    {
     "data": {
      "text/plain": [
       "Fully Paid     32950\n",
       "Charged Off     5627\n",
       "Current         1140\n",
       "Name: loan_status, dtype: int64"
      ]
     },
     "execution_count": 14,
     "metadata": {},
     "output_type": "execute_result"
    }
   ],
   "source": [
    "df['loan_status'].value_counts()"
   ]
  },
  {
   "cell_type": "code",
   "execution_count": 15,
   "metadata": {},
   "outputs": [],
   "source": [
    "df.drop(df.index[df['loan_status'] == 'Current'], inplace = True)"
   ]
  },
  {
   "cell_type": "code",
   "execution_count": 16,
   "metadata": {},
   "outputs": [
    {
     "data": {
      "text/plain": [
       "Fully Paid     32950\n",
       "Charged Off     5627\n",
       "Name: loan_status, dtype: int64"
      ]
     },
     "execution_count": 16,
     "metadata": {},
     "output_type": "execute_result"
    }
   ],
   "source": [
    "df['loan_status'].value_counts()"
   ]
  },
  {
   "cell_type": "code",
   "execution_count": 17,
   "metadata": {},
   "outputs": [
    {
     "name": "stdout",
     "output_type": "stream",
     "text": [
      "loan_amnt                         0\n",
      "funded_amnt                       0\n",
      "funded_amnt_inv                   0\n",
      "term                              0\n",
      "int_rate                          0\n",
      "installment                       0\n",
      "grade                             0\n",
      "sub_grade                         0\n",
      "emp_title                      2386\n",
      "emp_length                     1033\n",
      "home_ownership                    0\n",
      "annual_inc                        0\n",
      "verification_status               0\n",
      "issue_d                           0\n",
      "loan_status                       0\n",
      "pymnt_plan                        0\n",
      "url                               0\n",
      "purpose                           0\n",
      "title                            11\n",
      "zip_code                          0\n",
      "addr_state                        0\n",
      "dti                               0\n",
      "delinq_2yrs                       0\n",
      "earliest_cr_line                  0\n",
      "inq_last_6mths                    0\n",
      "mths_since_last_delinq        24905\n",
      "open_acc                          0\n",
      "pub_rec                           0\n",
      "revol_bal                         0\n",
      "revol_util                       50\n",
      "total_acc                         0\n",
      "initial_list_status               0\n",
      "out_prncp                         0\n",
      "out_prncp_inv                     0\n",
      "total_pymnt                       0\n",
      "total_pymnt_inv                   0\n",
      "total_rec_prncp                   0\n",
      "total_rec_int                     0\n",
      "total_rec_late_fee                0\n",
      "recoveries                        0\n",
      "collection_recovery_fee           0\n",
      "last_pymnt_d                     71\n",
      "last_pymnt_amnt                   0\n",
      "last_credit_pull_d                2\n",
      "collections_12_mths_ex_med       56\n",
      "policy_code                       0\n",
      "application_type                  0\n",
      "acc_now_delinq                    0\n",
      "chargeoff_within_12_mths         56\n",
      "delinq_amnt                       0\n",
      "pub_rec_bankruptcies            697\n",
      "tax_liens                        39\n",
      "dtype: int64\n"
     ]
    }
   ],
   "source": [
    "print(df.isnull().sum())"
   ]
  },
  {
   "cell_type": "code",
   "execution_count": 18,
   "metadata": {},
   "outputs": [
    {
     "data": {
      "image/png": "[encoded data removed]",
      "text/plain": [
       "<Figure size 432x288 with 1 Axes>"
      ]
     },
     "metadata": {},
     "output_type": "display_data"
    }
   ],
   "source": [
    "df['loan_status'].value_counts().plot.pie()\n",
    "plt.show()"
   ]
  },
  {
   "cell_type": "code",
   "execution_count": 19,
   "metadata": {},
   "outputs": [
    {
     "data": {
      "image/png": "[encoded data removed]",
      "text/plain": [
       "<Figure size 432x288 with 1 Axes>"
      ]
     },
     "metadata": {},
     "output_type": "display_data"
    }
   ],
   "source": [
    "df['loan_status'].value_counts().plot.barh()\n",
    "plt.show()"
   ]
  },
  {
   "cell_type": "code",
   "execution_count": 20,
   "metadata": {},
   "outputs": [
    {
     "data": {
      "text/plain": [
       "US Army                                     131\n",
       "Bank of America                             107\n",
       "IBM                                          65\n",
       "AT&T                                         57\n",
       "Kaiser Permanente                            56\n",
       "                                           ... \n",
       "amneal pharmaceuticals                        1\n",
       "Net Equity Financial                          1\n",
       "Kernersville Fire Department                  1\n",
       "The Keith Corp. (empl by county, now Kei      1\n",
       "Evergreen Center                              1\n",
       "Name: emp_title, Length: 28027, dtype: int64"
      ]
     },
     "execution_count": 20,
     "metadata": {},
     "output_type": "execute_result"
    }
   ],
   "source": [
    "df['emp_title'].value_counts()"
   ]
  },
  {
   "cell_type": "code",
   "execution_count": 21,
   "metadata": {},
   "outputs": [
    {
     "data": {
      "text/plain": [
       "count       36191\n",
       "unique      28027\n",
       "top       US Army\n",
       "freq          131\n",
       "Name: emp_title, dtype: object"
      ]
     },
     "execution_count": 21,
     "metadata": {},
     "output_type": "execute_result"
    }
   ],
   "source": [
    "df['emp_title'].describe()"
   ]
  },
  {
   "cell_type": "code",
   "execution_count": 22,
   "id": "1b689bd0",
   "metadata": {},
   "outputs": [
    {
     "data": {
      "text/plain": [
       "10000    2809\n",
       "12000    2248\n",
       "5000     2028\n",
       "6000     1886\n",
       "15000    1838\n",
       "         ... \n",
       "18325       1\n",
       "9650        1\n",
       "20450       1\n",
       "15425       1\n",
       "22550       1\n",
       "Name: loan_amnt, Length: 870, dtype: int64"
      ]
     },
     "execution_count": 22,
     "metadata": {},
     "output_type": "execute_result"
    }
   ],
   "source": [
    "df['loan_amnt'].value_counts()"
   ]
  },
  {
   "cell_type": "code",
   "execution_count": 23,
   "id": "dbb75ea0",
   "metadata": {},
   "outputs": [
    {
     "data": {
      "text/plain": [
       "count    38577.000000\n",
       "mean     11047.025430\n",
       "std       7348.441646\n",
       "min        500.000000\n",
       "25%       5300.000000\n",
       "50%       9600.000000\n",
       "75%      15000.000000\n",
       "max      35000.000000\n",
       "Name: loan_amnt, dtype: float64"
      ]
     },
     "execution_count": 23,
     "metadata": {},
     "output_type": "execute_result"
    }
   ],
   "source": [
    "df['loan_amnt'].describe()\n"
   ]
  },
  {
   "cell_type": "code",
   "execution_count": 24,
   "id": "0248560e",
   "metadata": {},
   "outputs": [
    {
     "data": {
      "image/png": "[encoded data removed]",
      "text/plain": [
       "<Figure size 432x288 with 1 Axes>"
      ]
     },
     "metadata": {},
     "output_type": "display_data"
    }
   ],
   "source": [
    "plt.boxplot(df['loan_amnt'])\n",
    "plt.show()"
   ]
  },
  {
   "cell_type": "code",
   "execution_count": 25,
   "id": "c3a5c35b",
   "metadata": {},
   "outputs": [
    {
     "data": {
      "image/png": "[encoded data removed]",
      "text/plain": [
       "<Figure size 360x360 with 1 Axes>"
      ]
     },
     "metadata": {},
     "output_type": "display_data"
    }
   ],
   "source": [
    "sns.displot(df['loan_amnt'],bins = 30)\n",
    "plt.show()"
   ]
  },
  {
   "cell_type": "code",
   "execution_count": 26,
   "id": "2a2f76c7",
   "metadata": {},
   "outputs": [
    {
     "data": {
      "text/plain": [
       " 36 months    29096\n",
       " 60 months     9481\n",
       "Name: term, dtype: int64"
      ]
     },
     "execution_count": 26,
     "metadata": {},
     "output_type": "execute_result"
    }
   ],
   "source": [
    "df['term'].value_counts()"
   ]
  },
  {
   "cell_type": "code",
   "execution_count": 27,
   "id": "faafe860",
   "metadata": {},
   "outputs": [
    {
     "data": {
      "text/plain": [
       "0"
      ]
     },
     "execution_count": 27,
     "metadata": {},
     "output_type": "execute_result"
    }
   ],
   "source": [
    "df['term'].isnull().sum()"
   ]
  },
  {
   "cell_type": "code",
   "execution_count": 28,
   "id": "b7c87ff0",
   "metadata": {},
   "outputs": [
    {
     "data": {
      "image/png": "[encoded data removed]",
      "text/plain": [
       "<Figure size 432x288 with 1 Axes>"
      ]
     },
     "metadata": {},
     "output_type": "display_data"
    }
   ],
   "source": [
    "df['term'].value_counts().plot.pie()\n",
    "plt.show()"
   ]
  },
  {
   "cell_type": "code",
   "execution_count": 29,
   "id": "46f51b1d",
   "metadata": {},
   "outputs": [
    {
     "data": {
      "image/png": "[encoded data removed]",
      "text/plain": [
       "<Figure size 432x288 with 1 Axes>"
      ]
     },
     "metadata": {},
     "output_type": "display_data"
    }
   ],
   "source": [
    "df['term'].value_counts().plot.barh()\n",
    "plt.show()"
   ]
  }
 ],
 "metadata": {
  "interpreter": {
   "hash": "5ed4318d83284b8ce803ccb8372dfd51935c9502bc1ffce39b8fe7a7e7d0ed66"
  },
  "kernelspec": {
   "display_name": "Python 3.8.11 64-bit ('preprep': conda)",
   "name": "python3"
  },
  "language_info": {
   "codemirror_mode": {
    "name": "ipython",
    "version": 3
   },
   "file_extension": ".py",
   "mimetype": "text/x-python",
   "name": "python",
   "nbconvert_exporter": "python",
   "pygments_lexer": "ipython3",
   "version": "3.8.11"
  }
 },
 "nbformat": 4,
 "nbformat_minor": 5
}
