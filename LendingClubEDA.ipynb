{
 "cells": [
  {
   "cell_type": "markdown",
   "id": "4f93f4f7",
   "metadata": {},
   "source": [
    "# Lending Club Case Study - Exploratory  Data Analysis"
   ]
  },
  {
   "cell_type": "markdown",
   "metadata": {},
   "source": [
    "# Notes\n",
    "\n",
    "- Remove rows with current loan status\n",
    "- loan_amnt, funded_amnt, funded_amnt_inv\n",
    "- Consider only loan_amnt - because need to decide before approval\n",
    "- Data Understanding\n",
    "- Data cleaning\n",
    "- Data Analysis\n",
    "- Recommendations \n",
    "- Data Cleaning\n",
    "- Check the percentage of missing values\n",
    "- Drop columns with high percentage of missing values\n",
    "- Perform imputations for less missing percentage values columns (Identify correct metric)\n",
    "- Median for outliers and mean for no outliers and mode for categorical data\n",
    "- Drop rows where the missing percentage is quite high\n",
    "\n",
    "- Drop columns having single value as data as it has no influence on the decision\n",
    "\n",
    "- For interest rate values are like 6.5%, do data cleaning and convert it into float data\n",
    "- For Employment length create your own rule and mention the assumptions (required float datatype)\n",
    "\n",
    "- Don't use variables which shows the behaviour of the applicants during the loan period\n",
    "- Use only variables that are presented when the applications was made\n",
    "\n",
    "- Three types of variables\n",
    "- - related to the applicant (demographic variables such as age, occupation, employment details, etc)\n",
    "- - Loan characteristics (amount of loan, interest rate, purpose of loan etc)\n",
    "- - Customer behavior (those which are generated after the loan is approved)\n",
    "\n",
    "- Customer behavior are not available at the time of loan application, thus they cannot be used as predictors\n",
    "- Loan status with current to be removed and tag other two as 0 and 1 for easy and clean analysis\n",
    "- Use cusotmer behavior data for others/past loan of the applicants collected from bureau orgs, drop current loan customer behavior\n",
    "\n",
    "### Few important variables\n",
    "\n",
    "- loan amnt\n",
    "- term\n",
    "- interest rate\n",
    "- grade\n",
    "- subgrade\n",
    "- annual income\n",
    "- purpose of loan\n",
    "- DTI (Debt to income)\n",
    "- Emp_length\n",
    "- Loan_Date (Month)\n",
    "- Home_Ownership\n",
    "- Verification_status \n",
    "- - Income Verified (pay slips, tax returns) \n",
    "- - Income source verified (1st party vendors has checked) \n",
    "- - Not verified\n",
    "\n",
    "### Customer behavior variables\n",
    "\n",
    "- delinq_2yrs\n",
    "- earlies_cr_line\n",
    "- inq_last_6mnths\n",
    "- open_acc\n",
    "- pub_rec\n",
    "- revol_bal\n",
    "- total_acc\n",
    "- out_prncp\n",
    "- out_prncp_inv\n",
    "- total_pymnt\n",
    "- total_pymnt_inv\n",
    "- total_rec_prncp\n",
    "- total_rec_int\n",
    "- total_rec_late_fee\n",
    "- last_pymnt_d\n",
    "- last_pymnt_amnt\n",
    "- last_credit_pull_d\n",
    "- application_type\n",
    "\n",
    "- Customer behavior variables are not available at the time of loan application and cannot be used as predictors\n",
    "- variables such as acc_now_delinq, chargeoff_with_12months etc (which are related to the applicants past loans) are avaiable from the credit bureau\n",
    "\n",
    "- Skip Description Variable (Need NLP)\n",
    "\n",
    "\n",
    "### Univariate Analysis\n",
    "### Bivariate Analysis"
   ]
  },
  {
   "cell_type": "markdown",
   "id": "952d6096",
   "metadata": {},
   "source": [
    "## Importing Necessary Libraries\n",
    "\n",
    "- Pandas for reading, writing and manipulating csv data\n",
    "- Numpy for numerical calculations\n",
    "- Matplotlib and Seaborn for visualization"
   ]
  },
  {
   "cell_type": "code",
   "execution_count": 1,
   "metadata": {},
   "outputs": [],
   "source": [
    "import pandas as pd\n",
    "import numpy as np\n",
    "import matplotlib.pyplot as plt\n",
    "import seaborn as sns\n",
    "import warnings\n",
    "warnings.filterwarnings(\"ignore\")\n",
    "\n",
    "plt.style.use('ggplot')"
   ]
  },
  {
   "cell_type": "markdown",
   "metadata": {},
   "source": [
    "## Reading the CSV file"
   ]
  },
  {
   "cell_type": "code",
   "execution_count": 2,
   "metadata": {},
   "outputs": [
    {
     "data": {
      "text/html": [
       "<div>\n",
       "<style scoped>\n",
       "    .dataframe tbody tr th:only-of-type {\n",
       "        vertical-align: middle;\n",
       "    }\n",
       "\n",
       "    .dataframe tbody tr th {\n",
       "        vertical-align: top;\n",
       "    }\n",
       "\n",
       "    .dataframe thead th {\n",
       "        text-align: right;\n",
       "    }\n",
       "</style>\n",
       "<table border=\"1\" class=\"dataframe\">\n",
       "  <thead>\n",
       "    <tr style=\"text-align: right;\">\n",
       "      <th></th>\n",
       "      <th>id</th>\n",
       "      <th>member_id</th>\n",
       "      <th>loan_amnt</th>\n",
       "      <th>funded_amnt</th>\n",
       "      <th>funded_amnt_inv</th>\n",
       "      <th>term</th>\n",
       "      <th>int_rate</th>\n",
       "      <th>installment</th>\n",
       "      <th>grade</th>\n",
       "      <th>sub_grade</th>\n",
       "      <th>...</th>\n",
       "      <th>num_tl_90g_dpd_24m</th>\n",
       "      <th>num_tl_op_past_12m</th>\n",
       "      <th>pct_tl_nvr_dlq</th>\n",
       "      <th>percent_bc_gt_75</th>\n",
       "      <th>pub_rec_bankruptcies</th>\n",
       "      <th>tax_liens</th>\n",
       "      <th>tot_hi_cred_lim</th>\n",
       "      <th>total_bal_ex_mort</th>\n",
       "      <th>total_bc_limit</th>\n",
       "      <th>total_il_high_credit_limit</th>\n",
       "    </tr>\n",
       "  </thead>\n",
       "  <tbody>\n",
       "    <tr>\n",
       "      <th>0</th>\n",
       "      <td>1077501</td>\n",
       "      <td>1296599</td>\n",
       "      <td>5000</td>\n",
       "      <td>5000</td>\n",
       "      <td>4975.0</td>\n",
       "      <td>36 months</td>\n",
       "      <td>10.65%</td>\n",
       "      <td>162.87</td>\n",
       "      <td>B</td>\n",
       "      <td>B2</td>\n",
       "      <td>...</td>\n",
       "      <td>NaN</td>\n",
       "      <td>NaN</td>\n",
       "      <td>NaN</td>\n",
       "      <td>NaN</td>\n",
       "      <td>0.0</td>\n",
       "      <td>0.0</td>\n",
       "      <td>NaN</td>\n",
       "      <td>NaN</td>\n",
       "      <td>NaN</td>\n",
       "      <td>NaN</td>\n",
       "    </tr>\n",
       "    <tr>\n",
       "      <th>1</th>\n",
       "      <td>1077430</td>\n",
       "      <td>1314167</td>\n",
       "      <td>2500</td>\n",
       "      <td>2500</td>\n",
       "      <td>2500.0</td>\n",
       "      <td>60 months</td>\n",
       "      <td>15.27%</td>\n",
       "      <td>59.83</td>\n",
       "      <td>C</td>\n",
       "      <td>C4</td>\n",
       "      <td>...</td>\n",
       "      <td>NaN</td>\n",
       "      <td>NaN</td>\n",
       "      <td>NaN</td>\n",
       "      <td>NaN</td>\n",
       "      <td>0.0</td>\n",
       "      <td>0.0</td>\n",
       "      <td>NaN</td>\n",
       "      <td>NaN</td>\n",
       "      <td>NaN</td>\n",
       "      <td>NaN</td>\n",
       "    </tr>\n",
       "    <tr>\n",
       "      <th>2</th>\n",
       "      <td>1077175</td>\n",
       "      <td>1313524</td>\n",
       "      <td>2400</td>\n",
       "      <td>2400</td>\n",
       "      <td>2400.0</td>\n",
       "      <td>36 months</td>\n",
       "      <td>15.96%</td>\n",
       "      <td>84.33</td>\n",
       "      <td>C</td>\n",
       "      <td>C5</td>\n",
       "      <td>...</td>\n",
       "      <td>NaN</td>\n",
       "      <td>NaN</td>\n",
       "      <td>NaN</td>\n",
       "      <td>NaN</td>\n",
       "      <td>0.0</td>\n",
       "      <td>0.0</td>\n",
       "      <td>NaN</td>\n",
       "      <td>NaN</td>\n",
       "      <td>NaN</td>\n",
       "      <td>NaN</td>\n",
       "    </tr>\n",
       "    <tr>\n",
       "      <th>3</th>\n",
       "      <td>1076863</td>\n",
       "      <td>1277178</td>\n",
       "      <td>10000</td>\n",
       "      <td>10000</td>\n",
       "      <td>10000.0</td>\n",
       "      <td>36 months</td>\n",
       "      <td>13.49%</td>\n",
       "      <td>339.31</td>\n",
       "      <td>C</td>\n",
       "      <td>C1</td>\n",
       "      <td>...</td>\n",
       "      <td>NaN</td>\n",
       "      <td>NaN</td>\n",
       "      <td>NaN</td>\n",
       "      <td>NaN</td>\n",
       "      <td>0.0</td>\n",
       "      <td>0.0</td>\n",
       "      <td>NaN</td>\n",
       "      <td>NaN</td>\n",
       "      <td>NaN</td>\n",
       "      <td>NaN</td>\n",
       "    </tr>\n",
       "    <tr>\n",
       "      <th>4</th>\n",
       "      <td>1075358</td>\n",
       "      <td>1311748</td>\n",
       "      <td>3000</td>\n",
       "      <td>3000</td>\n",
       "      <td>3000.0</td>\n",
       "      <td>60 months</td>\n",
       "      <td>12.69%</td>\n",
       "      <td>67.79</td>\n",
       "      <td>B</td>\n",
       "      <td>B5</td>\n",
       "      <td>...</td>\n",
       "      <td>NaN</td>\n",
       "      <td>NaN</td>\n",
       "      <td>NaN</td>\n",
       "      <td>NaN</td>\n",
       "      <td>0.0</td>\n",
       "      <td>0.0</td>\n",
       "      <td>NaN</td>\n",
       "      <td>NaN</td>\n",
       "      <td>NaN</td>\n",
       "      <td>NaN</td>\n",
       "    </tr>\n",
       "  </tbody>\n",
       "</table>\n",
       "<p>5 rows × 111 columns</p>\n",
       "</div>"
      ],
      "text/plain": [
       "        id  member_id  loan_amnt  funded_amnt  funded_amnt_inv        term  \\\n",
       "0  1077501    1296599       5000         5000           4975.0   36 months   \n",
       "1  1077430    1314167       2500         2500           2500.0   60 months   \n",
       "2  1077175    1313524       2400         2400           2400.0   36 months   \n",
       "3  1076863    1277178      10000        10000          10000.0   36 months   \n",
       "4  1075358    1311748       3000         3000           3000.0   60 months   \n",
       "\n",
       "  int_rate  installment grade sub_grade  ... num_tl_90g_dpd_24m  \\\n",
       "0   10.65%       162.87     B        B2  ...                NaN   \n",
       "1   15.27%        59.83     C        C4  ...                NaN   \n",
       "2   15.96%        84.33     C        C5  ...                NaN   \n",
       "3   13.49%       339.31     C        C1  ...                NaN   \n",
       "4   12.69%        67.79     B        B5  ...                NaN   \n",
       "\n",
       "  num_tl_op_past_12m pct_tl_nvr_dlq  percent_bc_gt_75 pub_rec_bankruptcies  \\\n",
       "0                NaN            NaN               NaN                  0.0   \n",
       "1                NaN            NaN               NaN                  0.0   \n",
       "2                NaN            NaN               NaN                  0.0   \n",
       "3                NaN            NaN               NaN                  0.0   \n",
       "4                NaN            NaN               NaN                  0.0   \n",
       "\n",
       "  tax_liens tot_hi_cred_lim total_bal_ex_mort total_bc_limit  \\\n",
       "0       0.0             NaN               NaN            NaN   \n",
       "1       0.0             NaN               NaN            NaN   \n",
       "2       0.0             NaN               NaN            NaN   \n",
       "3       0.0             NaN               NaN            NaN   \n",
       "4       0.0             NaN               NaN            NaN   \n",
       "\n",
       "  total_il_high_credit_limit  \n",
       "0                        NaN  \n",
       "1                        NaN  \n",
       "2                        NaN  \n",
       "3                        NaN  \n",
       "4                        NaN  \n",
       "\n",
       "[5 rows x 111 columns]"
      ]
     },
     "execution_count": 2,
     "metadata": {},
     "output_type": "execute_result"
    }
   ],
   "source": [
    "df = pd.read_csv('loan/loan.csv')\n",
    "df.head()"
   ]
  },
  {
   "cell_type": "markdown",
   "id": "624c437d",
   "metadata": {},
   "source": [
    "Removing column id and member id as it has no signficance in predicting whether the applicant will default or not"
   ]
  },
  {
   "cell_type": "code",
   "execution_count": 3,
   "metadata": {},
   "outputs": [],
   "source": [
    "del df['id']\n",
    "del df['member_id']"
   ]
  },
  {
   "cell_type": "markdown",
   "id": "d9639366",
   "metadata": {},
   "source": [
    "Lisnting all the columns"
   ]
  },
  {
   "cell_type": "code",
   "execution_count": 4,
   "id": "74d77859",
   "metadata": {},
   "outputs": [
    {
     "data": {
      "text/plain": [
       "Index(['loan_amnt', 'funded_amnt', 'funded_amnt_inv', 'term', 'int_rate',\n",
       "       'installment', 'grade', 'sub_grade', 'emp_title', 'emp_length',\n",
       "       ...\n",
       "       'num_tl_90g_dpd_24m', 'num_tl_op_past_12m', 'pct_tl_nvr_dlq',\n",
       "       'percent_bc_gt_75', 'pub_rec_bankruptcies', 'tax_liens',\n",
       "       'tot_hi_cred_lim', 'total_bal_ex_mort', 'total_bc_limit',\n",
       "       'total_il_high_credit_limit'],\n",
       "      dtype='object', length=109)"
      ]
     },
     "execution_count": 4,
     "metadata": {},
     "output_type": "execute_result"
    }
   ],
   "source": [
    "df.columns"
   ]
  },
  {
   "cell_type": "markdown",
   "id": "2e94e648",
   "metadata": {},
   "source": [
    "- delinq_2yrs\n",
    "- earlies_cr_line\n",
    "- inq_last_6mnths\n",
    "- open_acc\n",
    "- pub_rec\n",
    "- revol_bal\n",
    "- total_acc\n",
    "- out_prncp\n",
    "- out_prncp_inv\n",
    "- total_pymnt\n",
    "- total_pymnt_inv\n",
    "- total_rec_prncp\n",
    "- total_rec_int\n",
    "- total_rec_late_fee\n",
    "- last_pymnt_d\n",
    "- last_pymnt_amnt\n",
    "- last_credit_pull_d\n",
    "- application_type"
   ]
  },
  {
   "cell_type": "markdown",
   "id": "16b4d23d",
   "metadata": {},
   "source": [
    "Printing all the information, shape and metrics of the dataframe"
   ]
  },
  {
   "cell_type": "code",
   "execution_count": 5,
   "metadata": {},
   "outputs": [
    {
     "name": "stdout",
     "output_type": "stream",
     "text": [
      "<class 'pandas.core.frame.DataFrame'>\n",
      "RangeIndex: 39717 entries, 0 to 39716\n",
      "Columns: 109 entries, loan_amnt to total_il_high_credit_limit\n",
      "dtypes: float64(74), int64(11), object(24)\n",
      "memory usage: 33.0+ MB\n",
      "None\n",
      "(39717, 109)\n"
     ]
    },
    {
     "data": {
      "text/html": [
       "<div>\n",
       "<style scoped>\n",
       "    .dataframe tbody tr th:only-of-type {\n",
       "        vertical-align: middle;\n",
       "    }\n",
       "\n",
       "    .dataframe tbody tr th {\n",
       "        vertical-align: top;\n",
       "    }\n",
       "\n",
       "    .dataframe thead th {\n",
       "        text-align: right;\n",
       "    }\n",
       "</style>\n",
       "<table border=\"1\" class=\"dataframe\">\n",
       "  <thead>\n",
       "    <tr style=\"text-align: right;\">\n",
       "      <th></th>\n",
       "      <th>loan_amnt</th>\n",
       "      <th>funded_amnt</th>\n",
       "      <th>funded_amnt_inv</th>\n",
       "      <th>installment</th>\n",
       "      <th>annual_inc</th>\n",
       "      <th>dti</th>\n",
       "      <th>delinq_2yrs</th>\n",
       "      <th>inq_last_6mths</th>\n",
       "      <th>mths_since_last_delinq</th>\n",
       "      <th>mths_since_last_record</th>\n",
       "      <th>...</th>\n",
       "      <th>num_tl_90g_dpd_24m</th>\n",
       "      <th>num_tl_op_past_12m</th>\n",
       "      <th>pct_tl_nvr_dlq</th>\n",
       "      <th>percent_bc_gt_75</th>\n",
       "      <th>pub_rec_bankruptcies</th>\n",
       "      <th>tax_liens</th>\n",
       "      <th>tot_hi_cred_lim</th>\n",
       "      <th>total_bal_ex_mort</th>\n",
       "      <th>total_bc_limit</th>\n",
       "      <th>total_il_high_credit_limit</th>\n",
       "    </tr>\n",
       "  </thead>\n",
       "  <tbody>\n",
       "    <tr>\n",
       "      <th>count</th>\n",
       "      <td>39717.000000</td>\n",
       "      <td>39717.000000</td>\n",
       "      <td>39717.000000</td>\n",
       "      <td>39717.000000</td>\n",
       "      <td>3.971700e+04</td>\n",
       "      <td>39717.000000</td>\n",
       "      <td>39717.000000</td>\n",
       "      <td>39717.000000</td>\n",
       "      <td>14035.000000</td>\n",
       "      <td>2786.000000</td>\n",
       "      <td>...</td>\n",
       "      <td>0.0</td>\n",
       "      <td>0.0</td>\n",
       "      <td>0.0</td>\n",
       "      <td>0.0</td>\n",
       "      <td>39020.000000</td>\n",
       "      <td>39678.0</td>\n",
       "      <td>0.0</td>\n",
       "      <td>0.0</td>\n",
       "      <td>0.0</td>\n",
       "      <td>0.0</td>\n",
       "    </tr>\n",
       "    <tr>\n",
       "      <th>mean</th>\n",
       "      <td>11219.443815</td>\n",
       "      <td>10947.713196</td>\n",
       "      <td>10397.448868</td>\n",
       "      <td>324.561922</td>\n",
       "      <td>6.896893e+04</td>\n",
       "      <td>13.315130</td>\n",
       "      <td>0.146512</td>\n",
       "      <td>0.869200</td>\n",
       "      <td>35.900962</td>\n",
       "      <td>69.698134</td>\n",
       "      <td>...</td>\n",
       "      <td>NaN</td>\n",
       "      <td>NaN</td>\n",
       "      <td>NaN</td>\n",
       "      <td>NaN</td>\n",
       "      <td>0.043260</td>\n",
       "      <td>0.0</td>\n",
       "      <td>NaN</td>\n",
       "      <td>NaN</td>\n",
       "      <td>NaN</td>\n",
       "      <td>NaN</td>\n",
       "    </tr>\n",
       "    <tr>\n",
       "      <th>std</th>\n",
       "      <td>7456.670694</td>\n",
       "      <td>7187.238670</td>\n",
       "      <td>7128.450439</td>\n",
       "      <td>208.874874</td>\n",
       "      <td>6.379377e+04</td>\n",
       "      <td>6.678594</td>\n",
       "      <td>0.491812</td>\n",
       "      <td>1.070219</td>\n",
       "      <td>22.020060</td>\n",
       "      <td>43.822529</td>\n",
       "      <td>...</td>\n",
       "      <td>NaN</td>\n",
       "      <td>NaN</td>\n",
       "      <td>NaN</td>\n",
       "      <td>NaN</td>\n",
       "      <td>0.204324</td>\n",
       "      <td>0.0</td>\n",
       "      <td>NaN</td>\n",
       "      <td>NaN</td>\n",
       "      <td>NaN</td>\n",
       "      <td>NaN</td>\n",
       "    </tr>\n",
       "    <tr>\n",
       "      <th>min</th>\n",
       "      <td>500.000000</td>\n",
       "      <td>500.000000</td>\n",
       "      <td>0.000000</td>\n",
       "      <td>15.690000</td>\n",
       "      <td>4.000000e+03</td>\n",
       "      <td>0.000000</td>\n",
       "      <td>0.000000</td>\n",
       "      <td>0.000000</td>\n",
       "      <td>0.000000</td>\n",
       "      <td>0.000000</td>\n",
       "      <td>...</td>\n",
       "      <td>NaN</td>\n",
       "      <td>NaN</td>\n",
       "      <td>NaN</td>\n",
       "      <td>NaN</td>\n",
       "      <td>0.000000</td>\n",
       "      <td>0.0</td>\n",
       "      <td>NaN</td>\n",
       "      <td>NaN</td>\n",
       "      <td>NaN</td>\n",
       "      <td>NaN</td>\n",
       "    </tr>\n",
       "    <tr>\n",
       "      <th>25%</th>\n",
       "      <td>5500.000000</td>\n",
       "      <td>5400.000000</td>\n",
       "      <td>5000.000000</td>\n",
       "      <td>167.020000</td>\n",
       "      <td>4.040400e+04</td>\n",
       "      <td>8.170000</td>\n",
       "      <td>0.000000</td>\n",
       "      <td>0.000000</td>\n",
       "      <td>18.000000</td>\n",
       "      <td>22.000000</td>\n",
       "      <td>...</td>\n",
       "      <td>NaN</td>\n",
       "      <td>NaN</td>\n",
       "      <td>NaN</td>\n",
       "      <td>NaN</td>\n",
       "      <td>0.000000</td>\n",
       "      <td>0.0</td>\n",
       "      <td>NaN</td>\n",
       "      <td>NaN</td>\n",
       "      <td>NaN</td>\n",
       "      <td>NaN</td>\n",
       "    </tr>\n",
       "    <tr>\n",
       "      <th>50%</th>\n",
       "      <td>10000.000000</td>\n",
       "      <td>9600.000000</td>\n",
       "      <td>8975.000000</td>\n",
       "      <td>280.220000</td>\n",
       "      <td>5.900000e+04</td>\n",
       "      <td>13.400000</td>\n",
       "      <td>0.000000</td>\n",
       "      <td>1.000000</td>\n",
       "      <td>34.000000</td>\n",
       "      <td>90.000000</td>\n",
       "      <td>...</td>\n",
       "      <td>NaN</td>\n",
       "      <td>NaN</td>\n",
       "      <td>NaN</td>\n",
       "      <td>NaN</td>\n",
       "      <td>0.000000</td>\n",
       "      <td>0.0</td>\n",
       "      <td>NaN</td>\n",
       "      <td>NaN</td>\n",
       "      <td>NaN</td>\n",
       "      <td>NaN</td>\n",
       "    </tr>\n",
       "    <tr>\n",
       "      <th>75%</th>\n",
       "      <td>15000.000000</td>\n",
       "      <td>15000.000000</td>\n",
       "      <td>14400.000000</td>\n",
       "      <td>430.780000</td>\n",
       "      <td>8.230000e+04</td>\n",
       "      <td>18.600000</td>\n",
       "      <td>0.000000</td>\n",
       "      <td>1.000000</td>\n",
       "      <td>52.000000</td>\n",
       "      <td>104.000000</td>\n",
       "      <td>...</td>\n",
       "      <td>NaN</td>\n",
       "      <td>NaN</td>\n",
       "      <td>NaN</td>\n",
       "      <td>NaN</td>\n",
       "      <td>0.000000</td>\n",
       "      <td>0.0</td>\n",
       "      <td>NaN</td>\n",
       "      <td>NaN</td>\n",
       "      <td>NaN</td>\n",
       "      <td>NaN</td>\n",
       "    </tr>\n",
       "    <tr>\n",
       "      <th>max</th>\n",
       "      <td>35000.000000</td>\n",
       "      <td>35000.000000</td>\n",
       "      <td>35000.000000</td>\n",
       "      <td>1305.190000</td>\n",
       "      <td>6.000000e+06</td>\n",
       "      <td>29.990000</td>\n",
       "      <td>11.000000</td>\n",
       "      <td>8.000000</td>\n",
       "      <td>120.000000</td>\n",
       "      <td>129.000000</td>\n",
       "      <td>...</td>\n",
       "      <td>NaN</td>\n",
       "      <td>NaN</td>\n",
       "      <td>NaN</td>\n",
       "      <td>NaN</td>\n",
       "      <td>2.000000</td>\n",
       "      <td>0.0</td>\n",
       "      <td>NaN</td>\n",
       "      <td>NaN</td>\n",
       "      <td>NaN</td>\n",
       "      <td>NaN</td>\n",
       "    </tr>\n",
       "  </tbody>\n",
       "</table>\n",
       "<p>8 rows × 85 columns</p>\n",
       "</div>"
      ],
      "text/plain": [
       "          loan_amnt   funded_amnt  funded_amnt_inv   installment  \\\n",
       "count  39717.000000  39717.000000     39717.000000  39717.000000   \n",
       "mean   11219.443815  10947.713196     10397.448868    324.561922   \n",
       "std     7456.670694   7187.238670      7128.450439    208.874874   \n",
       "min      500.000000    500.000000         0.000000     15.690000   \n",
       "25%     5500.000000   5400.000000      5000.000000    167.020000   \n",
       "50%    10000.000000   9600.000000      8975.000000    280.220000   \n",
       "75%    15000.000000  15000.000000     14400.000000    430.780000   \n",
       "max    35000.000000  35000.000000     35000.000000   1305.190000   \n",
       "\n",
       "         annual_inc           dti   delinq_2yrs  inq_last_6mths  \\\n",
       "count  3.971700e+04  39717.000000  39717.000000    39717.000000   \n",
       "mean   6.896893e+04     13.315130      0.146512        0.869200   \n",
       "std    6.379377e+04      6.678594      0.491812        1.070219   \n",
       "min    4.000000e+03      0.000000      0.000000        0.000000   \n",
       "25%    4.040400e+04      8.170000      0.000000        0.000000   \n",
       "50%    5.900000e+04     13.400000      0.000000        1.000000   \n",
       "75%    8.230000e+04     18.600000      0.000000        1.000000   \n",
       "max    6.000000e+06     29.990000     11.000000        8.000000   \n",
       "\n",
       "       mths_since_last_delinq  mths_since_last_record  ...  \\\n",
       "count            14035.000000             2786.000000  ...   \n",
       "mean                35.900962               69.698134  ...   \n",
       "std                 22.020060               43.822529  ...   \n",
       "min                  0.000000                0.000000  ...   \n",
       "25%                 18.000000               22.000000  ...   \n",
       "50%                 34.000000               90.000000  ...   \n",
       "75%                 52.000000              104.000000  ...   \n",
       "max                120.000000              129.000000  ...   \n",
       "\n",
       "       num_tl_90g_dpd_24m  num_tl_op_past_12m  pct_tl_nvr_dlq  \\\n",
       "count                 0.0                 0.0             0.0   \n",
       "mean                  NaN                 NaN             NaN   \n",
       "std                   NaN                 NaN             NaN   \n",
       "min                   NaN                 NaN             NaN   \n",
       "25%                   NaN                 NaN             NaN   \n",
       "50%                   NaN                 NaN             NaN   \n",
       "75%                   NaN                 NaN             NaN   \n",
       "max                   NaN                 NaN             NaN   \n",
       "\n",
       "       percent_bc_gt_75  pub_rec_bankruptcies  tax_liens  tot_hi_cred_lim  \\\n",
       "count               0.0          39020.000000    39678.0              0.0   \n",
       "mean                NaN              0.043260        0.0              NaN   \n",
       "std                 NaN              0.204324        0.0              NaN   \n",
       "min                 NaN              0.000000        0.0              NaN   \n",
       "25%                 NaN              0.000000        0.0              NaN   \n",
       "50%                 NaN              0.000000        0.0              NaN   \n",
       "75%                 NaN              0.000000        0.0              NaN   \n",
       "max                 NaN              2.000000        0.0              NaN   \n",
       "\n",
       "       total_bal_ex_mort  total_bc_limit  total_il_high_credit_limit  \n",
       "count                0.0             0.0                         0.0  \n",
       "mean                 NaN             NaN                         NaN  \n",
       "std                  NaN             NaN                         NaN  \n",
       "min                  NaN             NaN                         NaN  \n",
       "25%                  NaN             NaN                         NaN  \n",
       "50%                  NaN             NaN                         NaN  \n",
       "75%                  NaN             NaN                         NaN  \n",
       "max                  NaN             NaN                         NaN  \n",
       "\n",
       "[8 rows x 85 columns]"
      ]
     },
     "execution_count": 5,
     "metadata": {},
     "output_type": "execute_result"
    }
   ],
   "source": [
    "print(df.info())\n",
    "print(df.shape)\n",
    "df.describe()"
   ]
  },
  {
   "cell_type": "markdown",
   "id": "603890f4",
   "metadata": {},
   "source": [
    "## Data Cleaning"
   ]
  },
  {
   "cell_type": "markdown",
   "id": "5e17bb83",
   "metadata": {},
   "source": [
    "Finding all the columns having missing values"
   ]
  },
  {
   "cell_type": "code",
   "execution_count": 6,
   "metadata": {},
   "outputs": [
    {
     "data": {
      "text/plain": [
       "loan_amnt                         0\n",
       "funded_amnt                       0\n",
       "funded_amnt_inv                   0\n",
       "term                              0\n",
       "int_rate                          0\n",
       "                              ...  \n",
       "tax_liens                        39\n",
       "tot_hi_cred_lim               39717\n",
       "total_bal_ex_mort             39717\n",
       "total_bc_limit                39717\n",
       "total_il_high_credit_limit    39717\n",
       "Length: 109, dtype: int64"
      ]
     },
     "execution_count": 6,
     "metadata": {},
     "output_type": "execute_result"
    }
   ],
   "source": [
    "df.isnull().sum()"
   ]
  },
  {
   "cell_type": "markdown",
   "id": "959bca05",
   "metadata": {},
   "source": [
    "Finding columns with missing values with their respective percentage"
   ]
  },
  {
   "cell_type": "code",
   "execution_count": 7,
   "metadata": {},
   "outputs": [
    {
     "name": "stdout",
     "output_type": "stream",
     "text": [
      "Missing values in terms of Percentage\n",
      "emp_title has 6.19130347206486% missing values\n",
      "emp_length has 2.7066495455346598% missing values\n",
      "desc has 32.58050708764509% missing values\n",
      "title has 0.02769594883802995% missing values\n",
      "mths_since_last_delinq has 64.66248709620567% missing values\n",
      "mths_since_last_record has 92.98537150338646% missing values\n",
      "revol_util has 0.12589067653649977% missing values\n",
      "last_pymnt_d has 0.17876476068182967% missing values\n",
      "next_pymnt_d has 97.12969257496789% missing values\n",
      "last_credit_pull_d has 0.005035627061459991% missing values\n",
      "collections_12_mths_ex_med has 0.14099755772087974% missing values\n",
      "mths_since_last_major_derog has 100.0% missing values\n",
      "annual_inc_joint has 100.0% missing values\n",
      "dti_joint has 100.0% missing values\n",
      "verification_status_joint has 100.0% missing values\n",
      "tot_coll_amt has 100.0% missing values\n",
      "tot_cur_bal has 100.0% missing values\n",
      "open_acc_6m has 100.0% missing values\n",
      "open_il_6m has 100.0% missing values\n",
      "open_il_12m has 100.0% missing values\n",
      "open_il_24m has 100.0% missing values\n",
      "mths_since_rcnt_il has 100.0% missing values\n",
      "total_bal_il has 100.0% missing values\n",
      "il_util has 100.0% missing values\n",
      "open_rv_12m has 100.0% missing values\n",
      "open_rv_24m has 100.0% missing values\n",
      "max_bal_bc has 100.0% missing values\n",
      "all_util has 100.0% missing values\n",
      "total_rev_hi_lim has 100.0% missing values\n",
      "inq_fi has 100.0% missing values\n",
      "total_cu_tl has 100.0% missing values\n",
      "inq_last_12m has 100.0% missing values\n",
      "acc_open_past_24mths has 100.0% missing values\n",
      "avg_cur_bal has 100.0% missing values\n",
      "bc_open_to_buy has 100.0% missing values\n",
      "bc_util has 100.0% missing values\n",
      "chargeoff_within_12_mths has 0.14099755772087974% missing values\n",
      "mo_sin_old_il_acct has 100.0% missing values\n",
      "mo_sin_old_rev_tl_op has 100.0% missing values\n",
      "mo_sin_rcnt_rev_tl_op has 100.0% missing values\n",
      "mo_sin_rcnt_tl has 100.0% missing values\n",
      "mort_acc has 100.0% missing values\n",
      "mths_since_recent_bc has 100.0% missing values\n",
      "mths_since_recent_bc_dlq has 100.0% missing values\n",
      "mths_since_recent_inq has 100.0% missing values\n",
      "mths_since_recent_revol_delinq has 100.0% missing values\n",
      "num_accts_ever_120_pd has 100.0% missing values\n",
      "num_actv_bc_tl has 100.0% missing values\n",
      "num_actv_rev_tl has 100.0% missing values\n",
      "num_bc_sats has 100.0% missing values\n",
      "num_bc_tl has 100.0% missing values\n",
      "num_il_tl has 100.0% missing values\n",
      "num_op_rev_tl has 100.0% missing values\n",
      "num_rev_accts has 100.0% missing values\n",
      "num_rev_tl_bal_gt_0 has 100.0% missing values\n",
      "num_sats has 100.0% missing values\n",
      "num_tl_120dpd_2m has 100.0% missing values\n",
      "num_tl_30dpd has 100.0% missing values\n",
      "num_tl_90g_dpd_24m has 100.0% missing values\n",
      "num_tl_op_past_12m has 100.0% missing values\n",
      "pct_tl_nvr_dlq has 100.0% missing values\n",
      "percent_bc_gt_75 has 100.0% missing values\n",
      "pub_rec_bankruptcies has 1.75491603091875% missing values\n",
      "tax_liens has 0.09819472769846982% missing values\n",
      "tot_hi_cred_lim has 100.0% missing values\n",
      "total_bal_ex_mort has 100.0% missing values\n",
      "total_bc_limit has 100.0% missing values\n",
      "total_il_high_credit_limit has 100.0% missing values\n"
     ]
    }
   ],
   "source": [
    "print(\"Missing values in terms of Percentage\")\n",
    "\n",
    "for column in df:\n",
    "    percent = 100 - (df[column].count() / len(df))*100\n",
    "    if percent > 0:\n",
    "        print(column + ' has ' + str(percent) + \"% missing values\")"
   ]
  },
  {
   "cell_type": "markdown",
   "id": "cd213f6e",
   "metadata": {},
   "source": [
    "Dropping all the columns having more than 50% missing values"
   ]
  },
  {
   "cell_type": "code",
   "execution_count": 8,
   "metadata": {},
   "outputs": [
    {
     "name": "stdout",
     "output_type": "stream",
     "text": [
      "List of dropped columns: mths_since_last_delinq, mths_since_last_record, next_pymnt_d, mths_since_last_major_derog, annual_inc_joint, dti_joint, verification_status_joint, tot_coll_amt, tot_cur_bal, open_acc_6m, open_il_6m, open_il_12m, open_il_24m, mths_since_rcnt_il, total_bal_il, il_util, open_rv_12m, open_rv_24m, max_bal_bc, all_util, total_rev_hi_lim, inq_fi, total_cu_tl, inq_last_12m, acc_open_past_24mths, avg_cur_bal, bc_open_to_buy, bc_util, mo_sin_old_il_acct, mo_sin_old_rev_tl_op, mo_sin_rcnt_rev_tl_op, mo_sin_rcnt_tl, mort_acc, mths_since_recent_bc, mths_since_recent_bc_dlq, mths_since_recent_inq, mths_since_recent_revol_delinq, num_accts_ever_120_pd, num_actv_bc_tl, num_actv_rev_tl, num_bc_sats, num_bc_tl, num_il_tl, num_op_rev_tl, num_rev_accts, num_rev_tl_bal_gt_0, num_sats, num_tl_120dpd_2m, num_tl_30dpd, num_tl_90g_dpd_24m, num_tl_op_past_12m, pct_tl_nvr_dlq, percent_bc_gt_75, tot_hi_cred_lim, total_bal_ex_mort, total_bc_limit, total_il_high_credit_limit, \n",
      "\n"
     ]
    }
   ],
   "source": [
    "df2 = df[[column for column in df if df[column].count() / len(df) >= 0.5]]\n",
    "\n",
    "print(\"List of dropped columns:\", end=\" \")\n",
    "for c in df.columns:\n",
    "    if c not in df2.columns:\n",
    "        print(c, end=\", \")\n",
    "print('\\n')\n",
    "df = df2"
   ]
  },
  {
   "cell_type": "markdown",
   "id": "392b2136",
   "metadata": {},
   "source": [
    "Printing information and shape of the dataframe after dropping columns having more than 50% missing values"
   ]
  },
  {
   "cell_type": "code",
   "execution_count": 9,
   "metadata": {},
   "outputs": [
    {
     "name": "stdout",
     "output_type": "stream",
     "text": [
      "<class 'pandas.core.frame.DataFrame'>\n",
      "RangeIndex: 39717 entries, 0 to 39716\n",
      "Data columns (total 52 columns):\n",
      " #   Column                      Non-Null Count  Dtype  \n",
      "---  ------                      --------------  -----  \n",
      " 0   loan_amnt                   39717 non-null  int64  \n",
      " 1   funded_amnt                 39717 non-null  int64  \n",
      " 2   funded_amnt_inv             39717 non-null  float64\n",
      " 3   term                        39717 non-null  object \n",
      " 4   int_rate                    39717 non-null  object \n",
      " 5   installment                 39717 non-null  float64\n",
      " 6   grade                       39717 non-null  object \n",
      " 7   sub_grade                   39717 non-null  object \n",
      " 8   emp_title                   37258 non-null  object \n",
      " 9   emp_length                  38642 non-null  object \n",
      " 10  home_ownership              39717 non-null  object \n",
      " 11  annual_inc                  39717 non-null  float64\n",
      " 12  verification_status         39717 non-null  object \n",
      " 13  issue_d                     39717 non-null  object \n",
      " 14  loan_status                 39717 non-null  object \n",
      " 15  pymnt_plan                  39717 non-null  object \n",
      " 16  url                         39717 non-null  object \n",
      " 17  desc                        26777 non-null  object \n",
      " 18  purpose                     39717 non-null  object \n",
      " 19  title                       39706 non-null  object \n",
      " 20  zip_code                    39717 non-null  object \n",
      " 21  addr_state                  39717 non-null  object \n",
      " 22  dti                         39717 non-null  float64\n",
      " 23  delinq_2yrs                 39717 non-null  int64  \n",
      " 24  earliest_cr_line            39717 non-null  object \n",
      " 25  inq_last_6mths              39717 non-null  int64  \n",
      " 26  open_acc                    39717 non-null  int64  \n",
      " 27  pub_rec                     39717 non-null  int64  \n",
      " 28  revol_bal                   39717 non-null  int64  \n",
      " 29  revol_util                  39667 non-null  object \n",
      " 30  total_acc                   39717 non-null  int64  \n",
      " 31  initial_list_status         39717 non-null  object \n",
      " 32  out_prncp                   39717 non-null  float64\n",
      " 33  out_prncp_inv               39717 non-null  float64\n",
      " 34  total_pymnt                 39717 non-null  float64\n",
      " 35  total_pymnt_inv             39717 non-null  float64\n",
      " 36  total_rec_prncp             39717 non-null  float64\n",
      " 37  total_rec_int               39717 non-null  float64\n",
      " 38  total_rec_late_fee          39717 non-null  float64\n",
      " 39  recoveries                  39717 non-null  float64\n",
      " 40  collection_recovery_fee     39717 non-null  float64\n",
      " 41  last_pymnt_d                39646 non-null  object \n",
      " 42  last_pymnt_amnt             39717 non-null  float64\n",
      " 43  last_credit_pull_d          39715 non-null  object \n",
      " 44  collections_12_mths_ex_med  39661 non-null  float64\n",
      " 45  policy_code                 39717 non-null  int64  \n",
      " 46  application_type            39717 non-null  object \n",
      " 47  acc_now_delinq              39717 non-null  int64  \n",
      " 48  chargeoff_within_12_mths    39661 non-null  float64\n",
      " 49  delinq_amnt                 39717 non-null  int64  \n",
      " 50  pub_rec_bankruptcies        39020 non-null  float64\n",
      " 51  tax_liens                   39678 non-null  float64\n",
      "dtypes: float64(18), int64(11), object(23)\n",
      "memory usage: 15.8+ MB\n",
      "None\n",
      "(39717, 52)\n"
     ]
    }
   ],
   "source": [
    "print(df.info())\n",
    "print(df.shape)"
   ]
  },
  {
   "cell_type": "markdown",
   "id": "7336a1c0",
   "metadata": {},
   "source": [
    "Printing all the columns having missing values less than 50% out of the remaining 52 columns"
   ]
  },
  {
   "cell_type": "code",
   "execution_count": 10,
   "metadata": {},
   "outputs": [
    {
     "name": "stdout",
     "output_type": "stream",
     "text": [
      "Missing values in terms of Percentage\n",
      "emp_title has 6.19130347206486% missing values\n",
      "emp_length has 2.7066495455346598% missing values\n",
      "desc has 32.58050708764509% missing values\n",
      "title has 0.02769594883802995% missing values\n",
      "revol_util has 0.12589067653649977% missing values\n",
      "last_pymnt_d has 0.17876476068182967% missing values\n",
      "last_credit_pull_d has 0.005035627061459991% missing values\n",
      "collections_12_mths_ex_med has 0.14099755772087974% missing values\n",
      "chargeoff_within_12_mths has 0.14099755772087974% missing values\n",
      "pub_rec_bankruptcies has 1.75491603091875% missing values\n",
      "tax_liens has 0.09819472769846982% missing values\n"
     ]
    }
   ],
   "source": [
    "# print(df.isnull().sum())\n",
    "\n",
    "# print('\\n')\n",
    "\n",
    "print(\"Missing values in terms of Percentage\")\n",
    "\n",
    "for column in df:\n",
    "    percent = 100 - (df[column].count() / len(df))*100\n",
    "    if percent > 0:\n",
    "        print(column + ' has ' + str(percent) + \"% missing values\")"
   ]
  },
  {
   "cell_type": "markdown",
   "id": "7c42e016",
   "metadata": {},
   "source": [
    "### Handling each columns with missing values"
   ]
  },
  {
   "cell_type": "markdown",
   "id": "0abfc9f9",
   "metadata": {},
   "source": [
    "Dropping column 'desc' which has loan description provided by the borrower as it contains large string and would require text processing and NLP to extract meaningful insight"
   ]
  },
  {
   "cell_type": "code",
   "execution_count": 11,
   "id": "2fb2dd5e",
   "metadata": {},
   "outputs": [],
   "source": [
    "df = df.drop('desc',axis=1)"
   ]
  },
  {
   "cell_type": "code",
   "execution_count": 12,
   "id": "483067c9",
   "metadata": {},
   "outputs": [
    {
     "name": "stdout",
     "output_type": "stream",
     "text": [
      "<class 'pandas.core.frame.DataFrame'>\n",
      "RangeIndex: 39717 entries, 0 to 39716\n",
      "Data columns (total 51 columns):\n",
      " #   Column                      Non-Null Count  Dtype  \n",
      "---  ------                      --------------  -----  \n",
      " 0   loan_amnt                   39717 non-null  int64  \n",
      " 1   funded_amnt                 39717 non-null  int64  \n",
      " 2   funded_amnt_inv             39717 non-null  float64\n",
      " 3   term                        39717 non-null  object \n",
      " 4   int_rate                    39717 non-null  object \n",
      " 5   installment                 39717 non-null  float64\n",
      " 6   grade                       39717 non-null  object \n",
      " 7   sub_grade                   39717 non-null  object \n",
      " 8   emp_title                   37258 non-null  object \n",
      " 9   emp_length                  38642 non-null  object \n",
      " 10  home_ownership              39717 non-null  object \n",
      " 11  annual_inc                  39717 non-null  float64\n",
      " 12  verification_status         39717 non-null  object \n",
      " 13  issue_d                     39717 non-null  object \n",
      " 14  loan_status                 39717 non-null  object \n",
      " 15  pymnt_plan                  39717 non-null  object \n",
      " 16  url                         39717 non-null  object \n",
      " 17  purpose                     39717 non-null  object \n",
      " 18  title                       39706 non-null  object \n",
      " 19  zip_code                    39717 non-null  object \n",
      " 20  addr_state                  39717 non-null  object \n",
      " 21  dti                         39717 non-null  float64\n",
      " 22  delinq_2yrs                 39717 non-null  int64  \n",
      " 23  earliest_cr_line            39717 non-null  object \n",
      " 24  inq_last_6mths              39717 non-null  int64  \n",
      " 25  open_acc                    39717 non-null  int64  \n",
      " 26  pub_rec                     39717 non-null  int64  \n",
      " 27  revol_bal                   39717 non-null  int64  \n",
      " 28  revol_util                  39667 non-null  object \n",
      " 29  total_acc                   39717 non-null  int64  \n",
      " 30  initial_list_status         39717 non-null  object \n",
      " 31  out_prncp                   39717 non-null  float64\n",
      " 32  out_prncp_inv               39717 non-null  float64\n",
      " 33  total_pymnt                 39717 non-null  float64\n",
      " 34  total_pymnt_inv             39717 non-null  float64\n",
      " 35  total_rec_prncp             39717 non-null  float64\n",
      " 36  total_rec_int               39717 non-null  float64\n",
      " 37  total_rec_late_fee          39717 non-null  float64\n",
      " 38  recoveries                  39717 non-null  float64\n",
      " 39  collection_recovery_fee     39717 non-null  float64\n",
      " 40  last_pymnt_d                39646 non-null  object \n",
      " 41  last_pymnt_amnt             39717 non-null  float64\n",
      " 42  last_credit_pull_d          39715 non-null  object \n",
      " 43  collections_12_mths_ex_med  39661 non-null  float64\n",
      " 44  policy_code                 39717 non-null  int64  \n",
      " 45  application_type            39717 non-null  object \n",
      " 46  acc_now_delinq              39717 non-null  int64  \n",
      " 47  chargeoff_within_12_mths    39661 non-null  float64\n",
      " 48  delinq_amnt                 39717 non-null  int64  \n",
      " 49  pub_rec_bankruptcies        39020 non-null  float64\n",
      " 50  tax_liens                   39678 non-null  float64\n",
      "dtypes: float64(18), int64(11), object(22)\n",
      "memory usage: 15.5+ MB\n"
     ]
    }
   ],
   "source": [
    "df.info()"
   ]
  },
  {
   "cell_type": "markdown",
   "id": "e8852df8",
   "metadata": {},
   "source": [
    "Analyzing 'emp_title' column in order to find if it is useful or not for EDA"
   ]
  },
  {
   "cell_type": "code",
   "execution_count": 13,
   "id": "9873c563",
   "metadata": {},
   "outputs": [
    {
     "name": "stdout",
     "output_type": "stream",
     "text": [
      "US Army                              134\n",
      "Bank of America                      109\n",
      "IBM                                   66\n",
      "AT&T                                  59\n",
      "Kaiser Permanente                     56\n",
      "                                    ... \n",
      "Community College of Philadelphia      1\n",
      "AMEC                                   1\n",
      "lee county sheriff                     1\n",
      "Bacon County Board of Education        1\n",
      "Evergreen Center                       1\n",
      "Name: emp_title, Length: 28820, dtype: int64\n",
      "[nan 'Ryder' 'AIR RESOURCES BOARD' ... 'FiSite Research'\n",
      " 'Squarewave Solutions, Ltd.' 'Evergreen Center']\n",
      "28821\n"
     ]
    }
   ],
   "source": [
    "print(df['emp_title'].value_counts())\n",
    "print(df['emp_title'].unique())\n",
    "\n",
    "print(len(df['emp_title'].unique()))"
   ]
  },
  {
   "cell_type": "markdown",
   "id": "bb234bbb",
   "metadata": {},
   "source": [
    "- Skipping emp_title has it has to many unqiue values (more than 28000) and would require text processing"
   ]
  },
  {
   "cell_type": "markdown",
   "id": "e12d7937",
   "metadata": {},
   "source": [
    "Analyzing 'emp_length' column in order to find if it is useful or not for EDA"
   ]
  },
  {
   "cell_type": "code",
   "execution_count": 14,
   "id": "55dcd67a",
   "metadata": {},
   "outputs": [
    {
     "name": "stdout",
     "output_type": "stream",
     "text": [
      "10+ years    8879\n",
      "< 1 year     4583\n",
      "2 years      4388\n",
      "3 years      4095\n",
      "4 years      3436\n",
      "5 years      3282\n",
      "1 year       3240\n",
      "6 years      2229\n",
      "7 years      1773\n",
      "8 years      1479\n",
      "9 years      1258\n",
      "Name: emp_length, dtype: int64\n",
      "['10+ years' '< 1 year' '1 year' '3 years' '8 years' '9 years' '4 years'\n",
      " '5 years' '6 years' '2 years' '7 years' nan]\n",
      "12\n"
     ]
    }
   ],
   "source": [
    "print(df['emp_length'].value_counts())\n",
    "print(df['emp_length'].unique())\n",
    "\n",
    "print(len(df['emp_length'].unique()))"
   ]
  },
  {
   "cell_type": "code",
   "execution_count": 15,
   "id": "3183e6bc",
   "metadata": {},
   "outputs": [
    {
     "data": {
      "text/plain": [
       "2.7066495455346575"
      ]
     },
     "execution_count": 15,
     "metadata": {},
     "output_type": "execute_result"
    }
   ],
   "source": [
    "df['emp_length'].isnull().sum() / len(df) * 100"
   ]
  },
  {
   "cell_type": "markdown",
   "id": "cffaf9a9",
   "metadata": {},
   "source": [
    "Removing records for which emp_length is null as it just 2% of the entire data\n",
    "We could impute the records by find the mode and replacing it with the null values but decided not to as it may create bias"
   ]
  },
  {
   "cell_type": "code",
   "execution_count": 16,
   "id": "ba5c93fe",
   "metadata": {},
   "outputs": [],
   "source": [
    "df = df[~df['emp_length'].isnull()]"
   ]
  },
  {
   "cell_type": "code",
   "execution_count": 17,
   "id": "c1399829",
   "metadata": {},
   "outputs": [
    {
     "data": {
      "image/png": "[encoded data removed]",
      "text/plain": [
       "<Figure size 432x288 with 1 Axes>"
      ]
     },
     "metadata": {},
     "output_type": "display_data"
    }
   ],
   "source": [
    "df['emp_length'].value_counts().plot.pie()\n",
    "plt.show()"
   ]
  },
  {
   "cell_type": "code",
   "execution_count": 18,
   "id": "5667f0f6",
   "metadata": {},
   "outputs": [
    {
     "data": {
      "image/png": "[encoded data removed]",
      "text/plain": [
       "<Figure size 432x288 with 1 Axes>"
      ]
     },
     "metadata": {},
     "output_type": "display_data"
    }
   ],
   "source": [
    "df['emp_length'].value_counts().plot.bar()\n",
    "plt.show()"
   ]
  },
  {
   "cell_type": "markdown",
   "id": "8ebb7f9b",
   "metadata": {},
   "source": [
    "Analyzing 'title' column in order to find if it is useful or not for EDA\n"
   ]
  },
  {
   "cell_type": "code",
   "execution_count": 19,
   "id": "cea02f5e",
   "metadata": {},
   "outputs": [
    {
     "name": "stdout",
     "output_type": "stream",
     "text": [
      "Debt Consolidation             2144\n",
      "Debt Consolidation Loan        1691\n",
      "Personal Loan                   641\n",
      "Consolidation                   511\n",
      "debt consolidation              486\n",
      "                               ... \n",
      "Shannon's personal loan           1\n",
      "credit card finally gone!!!       1\n",
      "Taxes 2011                        1\n",
      "Dc                                1\n",
      "JAL Loan                          1\n",
      "Name: title, Length: 19148, dtype: int64\n",
      "['Computer' 'bike' 'real estate business' ... 'Retiring credit card debt'\n",
      " 'MBA Loan Consolidation' 'JAL Loan']\n",
      "19149\n"
     ]
    }
   ],
   "source": [
    "print(df['title'].value_counts())\n",
    "print(df['title'].unique())\n",
    "\n",
    "print(len(df['title'].unique()))\n"
   ]
  },
  {
   "cell_type": "markdown",
   "id": "2fa215b4",
   "metadata": {},
   "source": [
    "- Skipping title has it has to many unqiue values (more than 19000) and would require text processing"
   ]
  },
  {
   "cell_type": "code",
   "execution_count": 20,
   "id": "8a01b452",
   "metadata": {},
   "outputs": [
    {
     "data": {
      "text/plain": [
       "array([ 0., nan])"
      ]
     },
     "execution_count": 20,
     "metadata": {},
     "output_type": "execute_result"
    }
   ],
   "source": [
    "df['chargeoff_within_12_mths'].unique()"
   ]
  },
  {
   "cell_type": "code",
   "execution_count": 21,
   "id": "eb1e80a0",
   "metadata": {},
   "outputs": [
    {
     "name": "stdout",
     "output_type": "stream",
     "text": [
      "0.0    36375\n",
      "1.0     1563\n",
      "2.0        7\n",
      "Name: pub_rec_bankruptcies, dtype: int64\n",
      "[ 0.  1.  2. nan]\n",
      "697\n"
     ]
    }
   ],
   "source": [
    "print(df['pub_rec_bankruptcies'].value_counts())\n",
    "print(df['pub_rec_bankruptcies'].unique())\n",
    "print(df['pub_rec_bankruptcies'].isnull().sum())"
   ]
  },
  {
   "cell_type": "markdown",
   "id": "c2b01423",
   "metadata": {},
   "source": [
    "Dropping records having null values for column 'pub_rec_bankruptcies' as it just 1% of the entire data\n",
    "We could fill the null values by using the mode but since the value 0 bankruptices occured is more than 35000 it would have no signfinance adding 697 more records"
   ]
  },
  {
   "cell_type": "code",
   "execution_count": 22,
   "id": "7808d3a2",
   "metadata": {},
   "outputs": [
    {
     "data": {
      "text/plain": [
       "1.8037368666218103"
      ]
     },
     "execution_count": 22,
     "metadata": {},
     "output_type": "execute_result"
    }
   ],
   "source": [
    "df['pub_rec_bankruptcies'].isnull().sum() / len(df) * 100"
   ]
  },
  {
   "cell_type": "code",
   "execution_count": 23,
   "id": "860d05a0",
   "metadata": {},
   "outputs": [],
   "source": [
    "df = df[~df['pub_rec_bankruptcies'].isnull()]"
   ]
  },
  {
   "cell_type": "markdown",
   "id": "dba20aa9",
   "metadata": {},
   "source": [
    "Printing all the columns having missing values"
   ]
  },
  {
   "cell_type": "code",
   "execution_count": 24,
   "id": "917be924",
   "metadata": {},
   "outputs": [
    {
     "name": "stdout",
     "output_type": "stream",
     "text": [
      "Missing values in terms of Percentage\n",
      "emp_title has 3.681644485439449% missing values\n",
      "title has 0.026353933324557488% missing values\n",
      "revol_util has 0.12386348662538182% missing values\n",
      "last_pymnt_d has 0.17393595994201405% missing values\n",
      "last_credit_pull_d has 0.0026353933324543277% missing values\n",
      "collections_12_mths_ex_med has 0.0052707866649086554% missing values\n",
      "chargeoff_within_12_mths has 0.0052707866649086554% missing values\n"
     ]
    }
   ],
   "source": [
    "print(\"Missing values in terms of Percentage\")\n",
    "\n",
    "for column in df:\n",
    "    percent = 100 - (df[column].count() / len(df))*100\n",
    "    if percent > 0:\n",
    "        print(column + ' has ' + str(percent) + \"% missing values\")"
   ]
  },
  {
   "cell_type": "markdown",
   "id": "1d958ee4",
   "metadata": {},
   "source": [
    "Printing all the columns having number of unique values"
   ]
  },
  {
   "cell_type": "code",
   "execution_count": 25,
   "id": "0c10e021",
   "metadata": {},
   "outputs": [
    {
     "data": {
      "text/plain": [
       "tax_liens                         1\n",
       "delinq_amnt                       1\n",
       "chargeoff_within_12_mths          1\n",
       "acc_now_delinq                    1\n",
       "application_type                  1\n",
       "pymnt_plan                        1\n",
       "policy_code                       1\n",
       "initial_list_status               1\n",
       "collections_12_mths_ex_med        1\n",
       "term                              2\n",
       "pub_rec_bankruptcies              3\n",
       "loan_status                       3\n",
       "verification_status               3\n",
       "home_ownership                    4\n",
       "pub_rec                           5\n",
       "grade                             7\n",
       "inq_last_6mths                    9\n",
       "emp_length                       11\n",
       "delinq_2yrs                      11\n",
       "purpose                          14\n",
       "sub_grade                        35\n",
       "open_acc                         38\n",
       "addr_state                       49\n",
       "issue_d                          52\n",
       "total_acc                        81\n",
       "last_credit_pull_d               97\n",
       "last_pymnt_d                     97\n",
       "int_rate                        337\n",
       "earliest_cr_line                514\n",
       "zip_code                        809\n",
       "loan_amnt                       870\n",
       "funded_amnt                    1032\n",
       "revol_util                     1087\n",
       "out_prncp                      1096\n",
       "out_prncp_inv                  1097\n",
       "total_rec_late_fee             1277\n",
       "collection_recovery_fee        2512\n",
       "dti                            2863\n",
       "recoveries                     3840\n",
       "annual_inc                     5037\n",
       "total_rec_prncp                7576\n",
       "funded_amnt_inv                7758\n",
       "installment                   14757\n",
       "title                         18732\n",
       "revol_bal                     21212\n",
       "emp_title                     28299\n",
       "last_pymnt_amnt               33583\n",
       "total_rec_int                 33705\n",
       "total_pymnt_inv               35893\n",
       "total_pymnt                   36203\n",
       "url                           37945\n",
       "dtype: int64"
      ]
     },
     "execution_count": 25,
     "metadata": {},
     "output_type": "execute_result"
    }
   ],
   "source": [
    "df.nunique().sort_values()"
   ]
  },
  {
   "cell_type": "markdown",
   "id": "4851fdd6",
   "metadata": {},
   "source": [
    "- Dropping columns having just one unique value\n",
    "- Dropping columns having customer behavior after the loan has been sanctioned \n",
    "- Dropping columns having requirement of complex text processing\n",
    "- Dropping columns like URL which have no signfinance in predicting if the applicant will default\n",
    "- Keeping columns which are available at the time of application not the columns which are indicating behavior after the loan is sanctioned"
   ]
  },
  {
   "cell_type": "code",
   "execution_count": 26,
   "id": "eb3acee3",
   "metadata": {},
   "outputs": [],
   "source": [
    "columnsToRemove = ['tax_liens','delinq_amnt',\n",
    "                   'chargeoff_within_12_mths','acc_now_delinq',\n",
    "                   'application_type','pymnt_plan','policy_code',\n",
    "                   'initial_list_status','collections_12_mths_ex_med',\n",
    "                   'url','total_pymnt',\n",
    "                   'total_pymnt_inv','total_rec_int',\n",
    "                   'last_pymnt_amnt','revol_bal',\n",
    "                   'funded_amnt_inv','total_rec_prncp',\n",
    "                   'recoveries', 'collection_recovery_fee',\n",
    "                   'total_rec_late_fee','out_prncp_inv',\n",
    "                   'out_prncp', 'revol_util',\n",
    "                   'funded_amnt','last_pymnt_d',\n",
    "                   'last_credit_pull_d', 'issue_d',\n",
    "                   'title', 'emp_title']"
   ]
  },
  {
   "cell_type": "code",
   "execution_count": 27,
   "id": "cbcb859c",
   "metadata": {},
   "outputs": [],
   "source": [
    "df = df.drop(columnsToRemove,axis=1)"
   ]
  },
  {
   "cell_type": "markdown",
   "id": "d81dac7c",
   "metadata": {},
   "source": [
    "Printing the information of the dataframe after data cleaning"
   ]
  },
  {
   "cell_type": "code",
   "execution_count": 28,
   "id": "c331c100",
   "metadata": {},
   "outputs": [
    {
     "name": "stdout",
     "output_type": "stream",
     "text": [
      "<class 'pandas.core.frame.DataFrame'>\n",
      "Int64Index: 37945 entries, 0 to 39680\n",
      "Data columns (total 22 columns):\n",
      " #   Column                Non-Null Count  Dtype  \n",
      "---  ------                --------------  -----  \n",
      " 0   loan_amnt             37945 non-null  int64  \n",
      " 1   term                  37945 non-null  object \n",
      " 2   int_rate              37945 non-null  object \n",
      " 3   installment           37945 non-null  float64\n",
      " 4   grade                 37945 non-null  object \n",
      " 5   sub_grade             37945 non-null  object \n",
      " 6   emp_length            37945 non-null  object \n",
      " 7   home_ownership        37945 non-null  object \n",
      " 8   annual_inc            37945 non-null  float64\n",
      " 9   verification_status   37945 non-null  object \n",
      " 10  loan_status           37945 non-null  object \n",
      " 11  purpose               37945 non-null  object \n",
      " 12  zip_code              37945 non-null  object \n",
      " 13  addr_state            37945 non-null  object \n",
      " 14  dti                   37945 non-null  float64\n",
      " 15  delinq_2yrs           37945 non-null  int64  \n",
      " 16  earliest_cr_line      37945 non-null  object \n",
      " 17  inq_last_6mths        37945 non-null  int64  \n",
      " 18  open_acc              37945 non-null  int64  \n",
      " 19  pub_rec               37945 non-null  int64  \n",
      " 20  total_acc             37945 non-null  int64  \n",
      " 21  pub_rec_bankruptcies  37945 non-null  float64\n",
      "dtypes: float64(4), int64(6), object(12)\n",
      "memory usage: 6.7+ MB\n"
     ]
    }
   ],
   "source": [
    "df.info()"
   ]
  },
  {
   "cell_type": "markdown",
   "id": "ec8fa018",
   "metadata": {},
   "source": [
    "We are left with 22 columns including our target column 'loan_status' to analyze and perform EDA "
   ]
  },
  {
   "cell_type": "code",
   "execution_count": 29,
   "id": "cae8eba3",
   "metadata": {},
   "outputs": [
    {
     "data": {
      "text/plain": [
       "loan_amnt               0\n",
       "term                    0\n",
       "int_rate                0\n",
       "installment             0\n",
       "grade                   0\n",
       "sub_grade               0\n",
       "emp_length              0\n",
       "home_ownership          0\n",
       "annual_inc              0\n",
       "verification_status     0\n",
       "loan_status             0\n",
       "purpose                 0\n",
       "zip_code                0\n",
       "addr_state              0\n",
       "dti                     0\n",
       "delinq_2yrs             0\n",
       "earliest_cr_line        0\n",
       "inq_last_6mths          0\n",
       "open_acc                0\n",
       "pub_rec                 0\n",
       "total_acc               0\n",
       "pub_rec_bankruptcies    0\n",
       "dtype: int64"
      ]
     },
     "execution_count": 29,
     "metadata": {},
     "output_type": "execute_result"
    }
   ],
   "source": [
    "df.isnull().sum()"
   ]
  },
  {
   "cell_type": "markdown",
   "id": "241d8662",
   "metadata": {},
   "source": [
    "## Analysis"
   ]
  },
  {
   "cell_type": "code",
   "execution_count": 30,
   "metadata": {},
   "outputs": [
    {
     "data": {
      "text/plain": [
       "0"
      ]
     },
     "execution_count": 30,
     "metadata": {},
     "output_type": "execute_result"
    }
   ],
   "source": [
    "df['loan_status'].isnull().sum()"
   ]
  },
  {
   "cell_type": "code",
   "execution_count": 31,
   "metadata": {},
   "outputs": [
    {
     "data": {
      "text/plain": [
       "Fully Paid     31566\n",
       "Charged Off     5281\n",
       "Current         1098\n",
       "Name: loan_status, dtype: int64"
      ]
     },
     "execution_count": 31,
     "metadata": {},
     "output_type": "execute_result"
    }
   ],
   "source": [
    "df['loan_status'].value_counts()"
   ]
  },
  {
   "cell_type": "code",
   "execution_count": 32,
   "metadata": {},
   "outputs": [],
   "source": [
    "df.drop(df.index[df['loan_status'] == 'Current'], inplace = True)"
   ]
  },
  {
   "cell_type": "code",
   "execution_count": 33,
   "metadata": {},
   "outputs": [
    {
     "data": {
      "text/plain": [
       "Fully Paid     31566\n",
       "Charged Off     5281\n",
       "Name: loan_status, dtype: int64"
      ]
     },
     "execution_count": 33,
     "metadata": {},
     "output_type": "execute_result"
    }
   ],
   "source": [
    "df['loan_status'].value_counts()"
   ]
  },
  {
   "cell_type": "code",
   "execution_count": 34,
   "metadata": {},
   "outputs": [
    {
     "name": "stdout",
     "output_type": "stream",
     "text": [
      "loan_amnt               0\n",
      "term                    0\n",
      "int_rate                0\n",
      "installment             0\n",
      "grade                   0\n",
      "sub_grade               0\n",
      "emp_length              0\n",
      "home_ownership          0\n",
      "annual_inc              0\n",
      "verification_status     0\n",
      "loan_status             0\n",
      "purpose                 0\n",
      "zip_code                0\n",
      "addr_state              0\n",
      "dti                     0\n",
      "delinq_2yrs             0\n",
      "earliest_cr_line        0\n",
      "inq_last_6mths          0\n",
      "open_acc                0\n",
      "pub_rec                 0\n",
      "total_acc               0\n",
      "pub_rec_bankruptcies    0\n",
      "dtype: int64\n"
     ]
    }
   ],
   "source": [
    "print(df.isnull().sum())"
   ]
  },
  {
   "cell_type": "code",
   "execution_count": 35,
   "metadata": {},
   "outputs": [
    {
     "data": {
      "image/png": "[encoded data removed]",
      "text/plain": [
       "<Figure size 432x288 with 1 Axes>"
      ]
     },
     "metadata": {},
     "output_type": "display_data"
    }
   ],
   "source": [
    "df['loan_status'].value_counts().plot.pie()\n",
    "plt.show()"
   ]
  },
  {
   "cell_type": "code",
   "execution_count": 36,
   "metadata": {},
   "outputs": [
    {
     "data": {
      "image/png": "[encoded data removed]",
      "text/plain": [
       "<Figure size 432x288 with 1 Axes>"
      ]
     },
     "metadata": {},
     "output_type": "display_data"
    }
   ],
   "source": [
    "df['loan_status'].value_counts().plot.barh()\n",
    "plt.show()"
   ]
  },
  {
   "cell_type": "code",
   "execution_count": 37,
   "id": "1b689bd0",
   "metadata": {},
   "outputs": [
    {
     "data": {
      "text/plain": [
       "10000    2671\n",
       "12000    2179\n",
       "5000     1915\n",
       "6000     1806\n",
       "15000    1769\n",
       "         ... \n",
       "27200       1\n",
       "1625        1\n",
       "24650       1\n",
       "19150       1\n",
       "700         1\n",
       "Name: loan_amnt, Length: 856, dtype: int64"
      ]
     },
     "execution_count": 37,
     "metadata": {},
     "output_type": "execute_result"
    }
   ],
   "source": [
    "df['loan_amnt'].value_counts()"
   ]
  },
  {
   "cell_type": "code",
   "execution_count": 38,
   "id": "dbb75ea0",
   "metadata": {},
   "outputs": [
    {
     "data": {
      "text/plain": [
       "count    36847.000000\n",
       "mean     11141.327652\n",
       "std       7369.988994\n",
       "min        500.000000\n",
       "25%       5500.000000\n",
       "50%      10000.000000\n",
       "75%      15000.000000\n",
       "max      35000.000000\n",
       "Name: loan_amnt, dtype: float64"
      ]
     },
     "execution_count": 38,
     "metadata": {},
     "output_type": "execute_result"
    }
   ],
   "source": [
    "df['loan_amnt'].describe()\n"
   ]
  },
  {
   "cell_type": "code",
   "execution_count": 39,
   "id": "0248560e",
   "metadata": {},
   "outputs": [
    {
     "data": {
      "image/png": "[encoded data removed]",
      "text/plain": [
       "<Figure size 432x288 with 1 Axes>"
      ]
     },
     "metadata": {},
     "output_type": "display_data"
    }
   ],
   "source": [
    "plt.boxplot(df['loan_amnt'])\n",
    "plt.show()"
   ]
  },
  {
   "cell_type": "code",
   "execution_count": 40,
   "id": "c3a5c35b",
   "metadata": {},
   "outputs": [
    {
     "data": {
      "image/png": "[encoded data removed]",
      "text/plain": [
       "<Figure size 360x360 with 1 Axes>"
      ]
     },
     "metadata": {},
     "output_type": "display_data"
    }
   ],
   "source": [
    "sns.displot(df['loan_amnt'],bins = 30)\n",
    "plt.show()"
   ]
  },
  {
   "cell_type": "code",
   "execution_count": 41,
   "id": "2a2f76c7",
   "metadata": {},
   "outputs": [
    {
     "data": {
      "text/plain": [
       " 36 months    27590\n",
       " 60 months     9257\n",
       "Name: term, dtype: int64"
      ]
     },
     "execution_count": 41,
     "metadata": {},
     "output_type": "execute_result"
    }
   ],
   "source": [
    "df['term'].value_counts()"
   ]
  },
  {
   "cell_type": "code",
   "execution_count": 42,
   "id": "faafe860",
   "metadata": {},
   "outputs": [
    {
     "data": {
      "text/plain": [
       "0"
      ]
     },
     "execution_count": 42,
     "metadata": {},
     "output_type": "execute_result"
    }
   ],
   "source": [
    "df['term'].isnull().sum()"
   ]
  },
  {
   "cell_type": "code",
   "execution_count": 43,
   "id": "b7c87ff0",
   "metadata": {},
   "outputs": [
    {
     "data": {
      "image/png": "[encoded data removed]",
      "text/plain": [
       "<Figure size 432x288 with 1 Axes>"
      ]
     },
     "metadata": {},
     "output_type": "display_data"
    }
   ],
   "source": [
    "df['term'].value_counts().plot.pie()\n",
    "plt.show()"
   ]
  },
  {
   "cell_type": "code",
   "execution_count": 44,
   "id": "46f51b1d",
   "metadata": {},
   "outputs": [
    {
     "data": {
      "image/png": "[encoded data removed]",
      "text/plain": [
       "<Figure size 432x288 with 1 Axes>"
      ]
     },
     "metadata": {},
     "output_type": "display_data"
    }
   ],
   "source": [
    "df['term'].value_counts().plot.barh()\n",
    "plt.show()"
   ]
  }
 ],
 "metadata": {
  "interpreter": {
   "hash": "5ed4318d83284b8ce803ccb8372dfd51935c9502bc1ffce39b8fe7a7e7d0ed66"
  },
  "kernelspec": {
   "display_name": "Python 3.8.11 64-bit ('preprep': conda)",
   "name": "python3"
  },
  "language_info": {
   "codemirror_mode": {
    "name": "ipython",
    "version": 3
   },
   "file_extension": ".py",
   "mimetype": "text/x-python",
   "name": "python",
   "nbconvert_exporter": "python",
   "pygments_lexer": "ipython3",
   "version": "3.8.11"
  }
 },
 "nbformat": 4,
 "nbformat_minor": 5
}
